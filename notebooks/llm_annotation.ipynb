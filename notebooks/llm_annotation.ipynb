{
 "cells": [
  {
   "cell_type": "markdown",
   "metadata": {},
   "source": [
    "# Annotating certificate references with LLMs\n",
    "## Before you launch\n",
    "1. Create a file `openai_api_key` in the root directory and paste your key there.\n",
    "2. Make sure you have the CC dataset extracted into project `cc_data` in the project root directory.\n",
    "## What is being done here\n",
    "1. Obtain names, certificate IDs, digests, and old digests from the CCDataset.\n",
    "2. Create an annotations dataframe based on the annotations in `src/sec_certs/data/reference_annotations/final/train.csv`.\n",
    "3. Enrich the annotations dataframe with the raw texts in `cc_data/certs/reports/txt`.\n",
    "4. Enrich the annotations dataframe with the old digests (the annotation dataframe uses old ones), target cert IDs, names and target names.\n",
    "5. Call the OpenAI API with structured outputs to label the certificate reference based on instructions in `notebooks/llm_annotation_prompt.txt`\n",
    "6. Analyze the metrics with a confusion matrix."
   ]
  },
  {
   "cell_type": "code",
   "execution_count": 3,
   "metadata": {},
   "outputs": [],
   "source": [
    "from sec_certs.dataset.cc import CCDataset\n",
    "from sec_certs.sample import CCCertificate\n",
    "import pandas as pd\n",
    "import csv\n",
    "import os"
   ]
  },
  {
   "cell_type": "code",
   "execution_count": null,
   "metadata": {},
   "outputs": [
    {
     "data": {
      "application/vnd.jupyter.widget-view+json": {
       "model_id": "ff5d3e43f54f44aebff9a2835b6b1839",
       "version_major": 2,
       "version_minor": 0
      },
      "text/plain": [
       "Downloading: CCDataset:   0%|          | 0.00/178M [00:00<?, ?B/s]"
      ]
     },
     "metadata": {},
     "output_type": "display_data"
    },
    {
     "name": "stderr",
     "output_type": "stream",
     "text": [
      "Method auxiliary_datasets_dir can only be called on backed dataset.\n",
      "Method auxiliary_datasets_dir can only be called on backed dataset.\n",
      "Method auxiliary_datasets_dir can only be called on backed dataset.\n",
      "Method auxiliary_datasets_dir can only be called on backed dataset.\n",
      "Method auxiliary_datasets_dir can only be called on backed dataset.\n",
      "Method auxiliary_datasets_dir can only be called on backed dataset.\n"
     ]
    }
   ],
   "source": [
    "if \"dgst_map.csv\" not in os.listdir():\n",
    "    # get dgst mappings\n",
    "    dset = CCDataset.from_web()\n",
    "    data = [(row.name, row.heuristics.cert_id, row.dgst, row.old_dgst) for row in dset]\n",
    "    with open('dgst_map.csv', 'w', newline='') as file:\n",
    "        writer = csv.writer(file)\n",
    "        writer.writerow(['name', 'cert_id', 'dgst', 'old_dgst'])  # Header\n",
    "        writer.writerows(data)\n",
    "dgst_map_df = pd.read_csv(\"dgst_map.csv\")"
   ]
  },
  {
   "cell_type": "code",
   "execution_count": 64,
   "metadata": {},
   "outputs": [],
   "source": [
    "reports_path = '../cc_data/certs/reports/txt'\n",
    "if not os.path.exists(reports_path):\n",
    "    raise FileNotFoundError(f\"The reports directory {os.path.abspath(reports_path)} does not exist, make sure you have the CC dataset unpacked.\")\n",
    "\n",
    "reports_files = os.listdir(reports_path)\n",
    "# print(reports_files)\n",
    "def add_text_content(dgst: str):\n",
    "    if f\"{dgst}.txt\" not in reports_files:\n",
    "        return \"\"\n",
    "    return open(reports_path + \"/\" + dgst + \".txt\").read()"
   ]
  },
  {
   "cell_type": "code",
   "execution_count": 78,
   "metadata": {},
   "outputs": [],
   "source": [
    "df_annotations = pd.read_csv(\"../src/sec_certs/data/reference_annotations/final/train.csv\") \\\n",
    "    .rename(columns={\"dgst\": \"old_dgst\", \"canonical_reference_keyword\": \"target_cert_id\"}) \\\n",
    "    .merge(dgst_map_df, on=\"old_dgst\") \\\n",
    "    .merge(dgst_map_df[[\"name\", \"cert_id\"]].rename(columns={\"name\": \"target_name\", \"cert_id\": \"target_cert_id\"}), on=\"target_cert_id\")\n",
    "df_annotations[\"text_content\"] = df_annotations[\"dgst\"] \\\n",
    "    .apply(add_text_content)"
   ]
  },
  {
   "cell_type": "code",
   "execution_count": 79,
   "metadata": {},
   "outputs": [
    {
     "data": {
      "text/html": [
       "<div>\n",
       "<style scoped>\n",
       "    .dataframe tbody tr th:only-of-type {\n",
       "        vertical-align: middle;\n",
       "    }\n",
       "\n",
       "    .dataframe tbody tr th {\n",
       "        vertical-align: top;\n",
       "    }\n",
       "\n",
       "    .dataframe thead th {\n",
       "        text-align: right;\n",
       "    }\n",
       "</style>\n",
       "<table border=\"1\" class=\"dataframe\">\n",
       "  <thead>\n",
       "    <tr style=\"text-align: right;\">\n",
       "      <th></th>\n",
       "      <th>old_dgst</th>\n",
       "      <th>target_cert_id</th>\n",
       "      <th>label</th>\n",
       "      <th>comment</th>\n",
       "      <th>name</th>\n",
       "      <th>cert_id</th>\n",
       "      <th>dgst</th>\n",
       "      <th>older_dgst</th>\n",
       "      <th>target_name</th>\n",
       "      <th>text_content</th>\n",
       "    </tr>\n",
       "  </thead>\n",
       "  <tbody>\n",
       "    <tr>\n",
       "      <th>0</th>\n",
       "      <td>00efeb17bcaafce6</td>\n",
       "      <td>ANSSI-CC-2009/34</td>\n",
       "      <td>component_used</td>\n",
       "      <td>NaN</td>\n",
       "      <td>Trusted Logic. Carte à puce JCLXxxjTOPyyIDv2 :...</td>\n",
       "      <td>ANSSI-CC-2009/35</td>\n",
       "      <td>4e9ff22a844c6003</td>\n",
       "      <td>6f55526f9162a4bb</td>\n",
       "      <td>JCLX80jTOP20ID : Java Trusted Open Platform IF...</td>\n",
       "      <td>PREMIER MINISTRE\\nSecrétariat général de la dé...</td>\n",
       "    </tr>\n",
       "    <tr>\n",
       "      <th>1</th>\n",
       "      <td>01e8805514b4ef67</td>\n",
       "      <td>BSI-DSZ-CC-0891-V3-2018</td>\n",
       "      <td>component_used</td>\n",
       "      <td>NaN</td>\n",
       "      <td>ID&amp;Trust IDentity-J with SAC (BAC+PACE) and AA...</td>\n",
       "      <td>JISEC-CC-CRP-C0649-01-2019</td>\n",
       "      <td>abb304884762a560</td>\n",
       "      <td>42586e3d73fb8bd4</td>\n",
       "      <td>Infineon Security Controller M7892 Design Step...</td>\n",
       "      <td>JISEC-CC-CRP-C0649-01-2019\\nCertification Repo...</td>\n",
       "    </tr>\n",
       "    <tr>\n",
       "      <th>2</th>\n",
       "      <td>037577fc2019fcfa</td>\n",
       "      <td>ANSSI-CC-2021/49</td>\n",
       "      <td>previous_version</td>\n",
       "      <td>NaN</td>\n",
       "      <td>NPCT7xx TPM2.0 rev 1.59 (configuration version...</td>\n",
       "      <td>ANSSI-CC-2022/28</td>\n",
       "      <td>88b3519651a7b7c0</td>\n",
       "      <td>cca6ba2fdb06af5a</td>\n",
       "      <td>NPCT7xx TPM2.0 rev 1.59 (configuration version...</td>\n",
       "      <td>Secrétariat général de la défense\\net de la sé...</td>\n",
       "    </tr>\n",
       "    <tr>\n",
       "      <th>3</th>\n",
       "      <td>055985699aee1e09</td>\n",
       "      <td>ANSSI-CC-2010/02</td>\n",
       "      <td>component_used</td>\n",
       "      <td>NaN</td>\n",
       "      <td>Carte CC IDeal Citiz (sur composants SB23YR80B...</td>\n",
       "      <td>ANSSI-CC-2011/62</td>\n",
       "      <td>338e26cd240f6572</td>\n",
       "      <td>700f9a9a01a58722</td>\n",
       "      <td>STMicroelectronics SA23YR48/80B and SB23YR48/8...</td>\n",
       "      <td>PREMIER MINISTRE\\nSecrétariat général de la dé...</td>\n",
       "    </tr>\n",
       "    <tr>\n",
       "      <th>4</th>\n",
       "      <td>05726637bd47a762</td>\n",
       "      <td>BSI-DSZ-CC-0891-V3-2018</td>\n",
       "      <td>component_used</td>\n",
       "      <td>NaN</td>\n",
       "      <td>Java Card Platform Implementation for Infineon...</td>\n",
       "      <td>BSI-DSZ-CC-0869-V2-2019</td>\n",
       "      <td>179ef93627203d9f</td>\n",
       "      <td>377db3692d1a6bf6</td>\n",
       "      <td>Infineon Security Controller M7892 Design Step...</td>\n",
       "      <td>BSI-DSZ-CC-0869-V2-2019\\nfor\\nJava Card Platfo...</td>\n",
       "    </tr>\n",
       "  </tbody>\n",
       "</table>\n",
       "</div>"
      ],
      "text/plain": [
       "           old_dgst           target_cert_id             label comment  \\\n",
       "0  00efeb17bcaafce6         ANSSI-CC-2009/34    component_used     NaN   \n",
       "1  01e8805514b4ef67  BSI-DSZ-CC-0891-V3-2018    component_used     NaN   \n",
       "2  037577fc2019fcfa         ANSSI-CC-2021/49  previous_version     NaN   \n",
       "3  055985699aee1e09         ANSSI-CC-2010/02    component_used     NaN   \n",
       "4  05726637bd47a762  BSI-DSZ-CC-0891-V3-2018    component_used     NaN   \n",
       "\n",
       "                                                name  \\\n",
       "0  Trusted Logic. Carte à puce JCLXxxjTOPyyIDv2 :...   \n",
       "1  ID&Trust IDentity-J with SAC (BAC+PACE) and AA...   \n",
       "2  NPCT7xx TPM2.0 rev 1.59 (configuration version...   \n",
       "3  Carte CC IDeal Citiz (sur composants SB23YR80B...   \n",
       "4  Java Card Platform Implementation for Infineon...   \n",
       "\n",
       "                      cert_id              dgst        older_dgst  \\\n",
       "0            ANSSI-CC-2009/35  4e9ff22a844c6003  6f55526f9162a4bb   \n",
       "1  JISEC-CC-CRP-C0649-01-2019  abb304884762a560  42586e3d73fb8bd4   \n",
       "2            ANSSI-CC-2022/28  88b3519651a7b7c0  cca6ba2fdb06af5a   \n",
       "3            ANSSI-CC-2011/62  338e26cd240f6572  700f9a9a01a58722   \n",
       "4     BSI-DSZ-CC-0869-V2-2019  179ef93627203d9f  377db3692d1a6bf6   \n",
       "\n",
       "                                         target_name  \\\n",
       "0  JCLX80jTOP20ID : Java Trusted Open Platform IF...   \n",
       "1  Infineon Security Controller M7892 Design Step...   \n",
       "2  NPCT7xx TPM2.0 rev 1.59 (configuration version...   \n",
       "3  STMicroelectronics SA23YR48/80B and SB23YR48/8...   \n",
       "4  Infineon Security Controller M7892 Design Step...   \n",
       "\n",
       "                                        text_content  \n",
       "0  PREMIER MINISTRE\\nSecrétariat général de la dé...  \n",
       "1  JISEC-CC-CRP-C0649-01-2019\\nCertification Repo...  \n",
       "2  Secrétariat général de la défense\\net de la sé...  \n",
       "3  PREMIER MINISTRE\\nSecrétariat général de la dé...  \n",
       "4  BSI-DSZ-CC-0869-V2-2019\\nfor\\nJava Card Platfo...  "
      ]
     },
     "execution_count": 79,
     "metadata": {},
     "output_type": "execute_result"
    }
   ],
   "source": [
    "df_annotations.head()"
   ]
  },
  {
   "cell_type": "code",
   "execution_count": 8,
   "metadata": {},
   "outputs": [],
   "source": [
    "from enum import Enum\n",
    "from pydantic import Field, BaseModel\n",
    "from openai import AsyncOpenAI, RateLimitError\n",
    "import asyncio\n",
    "from openai.lib._pydantic import to_strict_json_schema\n",
    "\n",
    "class LabelType(Enum):\n",
    "    COMPONENT_USED = \"component_used\"\n",
    "    RE_EVALUATION = \"re-evaluation\"\n",
    "    EVALUATION_REUSED = \"evaluation_reused\"\n",
    "    PREVIOUS_VERSION = \"previous_version\"\n",
    "    COMPONENT_SHARED = \"component_shared\"\n",
    "    IRRELEVANT = \"irrelevant\"\n",
    "    NONE = \"none\"\n",
    "\n",
    "class SimplifiedLabelType(Enum):\n",
    "    COMPONENT_REUSE = \"component_reuse\"\n",
    "    PREDECESSOR = \"predecessor\" \n",
    "    NONE = \"none\"\n",
    "\n",
    "def convert_label_type(label: LabelType|str) -> SimplifiedLabelType:\n",
    "    if isinstance(label, LabelType):\n",
    "        label_value = label\n",
    "    else:\n",
    "        try:\n",
    "            label_value = LabelType(label)\n",
    "        except ValueError:\n",
    "            return SimplifiedLabelType.NONE\n",
    "    \n",
    "    if label_value in [LabelType.COMPONENT_USED, LabelType.EVALUATION_REUSED, LabelType.COMPONENT_SHARED]:\n",
    "        return SimplifiedLabelType.COMPONENT_REUSE\n",
    "    elif label_value in [LabelType.RE_EVALUATION, LabelType.PREVIOUS_VERSION]:\n",
    "        return SimplifiedLabelType.PREDECESSOR\n",
    "    return SimplifiedLabelType.NONE\n",
    "\n",
    "class LabelDetectionResult(BaseModel):\n",
    "    explanation: str = Field(description=\"Explain why this label was chosen.\")\n",
    "    label: LabelType = Field(description=\"Categorization of the relationship between the examined and referenced certificates.\")\n",
    "\n",
    "#label_detection_strict_schema = to_strict_json_schema(LabelDetectionResult)"
   ]
  },
  {
   "cell_type": "code",
   "execution_count": 81,
   "metadata": {},
   "outputs": [
    {
     "data": {
      "text/plain": [
       "label\n",
       "component_used       58\n",
       "re-evaluation        16\n",
       "evaluation_reused    11\n",
       "previous_version      6\n",
       "component_shared      5\n",
       "irrelevant            2\n",
       "Name: count, dtype: int64"
      ]
     },
     "execution_count": 81,
     "metadata": {},
     "output_type": "execute_result"
    }
   ],
   "source": [
    "df_annotations.label.value_counts()"
   ]
  },
  {
   "cell_type": "code",
   "execution_count": 80,
   "metadata": {},
   "outputs": [
    {
     "data": {
      "text/plain": [
       "label\n",
       "component_reuse    74\n",
       "predecessor        22\n",
       "none                3\n",
       "Name: count, dtype: int64"
      ]
     },
     "execution_count": 80,
     "metadata": {},
     "output_type": "execute_result"
    }
   ],
   "source": [
    "df_annotations.label.apply(convert_label_type).apply(lambda x: x.value).value_counts()"
   ]
  },
  {
   "cell_type": "code",
   "execution_count": 102,
   "metadata": {},
   "outputs": [
    {
     "name": "stdout",
     "output_type": "stream",
     "text": [
      "API Key loaded: sk-proj-tco-...\n"
     ]
    }
   ],
   "source": [
    "def load_api_key(filename: str) -> str:\n",
    "    try:\n",
    "        with open(filename, 'r') as file:\n",
    "            api_key = file.readline().strip()\n",
    "            return api_key\n",
    "    except FileNotFoundError:\n",
    "        raise Exception(f\"OpenAI API key not found at {filename}.\")\n",
    "\n",
    "api_key = load_api_key('../openai_api_key')\n",
    "openapi_model = \"gpt-4o-mini\"\n",
    "print(f\"API Key loaded: {api_key[:12]}...\")\n",
    "client = AsyncOpenAI(api_key=api_key)"
   ]
  },
  {
   "cell_type": "code",
   "execution_count": 89,
   "metadata": {},
   "outputs": [],
   "source": [
    "system_message = {\n",
    "    \"role\": \"system\",\n",
    "    \"content\": open(\"llm_annotation_prompt.txt\").read()\n",
    "}\n",
    "async def get_ai_label(text_content: str, name: str, target_name: str, cert_id: str, target_cert_id: str, verbose=False):\n",
    "    messages = [\n",
    "        system_message, \n",
    "        {\"role\": \"user\", \"content\": f\"\"\"The target certificate id is '{target_cert_id}'.\n",
    "        The reviewed certificate id is '{cert_id}'\n",
    "        The target name is '{target_name}'.\n",
    "        The reviewed name is '{name}'\n",
    "        ---\n",
    "        The reviewed certificate full text is: '{text_content}'\"\"\"}\n",
    "    ]\n",
    "    while True:\n",
    "        try:\n",
    "            completion = await client.beta.chat.completions.parse(\n",
    "                model=openapi_model,\n",
    "                messages=messages,\n",
    "                response_format=LabelDetectionResult\n",
    "            )\n",
    "            return completion.choices[0].message.parsed\n",
    "        except RateLimitError as e:\n",
    "            wait_time = 60\n",
    "            if verbose:\n",
    "                print(f\"Rate limit hit, retrying in {wait_time}s..\")\n",
    "            await asyncio.sleep(wait_time)"
   ]
  },
  {
   "cell_type": "code",
   "execution_count": 90,
   "metadata": {},
   "outputs": [],
   "source": [
    "from tqdm.asyncio import tqdm"
   ]
  },
  {
   "cell_type": "code",
   "execution_count": 91,
   "metadata": {},
   "outputs": [],
   "source": [
    "async def process_row_async(text_content: str, name: str, target_name: str, cert_id: str, target_cert_id: str):\n",
    "    result = await get_ai_label(text_content, name, target_name, cert_id, target_cert_id)\n",
    "    return result.label.value, result.explanation"
   ]
  },
  {
   "cell_type": "code",
   "execution_count": 92,
   "metadata": {},
   "outputs": [],
   "source": [
    "async def process_dataframe_async(df):\n",
    "    tasks = [process_row_async(\n",
    "        row[\"text_content\"], \n",
    "        row[\"name\"], \n",
    "        row[\"target_name\"],\n",
    "        row[\"cert_id\"],\n",
    "        row[\"target_cert_id\"]) for _, row in df.iterrows()]\n",
    "    results = []\n",
    "    for coro in tqdm(asyncio.as_completed(tasks), total=len(tasks)):  # tracks actual completion\n",
    "        results.append(await coro)\n",
    "\n",
    "    return results"
   ]
  },
  {
   "cell_type": "code",
   "execution_count": 93,
   "metadata": {},
   "outputs": [],
   "source": [
    "import nest_asyncio # otherwise async tasks can't be called from a running event loop (jupyter)\n",
    "nest_asyncio.apply()"
   ]
  },
  {
   "cell_type": "code",
   "execution_count": 94,
   "metadata": {},
   "outputs": [
    {
     "name": "stderr",
     "output_type": "stream",
     "text": [
      "100%|██████████| 99/99 [05:47<00:00,  3.51s/it]\n"
     ]
    }
   ],
   "source": [
    "# running this cell costs about 0.15EUR with gpt4o-mini\n",
    "results = asyncio.run(process_dataframe_async(df_annotations))\n",
    "df_annotations[\"gpt4omini_label\"], df_annotations[\"gpt4omini_reason\"] = zip(*results)"
   ]
  },
  {
   "cell_type": "code",
   "execution_count": 95,
   "metadata": {},
   "outputs": [
    {
     "data": {
      "text/html": [
       "<div>\n",
       "<style scoped>\n",
       "    .dataframe tbody tr th:only-of-type {\n",
       "        vertical-align: middle;\n",
       "    }\n",
       "\n",
       "    .dataframe tbody tr th {\n",
       "        vertical-align: top;\n",
       "    }\n",
       "\n",
       "    .dataframe thead th {\n",
       "        text-align: right;\n",
       "    }\n",
       "</style>\n",
       "<table border=\"1\" class=\"dataframe\">\n",
       "  <thead>\n",
       "    <tr style=\"text-align: right;\">\n",
       "      <th></th>\n",
       "      <th>target_cert_id</th>\n",
       "      <th>cert_id</th>\n",
       "      <th>name</th>\n",
       "      <th>target_name</th>\n",
       "      <th>label</th>\n",
       "      <th>comment</th>\n",
       "      <th>gpt4omini_label</th>\n",
       "      <th>gpt4omini_reason</th>\n",
       "    </tr>\n",
       "  </thead>\n",
       "  <tbody>\n",
       "    <tr>\n",
       "      <th>0</th>\n",
       "      <td>ANSSI-CC-2009/34</td>\n",
       "      <td>ANSSI-CC-2009/35</td>\n",
       "      <td>Trusted Logic. Carte à puce JCLXxxjTOPyyIDv2 :...</td>\n",
       "      <td>JCLX80jTOP20ID : Java Trusted Open Platform IF...</td>\n",
       "      <td>component_used</td>\n",
       "      <td>NaN</td>\n",
       "      <td>component_used</td>\n",
       "      <td>The examined certificate mentions the Infineon...</td>\n",
       "    </tr>\n",
       "    <tr>\n",
       "      <th>1</th>\n",
       "      <td>BSI-DSZ-CC-0891-V3-2018</td>\n",
       "      <td>JISEC-CC-CRP-C0649-01-2019</td>\n",
       "      <td>ID&amp;Trust IDentity-J with SAC (BAC+PACE) and AA...</td>\n",
       "      <td>Infineon Security Controller M7892 Design Step...</td>\n",
       "      <td>component_used</td>\n",
       "      <td>NaN</td>\n",
       "      <td>re-evaluation</td>\n",
       "      <td>The reviewed certificate ANSSI-CC-2019/19 is a...</td>\n",
       "    </tr>\n",
       "    <tr>\n",
       "      <th>2</th>\n",
       "      <td>ANSSI-CC-2021/49</td>\n",
       "      <td>ANSSI-CC-2022/28</td>\n",
       "      <td>NPCT7xx TPM2.0 rev 1.59 (configuration version...</td>\n",
       "      <td>NPCT7xx TPM2.0 rev 1.59 (configuration version...</td>\n",
       "      <td>previous_version</td>\n",
       "      <td>NaN</td>\n",
       "      <td>component_used</td>\n",
       "      <td>The reviewed certificate indicates that it is ...</td>\n",
       "    </tr>\n",
       "    <tr>\n",
       "      <th>3</th>\n",
       "      <td>ANSSI-CC-2010/02</td>\n",
       "      <td>ANSSI-CC-2011/62</td>\n",
       "      <td>Carte CC IDeal Citiz (sur composants SB23YR80B...</td>\n",
       "      <td>STMicroelectronics SA23YR48/80B and SB23YR48/8...</td>\n",
       "      <td>component_used</td>\n",
       "      <td>NaN</td>\n",
       "      <td>re-evaluation</td>\n",
       "      <td>The reviewed certificate (ANSSI-CC-2020/71) is...</td>\n",
       "    </tr>\n",
       "    <tr>\n",
       "      <th>4</th>\n",
       "      <td>BSI-DSZ-CC-0891-V3-2018</td>\n",
       "      <td>BSI-DSZ-CC-0869-V2-2019</td>\n",
       "      <td>Java Card Platform Implementation for Infineon...</td>\n",
       "      <td>Infineon Security Controller M7892 Design Step...</td>\n",
       "      <td>component_used</td>\n",
       "      <td>NaN</td>\n",
       "      <td>re-evaluation</td>\n",
       "      <td>The reviewed certificate ANSSI-CC-2022/29 is e...</td>\n",
       "    </tr>\n",
       "    <tr>\n",
       "      <th>...</th>\n",
       "      <td>...</td>\n",
       "      <td>...</td>\n",
       "      <td>...</td>\n",
       "      <td>...</td>\n",
       "      <td>...</td>\n",
       "      <td>...</td>\n",
       "      <td>...</td>\n",
       "      <td>...</td>\n",
       "    </tr>\n",
       "    <tr>\n",
       "      <th>94</th>\n",
       "      <td>ANSSI-CC-2012/68</td>\n",
       "      <td>ANSSI-CC-2014/25</td>\n",
       "      <td>SOMA801STM - application BAC, version 1.0</td>\n",
       "      <td>Microcontrôleurs sécurisés SA23YR80/48 et SB23...</td>\n",
       "      <td>component_used</td>\n",
       "      <td>NaN</td>\n",
       "      <td>re-evaluation</td>\n",
       "      <td>The reviewed certificate (BSI-DSZ-CC-0976-V2-2...</td>\n",
       "    </tr>\n",
       "    <tr>\n",
       "      <th>95</th>\n",
       "      <td>ANSSI-CC-2017/47</td>\n",
       "      <td>ANSSI-CC-2017/72</td>\n",
       "      <td>Taiwan eID Applet PACE with CAM, CA and AA on ...</td>\n",
       "      <td>Plateforme ID-One Cosmo v8.1-N-Standard LDS ma...</td>\n",
       "      <td>component_used</td>\n",
       "      <td>NaN</td>\n",
       "      <td>component_used</td>\n",
       "      <td>The reviewed certificate (BSI-DSZ-CC-0912-2014...</td>\n",
       "    </tr>\n",
       "    <tr>\n",
       "      <th>96</th>\n",
       "      <td>BSI-DSZ-CC-0945-V2-2018</td>\n",
       "      <td>NSCIB-CC-200689-CR</td>\n",
       "      <td>Idemia CombICAO Applet in EAC configuration on...</td>\n",
       "      <td>Infineon smart card IC (Security Controller) I...</td>\n",
       "      <td>irrelevant</td>\n",
       "      <td>NaN</td>\n",
       "      <td>previous_version</td>\n",
       "      <td>The referenced certificate BSI-DSZ-CC-0911-201...</td>\n",
       "    </tr>\n",
       "    <tr>\n",
       "      <th>97</th>\n",
       "      <td>BSI-DSZ-CC-0950-V2-2018</td>\n",
       "      <td>BSI-DSZ-CC-0596-V2-2018</td>\n",
       "      <td>ORGA 930 M online and Cherry ST-1530</td>\n",
       "      <td>KoCoBox MED+ Netzkonnektor, 1.3.4</td>\n",
       "      <td>NaN</td>\n",
       "      <td>unclear, mentions just ToE delivery</td>\n",
       "      <td>re-evaluation</td>\n",
       "      <td>The reviewed certificate BSI-DSZ-CC-1035-2017 ...</td>\n",
       "    </tr>\n",
       "    <tr>\n",
       "      <th>98</th>\n",
       "      <td>BSI-DSZ-CC-0827-V8-2020</td>\n",
       "      <td>BSI-DSZ-CC-1158-2020</td>\n",
       "      <td>Digital Tachograph DTCO 1381, Release 4.0e</td>\n",
       "      <td>Infineon Technologies Smart Card IC (Security ...</td>\n",
       "      <td>irrelevant</td>\n",
       "      <td>unclear</td>\n",
       "      <td>re-evaluation</td>\n",
       "      <td>The reviewed certificate BSI-DSZ-CC-0879-2014 ...</td>\n",
       "    </tr>\n",
       "  </tbody>\n",
       "</table>\n",
       "<p>99 rows × 8 columns</p>\n",
       "</div>"
      ],
      "text/plain": [
       "             target_cert_id                     cert_id  \\\n",
       "0          ANSSI-CC-2009/34            ANSSI-CC-2009/35   \n",
       "1   BSI-DSZ-CC-0891-V3-2018  JISEC-CC-CRP-C0649-01-2019   \n",
       "2          ANSSI-CC-2021/49            ANSSI-CC-2022/28   \n",
       "3          ANSSI-CC-2010/02            ANSSI-CC-2011/62   \n",
       "4   BSI-DSZ-CC-0891-V3-2018     BSI-DSZ-CC-0869-V2-2019   \n",
       "..                      ...                         ...   \n",
       "94         ANSSI-CC-2012/68            ANSSI-CC-2014/25   \n",
       "95         ANSSI-CC-2017/47            ANSSI-CC-2017/72   \n",
       "96  BSI-DSZ-CC-0945-V2-2018          NSCIB-CC-200689-CR   \n",
       "97  BSI-DSZ-CC-0950-V2-2018     BSI-DSZ-CC-0596-V2-2018   \n",
       "98  BSI-DSZ-CC-0827-V8-2020        BSI-DSZ-CC-1158-2020   \n",
       "\n",
       "                                                 name  \\\n",
       "0   Trusted Logic. Carte à puce JCLXxxjTOPyyIDv2 :...   \n",
       "1   ID&Trust IDentity-J with SAC (BAC+PACE) and AA...   \n",
       "2   NPCT7xx TPM2.0 rev 1.59 (configuration version...   \n",
       "3   Carte CC IDeal Citiz (sur composants SB23YR80B...   \n",
       "4   Java Card Platform Implementation for Infineon...   \n",
       "..                                                ...   \n",
       "94          SOMA801STM - application BAC, version 1.0   \n",
       "95  Taiwan eID Applet PACE with CAM, CA and AA on ...   \n",
       "96  Idemia CombICAO Applet in EAC configuration on...   \n",
       "97               ORGA 930 M online and Cherry ST-1530   \n",
       "98         Digital Tachograph DTCO 1381, Release 4.0e   \n",
       "\n",
       "                                          target_name             label  \\\n",
       "0   JCLX80jTOP20ID : Java Trusted Open Platform IF...    component_used   \n",
       "1   Infineon Security Controller M7892 Design Step...    component_used   \n",
       "2   NPCT7xx TPM2.0 rev 1.59 (configuration version...  previous_version   \n",
       "3   STMicroelectronics SA23YR48/80B and SB23YR48/8...    component_used   \n",
       "4   Infineon Security Controller M7892 Design Step...    component_used   \n",
       "..                                                ...               ...   \n",
       "94  Microcontrôleurs sécurisés SA23YR80/48 et SB23...    component_used   \n",
       "95  Plateforme ID-One Cosmo v8.1-N-Standard LDS ma...    component_used   \n",
       "96  Infineon smart card IC (Security Controller) I...        irrelevant   \n",
       "97                  KoCoBox MED+ Netzkonnektor, 1.3.4               NaN   \n",
       "98  Infineon Technologies Smart Card IC (Security ...        irrelevant   \n",
       "\n",
       "                                comment   gpt4omini_label  \\\n",
       "0                                   NaN    component_used   \n",
       "1                                   NaN     re-evaluation   \n",
       "2                                   NaN    component_used   \n",
       "3                                   NaN     re-evaluation   \n",
       "4                                   NaN     re-evaluation   \n",
       "..                                  ...               ...   \n",
       "94                                  NaN     re-evaluation   \n",
       "95                                  NaN    component_used   \n",
       "96                                  NaN  previous_version   \n",
       "97  unclear, mentions just ToE delivery     re-evaluation   \n",
       "98                              unclear     re-evaluation   \n",
       "\n",
       "                                     gpt4omini_reason  \n",
       "0   The examined certificate mentions the Infineon...  \n",
       "1   The reviewed certificate ANSSI-CC-2019/19 is a...  \n",
       "2   The reviewed certificate indicates that it is ...  \n",
       "3   The reviewed certificate (ANSSI-CC-2020/71) is...  \n",
       "4   The reviewed certificate ANSSI-CC-2022/29 is e...  \n",
       "..                                                ...  \n",
       "94  The reviewed certificate (BSI-DSZ-CC-0976-V2-2...  \n",
       "95  The reviewed certificate (BSI-DSZ-CC-0912-2014...  \n",
       "96  The referenced certificate BSI-DSZ-CC-0911-201...  \n",
       "97  The reviewed certificate BSI-DSZ-CC-1035-2017 ...  \n",
       "98  The reviewed certificate BSI-DSZ-CC-0879-2014 ...  \n",
       "\n",
       "[99 rows x 8 columns]"
      ]
     },
     "execution_count": 95,
     "metadata": {},
     "output_type": "execute_result"
    }
   ],
   "source": [
    "df_annotations[[\"target_cert_id\", \"cert_id\", \"name\", \"target_name\", \"label\", \"comment\", \"gpt4omini_label\", \"gpt4omini_reason\"]]"
   ]
  },
  {
   "cell_type": "code",
   "execution_count": 96,
   "metadata": {},
   "outputs": [],
   "source": [
    "import seaborn as sns\n",
    "import matplotlib.pyplot as plt"
   ]
  },
  {
   "cell_type": "code",
   "execution_count": null,
   "metadata": {},
   "outputs": [
    {
     "data": {
      "image/png": "[encoded data removed]",
      "text/plain": [
       "<Figure size 600x400 with 2 Axes>"
      ]
     },
     "metadata": {},
     "output_type": "display_data"
    },
    {
     "name": "stdout",
     "output_type": "stream",
     "text": [
      "Accuracy: 0.3535\n"
     ]
    }
   ],
   "source": [
    "conf_matrix = pd.crosstab(df_annotations[\"label\"], df_annotations[\"gpt4omini_label\"])\n",
    "accuracy = (df_annotations[\"label\"] == df_annotations[\"gpt4omini_label\"]).mean()\n",
    "\n",
    "plt.figure(figsize=(6, 4))\n",
    "sns.heatmap(conf_matrix, annot=True, cmap='Blues')  # Use 'annot=True' to show the values inside the heatmap\n",
    "plt.title('Confusion Matrix')\n",
    "plt.ylabel('True label')\n",
    "plt.xlabel('Predicted label')\n",
    "plt.show()\n",
    "print(f\"Accuracy: {accuracy:.4f}\")"
   ]
  },
  {
   "cell_type": "code",
   "execution_count": 98,
   "metadata": {},
   "outputs": [],
   "source": [
    "df_annotations[\"label_simple\"] = df_annotations[\"label\"].apply(convert_label_type).apply(lambda x: x.value)\n",
    "df_annotations[\"gpt4omini_label_simple\"] = df_annotations[\"gpt4omini_label\"].apply(convert_label_type).apply(lambda x: x.value)"
   ]
  },
  {
   "cell_type": "code",
   "execution_count": 101,
   "metadata": {},
   "outputs": [
    {
     "data": {
      "image/png": "[encoded data removed]",
      "text/plain": [
       "<Figure size 600x400 with 2 Axes>"
      ]
     },
     "metadata": {},
     "output_type": "display_data"
    },
    {
     "name": "stdout",
     "output_type": "stream",
     "text": [
      "Accuracy: 0.4747\n"
     ]
    }
   ],
   "source": [
    "conf_matrix = pd.crosstab(df_annotations[\"label_simple\"], df_annotations[\"gpt4omini_label_simple\"])\n",
    "accuracy = (df_annotations[\"label_simple\"] == df_annotations[\"gpt4omini_label_simple\"]).mean()\n",
    "\n",
    "plt.figure(figsize=(6, 4))\n",
    "sns.heatmap(conf_matrix, annot=True, cmap='Blues')  # Use 'annot=True' to show the values inside the heatmap\n",
    "plt.title('Confusion Matrix')\n",
    "plt.ylabel('True label')\n",
    "plt.xlabel('Predicted label')\n",
    "plt.show()\n",
    "print(f\"Accuracy: {accuracy:.4f}\")"
   ]
  }
 ],
 "metadata": {
  "kernelspec": {
   "display_name": "venv",
   "language": "python",
   "name": "python3"
  },
  "language_info": {
   "codemirror_mode": {
    "name": "ipython",
    "version": 3
   },
   "file_extension": ".py",
   "mimetype": "text/x-python",
   "name": "python",
   "nbconvert_exporter": "python",
   "pygments_lexer": "ipython3",
   "version": "3.10.12"
  }
 },
 "nbformat": 4,
 "nbformat_minor": 2
}
