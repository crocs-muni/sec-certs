{
 "cells": [
  {
   "cell_type": "markdown",
   "metadata": {},
   "source": [
    "## Parse FIPS 'Implementation Under Test' pages.\n",
    "\n",
    "To use, download pages from the URL: https://csrc.nist.gov/Projects/cryptographic-module-validation-program/modules-in-process/IUT-List\n",
    "into a `directory` and name them `fips_iut_<iso-timestamp>.html`.\n",
    "\n",
    "Then run the cells below"
   ]
  },
  {
   "cell_type": "code",
   "execution_count": null,
   "metadata": {},
   "outputs": [],
   "source": [
    "from sec_certs.dataset import IUTDataset\n",
    "from pathlib import Path"
   ]
  },
  {
   "cell_type": "code",
   "execution_count": null,
   "metadata": {},
   "outputs": [],
   "source": [
    "directory = Path(\"/path/to/directory/with/fips_iut_<iso-timestamp>.html\")\n",
    "dataset = IUTDataset.from_dumps(directory)\n",
    "dataset.to_json(\"output.json\")"
   ]
  }
 ],
 "metadata": {
  "language_info": {
   "name": "python"
  },
  "orig_nbformat": 4
 },
 "nbformat": 4,
 "nbformat_minor": 2
}
