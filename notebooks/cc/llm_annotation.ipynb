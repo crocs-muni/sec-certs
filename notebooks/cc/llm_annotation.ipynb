{
 "cells": [
  {
   "cell_type": "markdown",
   "metadata": {},
   "source": [
    "# Annotating certificate references with LLMs\n",
    "## Before you launch\n",
    "1. Create a file `openai_api_key` in the root directory and paste your key there.\n",
    "2. Make sure you have the CC dataset extracted into project `cc_data` in the project root directory.\n",
    "## What is being done here\n",
    "1. Obtain names, certificate IDs, digests, and old digests from the CCDataset.\n",
    "2. Create an annotations dataframe based on the annotations in `src/sec_certs/data/reference_annotations/final/train.csv`.\n",
    "3. Enrich the annotations dataframe with the raw texts in `cc_data/certs/reports/txt`.\n",
    "4. Enrich the annotations dataframe with the old digests (the annotation dataframe uses old ones), target cert IDs, names and target names.\n",
    "5. Call the OpenAI API with structured outputs to label the certificate reference based on instructions in `notebooks/llm_annotation_prompt.txt`\n",
    "6. Analyze the metrics with a confusion matrix."
   ]
  },
  {
   "cell_type": "code",
   "execution_count": 2,
   "metadata": {},
   "outputs": [],
   "source": [
    "from sec_certs.dataset.cc import CCDataset\n",
    "from sec_certs.sample import CCCertificate\n",
    "import pandas as pd\n",
    "import csv\n",
    "import os"
   ]
  },
  {
   "cell_type": "code",
   "execution_count": 3,
   "metadata": {},
   "outputs": [],
   "source": [
    "if \"dgst_map.csv\" not in os.listdir():\n",
    "    # get dgst mappings\n",
    "    dset = CCDataset.from_web()\n",
    "    data = [(row.name, row.heuristics.cert_id, row.dgst, row.old_dgst) for row in dset]\n",
    "    with open('dgst_map.csv', 'w', newline='') as file:\n",
    "        writer = csv.writer(file)\n",
    "        writer.writerow(['name', 'cert_id', 'dgst', 'old_dgst'])  # Header\n",
    "        writer.writerows(data)\n",
    "dgst_map_df = pd.read_csv(\"dgst_map.csv\")"
   ]
  },
  {
   "cell_type": "code",
   "execution_count": 4,
   "metadata": {},
   "outputs": [],
   "source": [
    "reports_path = '../../cc_data/certs/reports/txt'\n",
    "if not os.path.exists(reports_path):\n",
    "    raise FileNotFoundError(f\"The reports directory {os.path.abspath(reports_path)} does not exist, make sure you have the CC dataset unpacked.\")\n",
    "\n",
    "reports_files = os.listdir(reports_path)\n",
    "# print(reports_files)\n",
    "def add_text_content(dgst: str):\n",
    "    if f\"{dgst}.txt\" not in reports_files:\n",
    "        return \"\"\n",
    "    return open(reports_path + \"/\" + dgst + \".txt\").read()"
   ]
  },
  {
   "cell_type": "code",
   "execution_count": 5,
   "metadata": {},
   "outputs": [],
   "source": [
    "df_annotations = pd.read_csv(\"../../src/sec_certs/data/reference_annotations/final/train.csv\") \\\n",
    "    .rename(columns={\"dgst\": \"old_dgst\", \"canonical_reference_keyword\": \"target_cert_id\"}) \\\n",
    "    .merge(dgst_map_df, on=\"old_dgst\") \\\n",
    "    .merge(dgst_map_df[[\"name\", \"cert_id\"]].rename(columns={\"name\": \"target_name\", \"cert_id\": \"target_cert_id\"}), on=\"target_cert_id\")\n",
    "df_annotations[\"text_content\"] = df_annotations[\"dgst\"] \\\n",
    "    .apply(add_text_content)"
   ]
  },
  {
   "cell_type": "code",
   "execution_count": 6,
   "metadata": {},
   "outputs": [
    {
     "data": {
      "text/html": [
       "<div>\n",
       "<style scoped>\n",
       "    .dataframe tbody tr th:only-of-type {\n",
       "        vertical-align: middle;\n",
       "    }\n",
       "\n",
       "    .dataframe tbody tr th {\n",
       "        vertical-align: top;\n",
       "    }\n",
       "\n",
       "    .dataframe thead th {\n",
       "        text-align: right;\n",
       "    }\n",
       "</style>\n",
       "<table border=\"1\" class=\"dataframe\">\n",
       "  <thead>\n",
       "    <tr style=\"text-align: right;\">\n",
       "      <th></th>\n",
       "      <th>old_dgst</th>\n",
       "      <th>target_cert_id</th>\n",
       "      <th>label</th>\n",
       "      <th>comment</th>\n",
       "      <th>name</th>\n",
       "      <th>cert_id</th>\n",
       "      <th>dgst</th>\n",
       "      <th>older_dgst</th>\n",
       "      <th>target_name</th>\n",
       "      <th>text_content</th>\n",
       "    </tr>\n",
       "  </thead>\n",
       "  <tbody>\n",
       "    <tr>\n",
       "      <th>0</th>\n",
       "      <td>00efeb17bcaafce6</td>\n",
       "      <td>ANSSI-CC-2009/34</td>\n",
       "      <td>component_used</td>\n",
       "      <td>NaN</td>\n",
       "      <td>Trusted Logic. Carte à puce JCLXxxjTOPyyIDv2 :...</td>\n",
       "      <td>ANSSI-CC-2009/35</td>\n",
       "      <td>4e9ff22a844c6003</td>\n",
       "      <td>6f55526f9162a4bb</td>\n",
       "      <td>JCLX80jTOP20ID : Java Trusted Open Platform IF...</td>\n",
       "      <td>PREMIER MINISTRE\\nSecrétariat général de la dé...</td>\n",
       "    </tr>\n",
       "    <tr>\n",
       "      <th>1</th>\n",
       "      <td>01e8805514b4ef67</td>\n",
       "      <td>BSI-DSZ-CC-0891-V3-2018</td>\n",
       "      <td>component_used</td>\n",
       "      <td>NaN</td>\n",
       "      <td>ID&amp;Trust IDentity-J with SAC (BAC+PACE) and AA...</td>\n",
       "      <td>JISEC-CC-CRP-C0649-01-2019</td>\n",
       "      <td>abb304884762a560</td>\n",
       "      <td>42586e3d73fb8bd4</td>\n",
       "      <td>Infineon Security Controller M7892 Design Step...</td>\n",
       "      <td>JISEC-CC-CRP-C0649-01-2019\\nCertification Repo...</td>\n",
       "    </tr>\n",
       "    <tr>\n",
       "      <th>2</th>\n",
       "      <td>037577fc2019fcfa</td>\n",
       "      <td>ANSSI-CC-2021/49</td>\n",
       "      <td>previous_version</td>\n",
       "      <td>NaN</td>\n",
       "      <td>NPCT7xx TPM2.0 rev 1.59 (configuration version...</td>\n",
       "      <td>ANSSI-CC-2022/28</td>\n",
       "      <td>88b3519651a7b7c0</td>\n",
       "      <td>cca6ba2fdb06af5a</td>\n",
       "      <td>NPCT7xx TPM2.0 rev 1.59 (configuration version...</td>\n",
       "      <td>Secrétariat général de la défense\\net de la sé...</td>\n",
       "    </tr>\n",
       "    <tr>\n",
       "      <th>3</th>\n",
       "      <td>055985699aee1e09</td>\n",
       "      <td>ANSSI-CC-2010/02</td>\n",
       "      <td>component_used</td>\n",
       "      <td>NaN</td>\n",
       "      <td>Carte CC IDeal Citiz (sur composants SB23YR80B...</td>\n",
       "      <td>ANSSI-CC-2011/62</td>\n",
       "      <td>338e26cd240f6572</td>\n",
       "      <td>700f9a9a01a58722</td>\n",
       "      <td>STMicroelectronics SA23YR48/80B and SB23YR48/8...</td>\n",
       "      <td>PREMIER MINISTRE\\nSecrétariat général de la dé...</td>\n",
       "    </tr>\n",
       "    <tr>\n",
       "      <th>4</th>\n",
       "      <td>05726637bd47a762</td>\n",
       "      <td>BSI-DSZ-CC-0891-V3-2018</td>\n",
       "      <td>component_used</td>\n",
       "      <td>NaN</td>\n",
       "      <td>Java Card Platform Implementation for Infineon...</td>\n",
       "      <td>BSI-DSZ-CC-0869-V2-2019</td>\n",
       "      <td>179ef93627203d9f</td>\n",
       "      <td>377db3692d1a6bf6</td>\n",
       "      <td>Infineon Security Controller M7892 Design Step...</td>\n",
       "      <td>BSI-DSZ-CC-0869-V2-2019\\nfor\\nJava Card Platfo...</td>\n",
       "    </tr>\n",
       "  </tbody>\n",
       "</table>\n",
       "</div>"
      ],
      "text/plain": [
       "           old_dgst           target_cert_id             label comment  \\\n",
       "0  00efeb17bcaafce6         ANSSI-CC-2009/34    component_used     NaN   \n",
       "1  01e8805514b4ef67  BSI-DSZ-CC-0891-V3-2018    component_used     NaN   \n",
       "2  037577fc2019fcfa         ANSSI-CC-2021/49  previous_version     NaN   \n",
       "3  055985699aee1e09         ANSSI-CC-2010/02    component_used     NaN   \n",
       "4  05726637bd47a762  BSI-DSZ-CC-0891-V3-2018    component_used     NaN   \n",
       "\n",
       "                                                name  \\\n",
       "0  Trusted Logic. Carte à puce JCLXxxjTOPyyIDv2 :...   \n",
       "1  ID&Trust IDentity-J with SAC (BAC+PACE) and AA...   \n",
       "2  NPCT7xx TPM2.0 rev 1.59 (configuration version...   \n",
       "3  Carte CC IDeal Citiz (sur composants SB23YR80B...   \n",
       "4  Java Card Platform Implementation for Infineon...   \n",
       "\n",
       "                      cert_id              dgst        older_dgst  \\\n",
       "0            ANSSI-CC-2009/35  4e9ff22a844c6003  6f55526f9162a4bb   \n",
       "1  JISEC-CC-CRP-C0649-01-2019  abb304884762a560  42586e3d73fb8bd4   \n",
       "2            ANSSI-CC-2022/28  88b3519651a7b7c0  cca6ba2fdb06af5a   \n",
       "3            ANSSI-CC-2011/62  338e26cd240f6572  700f9a9a01a58722   \n",
       "4     BSI-DSZ-CC-0869-V2-2019  179ef93627203d9f  377db3692d1a6bf6   \n",
       "\n",
       "                                         target_name  \\\n",
       "0  JCLX80jTOP20ID : Java Trusted Open Platform IF...   \n",
       "1  Infineon Security Controller M7892 Design Step...   \n",
       "2  NPCT7xx TPM2.0 rev 1.59 (configuration version...   \n",
       "3  STMicroelectronics SA23YR48/80B and SB23YR48/8...   \n",
       "4  Infineon Security Controller M7892 Design Step...   \n",
       "\n",
       "                                        text_content  \n",
       "0  PREMIER MINISTRE\\nSecrétariat général de la dé...  \n",
       "1  JISEC-CC-CRP-C0649-01-2019\\nCertification Repo...  \n",
       "2  Secrétariat général de la défense\\net de la sé...  \n",
       "3  PREMIER MINISTRE\\nSecrétariat général de la dé...  \n",
       "4  BSI-DSZ-CC-0869-V2-2019\\nfor\\nJava Card Platfo...  "
      ]
     },
     "execution_count": 6,
     "metadata": {},
     "output_type": "execute_result"
    }
   ],
   "source": [
    "df_annotations.head()"
   ]
  },
  {
   "cell_type": "code",
   "execution_count": 7,
   "metadata": {},
   "outputs": [],
   "source": [
    "from enum import Enum\n",
    "from pydantic import Field, BaseModel\n",
    "from openai import AsyncOpenAI, RateLimitError\n",
    "import asyncio\n",
    "from openai.lib._pydantic import to_strict_json_schema\n",
    "\n",
    "class LabelType(Enum):\n",
    "    COMPONENT_USED = \"component_used\"\n",
    "    RE_EVALUATION = \"re-evaluation\"\n",
    "    EVALUATION_REUSED = \"evaluation_reused\"\n",
    "    PREVIOUS_VERSION = \"previous_version\"\n",
    "    COMPONENT_SHARED = \"component_shared\"\n",
    "    IRRELEVANT = \"irrelevant\"\n",
    "    NONE = \"none\"\n",
    "\n",
    "class SimplifiedLabelType(Enum):\n",
    "    COMPONENT_REUSE = \"component_reuse\"\n",
    "    PREDECESSOR = \"predecessor\" \n",
    "    NONE = \"none\"\n",
    "\n",
    "def convert_label_type(label: LabelType|str) -> SimplifiedLabelType:\n",
    "    if isinstance(label, LabelType):\n",
    "        label_value = label\n",
    "    else:\n",
    "        try:\n",
    "            label_value = LabelType(label)\n",
    "        except ValueError:\n",
    "            return SimplifiedLabelType.NONE\n",
    "    \n",
    "    if label_value in [LabelType.COMPONENT_USED, LabelType.EVALUATION_REUSED, LabelType.COMPONENT_SHARED]:\n",
    "        return SimplifiedLabelType.COMPONENT_REUSE\n",
    "    elif label_value in [LabelType.RE_EVALUATION, LabelType.PREVIOUS_VERSION]:\n",
    "        return SimplifiedLabelType.PREDECESSOR\n",
    "    return SimplifiedLabelType.NONE\n",
    "\n",
    "class LabelDetectionResult(BaseModel):\n",
    "    explanation: str = Field(description=\"Explain why this label was chosen.\")\n",
    "    label: LabelType = Field(description=\"Categorization of the relationship between the examined and referenced certificates.\")\n",
    "\n",
    "#label_detection_strict_schema = to_strict_json_schema(LabelDetectionResult)"
   ]
  },
  {
   "cell_type": "code",
   "execution_count": 8,
   "metadata": {},
   "outputs": [
    {
     "data": {
      "text/plain": [
       "label\n",
       "component_used       58\n",
       "re-evaluation        16\n",
       "evaluation_reused    11\n",
       "previous_version      6\n",
       "component_shared      5\n",
       "irrelevant            2\n",
       "Name: count, dtype: int64"
      ]
     },
     "execution_count": 8,
     "metadata": {},
     "output_type": "execute_result"
    }
   ],
   "source": [
    "df_annotations.label.value_counts()"
   ]
  },
  {
   "cell_type": "code",
   "execution_count": 9,
   "metadata": {},
   "outputs": [
    {
     "data": {
      "text/plain": [
       "label\n",
       "component_reuse    74\n",
       "predecessor        22\n",
       "none                3\n",
       "Name: count, dtype: int64"
      ]
     },
     "execution_count": 9,
     "metadata": {},
     "output_type": "execute_result"
    }
   ],
   "source": [
    "df_annotations.label.apply(convert_label_type).apply(lambda x: x.value).value_counts()"
   ]
  },
  {
   "cell_type": "code",
   "execution_count": 10,
   "metadata": {},
   "outputs": [
    {
     "name": "stdout",
     "output_type": "stream",
     "text": [
      "API Key loaded: sk-proj-tco-...\n"
     ]
    }
   ],
   "source": [
    "def load_api_key(filename: str) -> str:\n",
    "    try:\n",
    "        with open(filename, 'r') as file:\n",
    "            api_key = file.readline().strip()\n",
    "            return api_key\n",
    "    except FileNotFoundError:\n",
    "        raise Exception(f\"OpenAI API key not found at {filename}.\")\n",
    "\n",
    "api_key = load_api_key('../../openai_api_key')\n",
    "openapi_model = \"gpt-4o-mini\"\n",
    "print(f\"API Key loaded: {api_key[:12]}...\")\n",
    "client = AsyncOpenAI(api_key=api_key)"
   ]
  },
  {
   "cell_type": "code",
   "execution_count": 69,
   "metadata": {},
   "outputs": [],
   "source": [
    "system_message = {\n",
    "    \"role\": \"system\",\n",
    "    \"content\": open(\"llm_annotation_prompt.txt\").read()\n",
    "}\n",
    "async def get_ai_label(text_content: str, name: str, target_name: str, cert_id: str, target_cert_id: str, verbose=False):\n",
    "    messages = [\n",
    "        system_message,\n",
    "        {\"role\": \"user\", \"content\": f\"\"\"\n",
    "        Task: Classify how certificate {cert_id} refers to certificate {target_cert_id}. Note that you are to classify ONLY this relationship, and not relationships to other mentioned certificates or their components. Refer to the instructions and examples in the system message.\n",
    "\n",
    "        Target: {target_cert_id} ({target_name})\n",
    "        Reviewed: {cert_id} ({name})\n",
    "\n",
    "        Text from reviewed certificate {cert_id}:\n",
    "        '{text_content}'\n",
    "        \"\"\"}\n",
    "    ]\n",
    "    while True:\n",
    "        try:\n",
    "            completion = await client.beta.chat.completions.parse(\n",
    "                model=openapi_model,\n",
    "                messages=messages,\n",
    "                response_format=LabelDetectionResult\n",
    "            )\n",
    "            return completion.choices[0].message.parsed\n",
    "        except Exception as e:\n",
    "            wait_time = 60\n",
    "            if verbose:\n",
    "                print(f\"Error: {e}, retrying in {wait_time}s..\")\n",
    "            await asyncio.sleep(wait_time)"
   ]
  },
  {
   "cell_type": "code",
   "execution_count": 70,
   "metadata": {},
   "outputs": [],
   "source": [
    "from tqdm.asyncio import tqdm"
   ]
  },
  {
   "cell_type": "code",
   "execution_count": 71,
   "metadata": {},
   "outputs": [],
   "source": [
    "async def process_row_async(text_content: str, name: str, target_name: str, cert_id: str, target_cert_id: str):\n",
    "    result = await get_ai_label(text_content, name, target_name, cert_id, target_cert_id)\n",
    "    return result.label.value, result.explanation\n",
    "async def process_dataframe_async(df):\n",
    "    tasks = [process_row_async(\n",
    "        row[\"text_content\"], \n",
    "        row[\"name\"], \n",
    "        row[\"target_name\"],\n",
    "        row[\"cert_id\"],\n",
    "        row[\"target_cert_id\"]) for _, row in df.iterrows()]\n",
    "    results = []\n",
    "    for coro in tqdm(asyncio.as_completed(tasks), total=len(tasks)):  # tracks actual completion\n",
    "        results.append(await coro)\n",
    "    return results\n",
    "import nest_asyncio # otherwise async tasks can't be called from a running event loop (jupyter)\n",
    "nest_asyncio.apply()"
   ]
  },
  {
   "cell_type": "code",
   "execution_count": 72,
   "metadata": {},
   "outputs": [
    {
     "name": "stderr",
     "output_type": "stream",
     "text": [
      "100%|██████████| 99/99 [06:56<00:00,  4.21s/it]\n"
     ]
    }
   ],
   "source": [
    "# running this cell costs about 0.15EUR with gpt4o-mini\n",
    "if \"llm_annotation_results.parquet\" not in os.listdir(): # delete the file if you want to re-run things\n",
    "    results = asyncio.run(process_dataframe_async(df_annotations))\n",
    "    df_annotations[\"gpt4omini_label\"], df_annotations[\"gpt4omini_reason\"] = zip(*results)\n",
    "    df_annotations.to_parquet(\"llm_annotation_results.parquet\")\n",
    "df_results = pd.read_parquet(\"llm_annotation_results.parquet\")"
   ]
  },
  {
   "cell_type": "code",
   "execution_count": 73,
   "metadata": {},
   "outputs": [
    {
     "data": {
      "text/html": [
       "<div>\n",
       "<style scoped>\n",
       "    .dataframe tbody tr th:only-of-type {\n",
       "        vertical-align: middle;\n",
       "    }\n",
       "\n",
       "    .dataframe tbody tr th {\n",
       "        vertical-align: top;\n",
       "    }\n",
       "\n",
       "    .dataframe thead th {\n",
       "        text-align: right;\n",
       "    }\n",
       "</style>\n",
       "<table border=\"1\" class=\"dataframe\">\n",
       "  <thead>\n",
       "    <tr style=\"text-align: right;\">\n",
       "      <th></th>\n",
       "      <th>target_cert_id</th>\n",
       "      <th>cert_id</th>\n",
       "      <th>name</th>\n",
       "      <th>target_name</th>\n",
       "      <th>label</th>\n",
       "      <th>comment</th>\n",
       "      <th>gpt4omini_label</th>\n",
       "      <th>gpt4omini_reason</th>\n",
       "    </tr>\n",
       "  </thead>\n",
       "  <tbody>\n",
       "    <tr>\n",
       "      <th>0</th>\n",
       "      <td>ANSSI-CC-2009/34</td>\n",
       "      <td>ANSSI-CC-2009/35</td>\n",
       "      <td>Trusted Logic. Carte à puce JCLXxxjTOPyyIDv2 :...</td>\n",
       "      <td>JCLX80jTOP20ID : Java Trusted Open Platform IF...</td>\n",
       "      <td>component_used</td>\n",
       "      <td>None</td>\n",
       "      <td>previous_version</td>\n",
       "      <td>The ANSSI-CC-2016/69 certificate is a newer ve...</td>\n",
       "    </tr>\n",
       "    <tr>\n",
       "      <th>1</th>\n",
       "      <td>BSI-DSZ-CC-0891-V3-2018</td>\n",
       "      <td>JISEC-CC-CRP-C0649-01-2019</td>\n",
       "      <td>ID&amp;Trust IDentity-J with SAC (BAC+PACE) and AA...</td>\n",
       "      <td>Infineon Security Controller M7892 Design Step...</td>\n",
       "      <td>component_used</td>\n",
       "      <td>None</td>\n",
       "      <td>component_used</td>\n",
       "      <td>The examined certificate NSCIB-CC-146301-CR2 r...</td>\n",
       "    </tr>\n",
       "    <tr>\n",
       "      <th>2</th>\n",
       "      <td>ANSSI-CC-2021/49</td>\n",
       "      <td>ANSSI-CC-2022/28</td>\n",
       "      <td>NPCT7xx TPM2.0 rev 1.59 (configuration version...</td>\n",
       "      <td>NPCT7xx TPM2.0 rev 1.59 (configuration version...</td>\n",
       "      <td>previous_version</td>\n",
       "      <td>None</td>\n",
       "      <td>component_used</td>\n",
       "      <td>The ANSSI-CC-2018/44-S01 certificate explicitl...</td>\n",
       "    </tr>\n",
       "    <tr>\n",
       "      <th>3</th>\n",
       "      <td>ANSSI-CC-2010/02</td>\n",
       "      <td>ANSSI-CC-2011/62</td>\n",
       "      <td>Carte CC IDeal Citiz (sur composants SB23YR80B...</td>\n",
       "      <td>STMicroelectronics SA23YR48/80B and SB23YR48/8...</td>\n",
       "      <td>component_used</td>\n",
       "      <td>None</td>\n",
       "      <td>evaluation_reused</td>\n",
       "      <td>The certificate ANSSI-CC-2022/28 explicitly st...</td>\n",
       "    </tr>\n",
       "    <tr>\n",
       "      <th>4</th>\n",
       "      <td>BSI-DSZ-CC-0891-V3-2018</td>\n",
       "      <td>BSI-DSZ-CC-0869-V2-2019</td>\n",
       "      <td>Java Card Platform Implementation for Infineon...</td>\n",
       "      <td>Infineon Security Controller M7892 Design Step...</td>\n",
       "      <td>component_used</td>\n",
       "      <td>None</td>\n",
       "      <td>evaluation_reused</td>\n",
       "      <td>The evaluated certificate ANSSI-CC-2022/29 sta...</td>\n",
       "    </tr>\n",
       "    <tr>\n",
       "      <th>...</th>\n",
       "      <td>...</td>\n",
       "      <td>...</td>\n",
       "      <td>...</td>\n",
       "      <td>...</td>\n",
       "      <td>...</td>\n",
       "      <td>...</td>\n",
       "      <td>...</td>\n",
       "      <td>...</td>\n",
       "    </tr>\n",
       "    <tr>\n",
       "      <th>94</th>\n",
       "      <td>ANSSI-CC-2012/68</td>\n",
       "      <td>ANSSI-CC-2014/25</td>\n",
       "      <td>SOMA801STM - application BAC, version 1.0</td>\n",
       "      <td>Microcontrôleurs sécurisés SA23YR80/48 et SB23...</td>\n",
       "      <td>component_used</td>\n",
       "      <td>None</td>\n",
       "      <td>re-evaluation</td>\n",
       "      <td>The text from the reviewed certificate BSI-DSZ...</td>\n",
       "    </tr>\n",
       "    <tr>\n",
       "      <th>95</th>\n",
       "      <td>ANSSI-CC-2017/47</td>\n",
       "      <td>ANSSI-CC-2017/72</td>\n",
       "      <td>Taiwan eID Applet PACE with CAM, CA and AA on ...</td>\n",
       "      <td>Plateforme ID-One Cosmo v8.1-N-Standard LDS ma...</td>\n",
       "      <td>component_used</td>\n",
       "      <td>None</td>\n",
       "      <td>evaluation_reused</td>\n",
       "      <td>The referenced certificate BSI-DSZ-CC-0957-V2-...</td>\n",
       "    </tr>\n",
       "    <tr>\n",
       "      <th>96</th>\n",
       "      <td>BSI-DSZ-CC-0945-V2-2018</td>\n",
       "      <td>NSCIB-CC-200689-CR</td>\n",
       "      <td>Idemia CombICAO Applet in EAC configuration on...</td>\n",
       "      <td>Infineon smart card IC (Security Controller) I...</td>\n",
       "      <td>irrelevant</td>\n",
       "      <td>None</td>\n",
       "      <td>re-evaluation</td>\n",
       "      <td>The reviewed certificate BSI-DSZ-CC-0976-V2-20...</td>\n",
       "    </tr>\n",
       "    <tr>\n",
       "      <th>97</th>\n",
       "      <td>BSI-DSZ-CC-0950-V2-2018</td>\n",
       "      <td>BSI-DSZ-CC-0596-V2-2018</td>\n",
       "      <td>ORGA 930 M online and Cherry ST-1530</td>\n",
       "      <td>KoCoBox MED+ Netzkonnektor, 1.3.4</td>\n",
       "      <td>None</td>\n",
       "      <td>unclear, mentions just ToE delivery</td>\n",
       "      <td>previous_version</td>\n",
       "      <td>BSI-DSZ-CC-0911-2014 provides Basic Access Con...</td>\n",
       "    </tr>\n",
       "    <tr>\n",
       "      <th>98</th>\n",
       "      <td>BSI-DSZ-CC-0827-V8-2020</td>\n",
       "      <td>BSI-DSZ-CC-1158-2020</td>\n",
       "      <td>Digital Tachograph DTCO 1381, Release 4.0e</td>\n",
       "      <td>Infineon Technologies Smart Card IC (Security ...</td>\n",
       "      <td>irrelevant</td>\n",
       "      <td>unclear</td>\n",
       "      <td>component_used</td>\n",
       "      <td>The referenced certificate BSI-DSZ-CC-0750-V2-...</td>\n",
       "    </tr>\n",
       "  </tbody>\n",
       "</table>\n",
       "<p>99 rows × 8 columns</p>\n",
       "</div>"
      ],
      "text/plain": [
       "             target_cert_id                     cert_id  \\\n",
       "0          ANSSI-CC-2009/34            ANSSI-CC-2009/35   \n",
       "1   BSI-DSZ-CC-0891-V3-2018  JISEC-CC-CRP-C0649-01-2019   \n",
       "2          ANSSI-CC-2021/49            ANSSI-CC-2022/28   \n",
       "3          ANSSI-CC-2010/02            ANSSI-CC-2011/62   \n",
       "4   BSI-DSZ-CC-0891-V3-2018     BSI-DSZ-CC-0869-V2-2019   \n",
       "..                      ...                         ...   \n",
       "94         ANSSI-CC-2012/68            ANSSI-CC-2014/25   \n",
       "95         ANSSI-CC-2017/47            ANSSI-CC-2017/72   \n",
       "96  BSI-DSZ-CC-0945-V2-2018          NSCIB-CC-200689-CR   \n",
       "97  BSI-DSZ-CC-0950-V2-2018     BSI-DSZ-CC-0596-V2-2018   \n",
       "98  BSI-DSZ-CC-0827-V8-2020        BSI-DSZ-CC-1158-2020   \n",
       "\n",
       "                                                 name  \\\n",
       "0   Trusted Logic. Carte à puce JCLXxxjTOPyyIDv2 :...   \n",
       "1   ID&Trust IDentity-J with SAC (BAC+PACE) and AA...   \n",
       "2   NPCT7xx TPM2.0 rev 1.59 (configuration version...   \n",
       "3   Carte CC IDeal Citiz (sur composants SB23YR80B...   \n",
       "4   Java Card Platform Implementation for Infineon...   \n",
       "..                                                ...   \n",
       "94          SOMA801STM - application BAC, version 1.0   \n",
       "95  Taiwan eID Applet PACE with CAM, CA and AA on ...   \n",
       "96  Idemia CombICAO Applet in EAC configuration on...   \n",
       "97               ORGA 930 M online and Cherry ST-1530   \n",
       "98         Digital Tachograph DTCO 1381, Release 4.0e   \n",
       "\n",
       "                                          target_name             label  \\\n",
       "0   JCLX80jTOP20ID : Java Trusted Open Platform IF...    component_used   \n",
       "1   Infineon Security Controller M7892 Design Step...    component_used   \n",
       "2   NPCT7xx TPM2.0 rev 1.59 (configuration version...  previous_version   \n",
       "3   STMicroelectronics SA23YR48/80B and SB23YR48/8...    component_used   \n",
       "4   Infineon Security Controller M7892 Design Step...    component_used   \n",
       "..                                                ...               ...   \n",
       "94  Microcontrôleurs sécurisés SA23YR80/48 et SB23...    component_used   \n",
       "95  Plateforme ID-One Cosmo v8.1-N-Standard LDS ma...    component_used   \n",
       "96  Infineon smart card IC (Security Controller) I...        irrelevant   \n",
       "97                  KoCoBox MED+ Netzkonnektor, 1.3.4              None   \n",
       "98  Infineon Technologies Smart Card IC (Security ...        irrelevant   \n",
       "\n",
       "                                comment    gpt4omini_label  \\\n",
       "0                                  None   previous_version   \n",
       "1                                  None     component_used   \n",
       "2                                  None     component_used   \n",
       "3                                  None  evaluation_reused   \n",
       "4                                  None  evaluation_reused   \n",
       "..                                  ...                ...   \n",
       "94                                 None      re-evaluation   \n",
       "95                                 None  evaluation_reused   \n",
       "96                                 None      re-evaluation   \n",
       "97  unclear, mentions just ToE delivery   previous_version   \n",
       "98                              unclear     component_used   \n",
       "\n",
       "                                     gpt4omini_reason  \n",
       "0   The ANSSI-CC-2016/69 certificate is a newer ve...  \n",
       "1   The examined certificate NSCIB-CC-146301-CR2 r...  \n",
       "2   The ANSSI-CC-2018/44-S01 certificate explicitl...  \n",
       "3   The certificate ANSSI-CC-2022/28 explicitly st...  \n",
       "4   The evaluated certificate ANSSI-CC-2022/29 sta...  \n",
       "..                                                ...  \n",
       "94  The text from the reviewed certificate BSI-DSZ...  \n",
       "95  The referenced certificate BSI-DSZ-CC-0957-V2-...  \n",
       "96  The reviewed certificate BSI-DSZ-CC-0976-V2-20...  \n",
       "97  BSI-DSZ-CC-0911-2014 provides Basic Access Con...  \n",
       "98  The referenced certificate BSI-DSZ-CC-0750-V2-...  \n",
       "\n",
       "[99 rows x 8 columns]"
      ]
     },
     "execution_count": 73,
     "metadata": {},
     "output_type": "execute_result"
    }
   ],
   "source": [
    "df_results[[\"target_cert_id\", \"cert_id\", \"name\", \"target_name\", \"label\", \"comment\", \"gpt4omini_label\", \"gpt4omini_reason\"]]"
   ]
  },
  {
   "cell_type": "code",
   "execution_count": null,
   "metadata": {},
   "outputs": [],
   "source": [
    "import seaborn as sns\n",
    "from sklearn.metrics import f1_score\n",
    "import matplotlib.pyplot as plt"
   ]
  },
  {
   "cell_type": "code",
   "execution_count": 75,
   "metadata": {},
   "outputs": [],
   "source": [
    "df_results = df_results[(~df_results[\"label\"].isin([\"none\", \"irrelevant\", None]) & (~df_results[\"gpt4omini_label\"].isin([\"none\", \"irrelevant\"])))]"
   ]
  },
  {
   "cell_type": "code",
   "execution_count": null,
   "metadata": {},
   "outputs": [
    {
     "data": {
      "image/png": "[encoded data removed]",
      "text/plain": [
       "<Figure size 600x400 with 2 Axes>"
      ]
     },
     "metadata": {},
     "output_type": "display_data"
    },
    {
     "name": "stdout",
     "output_type": "stream",
     "text": [
      "Accuracy: 0.1505, F1 score: 0.1790\n"
     ]
    }
   ],
   "source": [
    "conf_matrix = pd.crosstab(df_results[\"label\"], df_results[\"gpt4omini_label\"])\n",
    "accuracy = (df_results[\"label\"] == df_results[\"gpt4omini_label\"]).mean()\n",
    "f1 = f1_score(df_results[\"label\"], df_results[\"gpt4omini_label\"], average='weighted')\n",
    "plt.figure(figsize=(6, 4))\n",
    "sns.heatmap(conf_matrix, annot=True, cmap='Blues')\n",
    "plt.title('Confusion Matrix')\n",
    "plt.ylabel('True label')\n",
    "plt.xlabel('Predicted label')\n",
    "plt.show()\n",
    "print(f\"Accuracy: {accuracy:.4f}, F1 score: {f1:.4f}\")"
   ]
  },
  {
   "cell_type": "code",
   "execution_count": 77,
   "metadata": {},
   "outputs": [],
   "source": [
    "df_results[\"label_simple\"] = df_results[\"label\"].apply(convert_label_type).apply(lambda x: x.value)\n",
    "df_results[\"gpt4omini_label_simple\"] = df_results[\"gpt4omini_label\"].apply(convert_label_type).apply(lambda x: x.value)"
   ]
  },
  {
   "cell_type": "code",
   "execution_count": 86,
   "metadata": {},
   "outputs": [
    {
     "data": {
      "image/png": "[encoded data removed]",
      "text/plain": [
       "<Figure size 600x400 with 2 Axes>"
      ]
     },
     "metadata": {},
     "output_type": "display_data"
    },
    {
     "name": "stdout",
     "output_type": "stream",
     "text": [
      "Accuracy: 0.4731, F1 score: 0.5060\n"
     ]
    }
   ],
   "source": [
    "conf_matrix = pd.crosstab(df_results[\"label_simple\"], df_results[\"gpt4omini_label_simple\"])\n",
    "accuracy = (df_results[\"label_simple\"] == df_results[\"gpt4omini_label_simple\"]).mean()\n",
    "f1 = f1_score(df_results[\"label_simple\"], df_results[\"gpt4omini_label_simple\"], average='weighted')\n",
    "\n",
    "plt.figure(figsize=(6, 4))\n",
    "sns.heatmap(conf_matrix, annot=True, cmap='Blues')\n",
    "plt.title('Confusion Matrix')\n",
    "plt.ylabel('True label')\n",
    "plt.xlabel('Predicted label')\n",
    "plt.show()\n",
    "print(f\"Accuracy: {accuracy:.4f}, F1 score: {f1:.4f}\")"
   ]
  }
 ],
 "metadata": {
  "kernelspec": {
   "display_name": "venv",
   "language": "python",
   "name": "python3"
  },
  "language_info": {
   "codemirror_mode": {
    "name": "ipython",
    "version": 3
   },
   "file_extension": ".py",
   "mimetype": "text/x-python",
   "name": "python",
   "nbconvert_exporter": "python",
   "pygments_lexer": "ipython3",
   "version": "3.10.12"
  }
 },
 "nbformat": 4,
 "nbformat_minor": 2
}
