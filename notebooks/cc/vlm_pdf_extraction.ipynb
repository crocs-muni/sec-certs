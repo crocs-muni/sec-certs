{
 "cells": [
  {
   "cell_type": "code",
   "execution_count": 1,
   "id": "42a1df63",
   "metadata": {},
   "outputs": [
    {
     "name": "stdout",
     "output_type": "stream",
     "text": [
      "Requirement already satisfied: langchain in /home/fstomakhin/Documents/CHESS/sec-certs/venv/lib/python3.10/site-packages (0.3.19)\n",
      "Requirement already satisfied: langchain-community in /home/fstomakhin/Documents/CHESS/sec-certs/venv/lib/python3.10/site-packages (0.3.18)\n",
      "Requirement already satisfied: wtpsplit in /home/fstomakhin/Documents/CHESS/sec-certs/venv/lib/python3.10/site-packages (2.1.4)\n",
      "Requirement already satisfied: torch in /home/fstomakhin/Documents/CHESS/sec-certs/venv/lib/python3.10/site-packages (2.6.0)\n",
      "Requirement already satisfied: sentence-transformers in /home/fstomakhin/Documents/CHESS/sec-certs/venv/lib/python3.10/site-packages (3.4.1)\n",
      "Requirement already satisfied: sentencepiece in /home/fstomakhin/Documents/CHESS/sec-certs/venv/lib/python3.10/site-packages (0.2.0)\n",
      "Requirement already satisfied: protobuf==3.20.0 in /home/fstomakhin/Documents/CHESS/sec-certs/venv/lib/python3.10/site-packages (3.20.0)\n",
      "Requirement already satisfied: google-genai in /home/fstomakhin/Documents/CHESS/sec-certs/venv/lib/python3.10/site-packages (1.3.0)\n",
      "Requirement already satisfied: docling in /home/fstomakhin/Documents/CHESS/sec-certs/venv/lib/python3.10/site-packages (2.25.1)\n",
      "Requirement already satisfied: langchain-core<1.0.0,>=0.3.35 in /home/fstomakhin/Documents/CHESS/sec-certs/venv/lib/python3.10/site-packages (from langchain) (0.3.40)\n",
      "Requirement already satisfied: langchain-text-splitters<1.0.0,>=0.3.6 in /home/fstomakhin/Documents/CHESS/sec-certs/venv/lib/python3.10/site-packages (from langchain) (0.3.6)\n",
      "Requirement already satisfied: langsmith<0.4,>=0.1.17 in /home/fstomakhin/Documents/CHESS/sec-certs/venv/lib/python3.10/site-packages (from langchain) (0.3.11)\n",
      "Requirement already satisfied: pydantic<3.0.0,>=2.7.4 in /home/fstomakhin/Documents/CHESS/sec-certs/venv/lib/python3.10/site-packages (from langchain) (2.10.6)\n",
      "Requirement already satisfied: SQLAlchemy<3,>=1.4 in /home/fstomakhin/Documents/CHESS/sec-certs/venv/lib/python3.10/site-packages (from langchain) (2.0.38)\n",
      "Requirement already satisfied: requests<3,>=2 in /home/fstomakhin/Documents/CHESS/sec-certs/venv/lib/python3.10/site-packages (from langchain) (2.32.3)\n",
      "Requirement already satisfied: PyYAML>=5.3 in /home/fstomakhin/Documents/CHESS/sec-certs/venv/lib/python3.10/site-packages (from langchain) (6.0.2)\n",
      "Requirement already satisfied: aiohttp<4.0.0,>=3.8.3 in /home/fstomakhin/Documents/CHESS/sec-certs/venv/lib/python3.10/site-packages (from langchain) (3.11.13)\n",
      "Requirement already satisfied: tenacity!=8.4.0,<10,>=8.1.0 in /home/fstomakhin/Documents/CHESS/sec-certs/venv/lib/python3.10/site-packages (from langchain) (9.0.0)\n",
      "Requirement already satisfied: numpy<2,>=1.26.4 in /home/fstomakhin/Documents/CHESS/sec-certs/venv/lib/python3.10/site-packages (from langchain) (1.26.4)\n",
      "Requirement already satisfied: async-timeout<5.0.0,>=4.0.0 in /home/fstomakhin/Documents/CHESS/sec-certs/venv/lib/python3.10/site-packages (from langchain) (4.0.3)\n",
      "Requirement already satisfied: dataclasses-json<0.7,>=0.5.7 in /home/fstomakhin/Documents/CHESS/sec-certs/venv/lib/python3.10/site-packages (from langchain-community) (0.6.7)\n",
      "Requirement already satisfied: pydantic-settings<3.0.0,>=2.4.0 in /home/fstomakhin/Documents/CHESS/sec-certs/venv/lib/python3.10/site-packages (from langchain-community) (2.8.0)\n",
      "Requirement already satisfied: httpx-sse<1.0.0,>=0.4.0 in /home/fstomakhin/Documents/CHESS/sec-certs/venv/lib/python3.10/site-packages (from langchain-community) (0.4.0)\n",
      "Requirement already satisfied: onnxruntime>=1.13.1 in /home/fstomakhin/Documents/CHESS/sec-certs/venv/lib/python3.10/site-packages (from wtpsplit) (1.20.1)\n",
      "Requirement already satisfied: transformers>=4.22.2 in /home/fstomakhin/Documents/CHESS/sec-certs/venv/lib/python3.10/site-packages (from wtpsplit) (4.47.1)\n",
      "Requirement already satisfied: huggingface-hub in /home/fstomakhin/Documents/CHESS/sec-certs/venv/lib/python3.10/site-packages (from wtpsplit) (0.29.1)\n",
      "Requirement already satisfied: scikit-learn>=1 in /home/fstomakhin/Documents/CHESS/sec-certs/venv/lib/python3.10/site-packages (from wtpsplit) (1.6.1)\n",
      "Requirement already satisfied: tqdm in /home/fstomakhin/Documents/CHESS/sec-certs/venv/lib/python3.10/site-packages (from wtpsplit) (4.67.1)\n",
      "Requirement already satisfied: skops in /home/fstomakhin/Documents/CHESS/sec-certs/venv/lib/python3.10/site-packages (from wtpsplit) (0.11.0)\n",
      "Requirement already satisfied: pandas>=1 in /home/fstomakhin/Documents/CHESS/sec-certs/venv/lib/python3.10/site-packages (from wtpsplit) (2.2.3)\n",
      "Requirement already satisfied: cached_property in /home/fstomakhin/Documents/CHESS/sec-certs/venv/lib/python3.10/site-packages (from wtpsplit) (2.0.1)\n",
      "Requirement already satisfied: mosestokenizer in /home/fstomakhin/Documents/CHESS/sec-certs/venv/lib/python3.10/site-packages (from wtpsplit) (1.2.1)\n",
      "Requirement already satisfied: adapters>=1.0.1 in /home/fstomakhin/Documents/CHESS/sec-certs/venv/lib/python3.10/site-packages (from wtpsplit) (1.1.0)\n",
      "Requirement already satisfied: filelock in /home/fstomakhin/Documents/CHESS/sec-certs/venv/lib/python3.10/site-packages (from torch) (3.17.0)\n",
      "Requirement already satisfied: typing-extensions>=4.10.0 in /home/fstomakhin/Documents/CHESS/sec-certs/venv/lib/python3.10/site-packages (from torch) (4.12.2)\n",
      "Requirement already satisfied: networkx in /home/fstomakhin/Documents/CHESS/sec-certs/venv/lib/python3.10/site-packages (from torch) (3.4.2)\n",
      "Requirement already satisfied: jinja2 in /home/fstomakhin/Documents/CHESS/sec-certs/venv/lib/python3.10/site-packages (from torch) (3.1.5)\n",
      "Requirement already satisfied: fsspec in /home/fstomakhin/Documents/CHESS/sec-certs/venv/lib/python3.10/site-packages (from torch) (2024.12.0)\n",
      "Requirement already satisfied: nvidia-cuda-nvrtc-cu12==12.4.127 in /home/fstomakhin/Documents/CHESS/sec-certs/venv/lib/python3.10/site-packages (from torch) (12.4.127)\n",
      "Requirement already satisfied: nvidia-cuda-runtime-cu12==12.4.127 in /home/fstomakhin/Documents/CHESS/sec-certs/venv/lib/python3.10/site-packages (from torch) (12.4.127)\n",
      "Requirement already satisfied: nvidia-cuda-cupti-cu12==12.4.127 in /home/fstomakhin/Documents/CHESS/sec-certs/venv/lib/python3.10/site-packages (from torch) (12.4.127)\n",
      "Requirement already satisfied: nvidia-cudnn-cu12==9.1.0.70 in /home/fstomakhin/Documents/CHESS/sec-certs/venv/lib/python3.10/site-packages (from torch) (9.1.0.70)\n",
      "Requirement already satisfied: nvidia-cublas-cu12==12.4.5.8 in /home/fstomakhin/Documents/CHESS/sec-certs/venv/lib/python3.10/site-packages (from torch) (12.4.5.8)\n",
      "Requirement already satisfied: nvidia-cufft-cu12==11.2.1.3 in /home/fstomakhin/Documents/CHESS/sec-certs/venv/lib/python3.10/site-packages (from torch) (11.2.1.3)\n",
      "Requirement already satisfied: nvidia-curand-cu12==10.3.5.147 in /home/fstomakhin/Documents/CHESS/sec-certs/venv/lib/python3.10/site-packages (from torch) (10.3.5.147)\n",
      "Requirement already satisfied: nvidia-cusolver-cu12==11.6.1.9 in /home/fstomakhin/Documents/CHESS/sec-certs/venv/lib/python3.10/site-packages (from torch) (11.6.1.9)\n",
      "Requirement already satisfied: nvidia-cusparse-cu12==12.3.1.170 in /home/fstomakhin/Documents/CHESS/sec-certs/venv/lib/python3.10/site-packages (from torch) (12.3.1.170)\n",
      "Requirement already satisfied: nvidia-cusparselt-cu12==0.6.2 in /home/fstomakhin/Documents/CHESS/sec-certs/venv/lib/python3.10/site-packages (from torch) (0.6.2)\n",
      "Requirement already satisfied: nvidia-nccl-cu12==2.21.5 in /home/fstomakhin/Documents/CHESS/sec-certs/venv/lib/python3.10/site-packages (from torch) (2.21.5)\n",
      "Requirement already satisfied: nvidia-nvtx-cu12==12.4.127 in /home/fstomakhin/Documents/CHESS/sec-certs/venv/lib/python3.10/site-packages (from torch) (12.4.127)\n",
      "Requirement already satisfied: nvidia-nvjitlink-cu12==12.4.127 in /home/fstomakhin/Documents/CHESS/sec-certs/venv/lib/python3.10/site-packages (from torch) (12.4.127)\n",
      "Requirement already satisfied: triton==3.2.0 in /home/fstomakhin/Documents/CHESS/sec-certs/venv/lib/python3.10/site-packages (from torch) (3.2.0)\n",
      "Requirement already satisfied: sympy==1.13.1 in /home/fstomakhin/Documents/CHESS/sec-certs/venv/lib/python3.10/site-packages (from torch) (1.13.1)\n",
      "Requirement already satisfied: mpmath<1.4,>=1.1.0 in /home/fstomakhin/Documents/CHESS/sec-certs/venv/lib/python3.10/site-packages (from sympy==1.13.1->torch) (1.3.0)\n",
      "Requirement already satisfied: scipy in /home/fstomakhin/Documents/CHESS/sec-certs/venv/lib/python3.10/site-packages (from sentence-transformers) (1.15.2)\n",
      "Requirement already satisfied: Pillow in /home/fstomakhin/Documents/CHESS/sec-certs/venv/lib/python3.10/site-packages (from sentence-transformers) (11.1.0)\n",
      "Requirement already satisfied: google-auth<3.0.0dev,>=2.14.1 in /home/fstomakhin/Documents/CHESS/sec-certs/venv/lib/python3.10/site-packages (from google-genai) (2.38.0)\n",
      "Requirement already satisfied: httpx<1.0.0dev,>=0.28.1 in /home/fstomakhin/Documents/CHESS/sec-certs/venv/lib/python3.10/site-packages (from google-genai) (0.28.1)\n",
      "Requirement already satisfied: websockets<15.0dev,>=13.0 in /home/fstomakhin/Documents/CHESS/sec-certs/venv/lib/python3.10/site-packages (from google-genai) (14.2)\n",
      "Requirement already satisfied: beautifulsoup4<5.0.0,>=4.12.3 in /home/fstomakhin/Documents/CHESS/sec-certs/venv/lib/python3.10/site-packages (from docling) (4.13.3)\n",
      "Requirement already satisfied: certifi>=2024.7.4 in /home/fstomakhin/Documents/CHESS/sec-certs/venv/lib/python3.10/site-packages (from docling) (2025.1.31)\n",
      "Requirement already satisfied: docling-core<3.0.0,>=2.19.0 in /home/fstomakhin/Documents/CHESS/sec-certs/venv/lib/python3.10/site-packages (from docling-core[chunking]<3.0.0,>=2.19.0->docling) (2.21.1)\n",
      "Requirement already satisfied: docling-ibm-models<4.0.0,>=3.4.0 in /home/fstomakhin/Documents/CHESS/sec-certs/venv/lib/python3.10/site-packages (from docling) (3.4.1)\n",
      "Requirement already satisfied: docling-parse<4.0.0,>=3.3.0 in /home/fstomakhin/Documents/CHESS/sec-certs/venv/lib/python3.10/site-packages (from docling) (3.4.0)\n",
      "Requirement already satisfied: easyocr<2.0,>=1.7 in /home/fstomakhin/Documents/CHESS/sec-certs/venv/lib/python3.10/site-packages (from docling) (1.7.2)\n",
      "Requirement already satisfied: filetype<2.0.0,>=1.2.0 in /home/fstomakhin/Documents/CHESS/sec-certs/venv/lib/python3.10/site-packages (from docling) (1.2.0)\n",
      "Requirement already satisfied: lxml<6.0.0,>=4.0.0 in /home/fstomakhin/Documents/CHESS/sec-certs/venv/lib/python3.10/site-packages (from docling) (5.3.1)\n",
      "Requirement already satisfied: marko<3.0.0,>=2.1.2 in /home/fstomakhin/Documents/CHESS/sec-certs/venv/lib/python3.10/site-packages (from docling) (2.1.2)\n",
      "Requirement already satisfied: openpyxl<4.0.0,>=3.1.5 in /home/fstomakhin/Documents/CHESS/sec-certs/venv/lib/python3.10/site-packages (from docling) (3.1.5)\n",
      "Requirement already satisfied: pypdfium2<5.0.0,>=4.30.0 in /home/fstomakhin/Documents/CHESS/sec-certs/venv/lib/python3.10/site-packages (from docling) (4.30.1)\n",
      "Requirement already satisfied: python-docx<2.0.0,>=1.1.2 in /home/fstomakhin/Documents/CHESS/sec-certs/venv/lib/python3.10/site-packages (from docling) (1.1.2)\n",
      "Requirement already satisfied: python-pptx<2.0.0,>=1.0.2 in /home/fstomakhin/Documents/CHESS/sec-certs/venv/lib/python3.10/site-packages (from docling) (1.0.2)\n",
      "Requirement already satisfied: rtree<2.0.0,>=1.3.0 in /home/fstomakhin/Documents/CHESS/sec-certs/venv/lib/python3.10/site-packages (from docling) (1.3.0)\n",
      "Requirement already satisfied: typer<0.13.0,>=0.12.5 in /home/fstomakhin/Documents/CHESS/sec-certs/venv/lib/python3.10/site-packages (from docling) (0.12.5)\n",
      "Requirement already satisfied: packaging in /home/fstomakhin/Documents/CHESS/sec-certs/venv/lib/python3.10/site-packages (from adapters>=1.0.1->wtpsplit) (24.2)\n",
      "Requirement already satisfied: aiohappyeyeballs>=2.3.0 in /home/fstomakhin/Documents/CHESS/sec-certs/venv/lib/python3.10/site-packages (from aiohttp<4.0.0,>=3.8.3->langchain) (2.4.6)\n",
      "Requirement already satisfied: aiosignal>=1.1.2 in /home/fstomakhin/Documents/CHESS/sec-certs/venv/lib/python3.10/site-packages (from aiohttp<4.0.0,>=3.8.3->langchain) (1.3.2)\n",
      "Requirement already satisfied: attrs>=17.3.0 in /home/fstomakhin/Documents/CHESS/sec-certs/venv/lib/python3.10/site-packages (from aiohttp<4.0.0,>=3.8.3->langchain) (25.1.0)\n",
      "Requirement already satisfied: frozenlist>=1.1.1 in /home/fstomakhin/Documents/CHESS/sec-certs/venv/lib/python3.10/site-packages (from aiohttp<4.0.0,>=3.8.3->langchain) (1.5.0)\n",
      "Requirement already satisfied: multidict<7.0,>=4.5 in /home/fstomakhin/Documents/CHESS/sec-certs/venv/lib/python3.10/site-packages (from aiohttp<4.0.0,>=3.8.3->langchain) (6.1.0)\n",
      "Requirement already satisfied: propcache>=0.2.0 in /home/fstomakhin/Documents/CHESS/sec-certs/venv/lib/python3.10/site-packages (from aiohttp<4.0.0,>=3.8.3->langchain) (0.3.0)\n",
      "Requirement already satisfied: yarl<2.0,>=1.17.0 in /home/fstomakhin/Documents/CHESS/sec-certs/venv/lib/python3.10/site-packages (from aiohttp<4.0.0,>=3.8.3->langchain) (1.18.3)\n",
      "Requirement already satisfied: soupsieve>1.2 in /home/fstomakhin/Documents/CHESS/sec-certs/venv/lib/python3.10/site-packages (from beautifulsoup4<5.0.0,>=4.12.3->docling) (2.6)\n",
      "Requirement already satisfied: marshmallow<4.0.0,>=3.18.0 in /home/fstomakhin/Documents/CHESS/sec-certs/venv/lib/python3.10/site-packages (from dataclasses-json<0.7,>=0.5.7->langchain-community) (3.26.1)\n",
      "Requirement already satisfied: typing-inspect<1,>=0.4.0 in /home/fstomakhin/Documents/CHESS/sec-certs/venv/lib/python3.10/site-packages (from dataclasses-json<0.7,>=0.5.7->langchain-community) (0.9.0)\n",
      "Requirement already satisfied: jsonref<2.0.0,>=1.1.0 in /home/fstomakhin/Documents/CHESS/sec-certs/venv/lib/python3.10/site-packages (from docling-core<3.0.0,>=2.19.0->docling-core[chunking]<3.0.0,>=2.19.0->docling) (1.1.0)\n",
      "Requirement already satisfied: jsonschema<5.0.0,>=4.16.0 in /home/fstomakhin/Documents/CHESS/sec-certs/venv/lib/python3.10/site-packages (from docling-core<3.0.0,>=2.19.0->docling-core[chunking]<3.0.0,>=2.19.0->docling) (4.23.0)\n",
      "Requirement already satisfied: latex2mathml<4.0.0,>=3.77.0 in /home/fstomakhin/Documents/CHESS/sec-certs/venv/lib/python3.10/site-packages (from docling-core<3.0.0,>=2.19.0->docling-core[chunking]<3.0.0,>=2.19.0->docling) (3.77.0)\n",
      "Requirement already satisfied: tabulate<0.10.0,>=0.9.0 in /home/fstomakhin/Documents/CHESS/sec-certs/venv/lib/python3.10/site-packages (from docling-core<3.0.0,>=2.19.0->docling-core[chunking]<3.0.0,>=2.19.0->docling) (0.9.0)\n",
      "Requirement already satisfied: semchunk<3.0.0,>=2.2.0 in /home/fstomakhin/Documents/CHESS/sec-certs/venv/lib/python3.10/site-packages (from docling-core[chunking]<3.0.0,>=2.19.0->docling) (2.2.2)\n",
      "Requirement already satisfied: jsonlines<4.0.0,>=3.1.0 in /home/fstomakhin/Documents/CHESS/sec-certs/venv/lib/python3.10/site-packages (from docling-ibm-models<4.0.0,>=3.4.0->docling) (3.1.0)\n",
      "Requirement already satisfied: opencv-python-headless<5.0.0.0,>=4.6.0.66 in /home/fstomakhin/Documents/CHESS/sec-certs/venv/lib/python3.10/site-packages (from docling-ibm-models<4.0.0,>=3.4.0->docling) (4.11.0.86)\n",
      "Requirement already satisfied: safetensors<1,>=0.4.3 in /home/fstomakhin/Documents/CHESS/sec-certs/venv/lib/python3.10/site-packages (from safetensors[torch]<1,>=0.4.3->docling-ibm-models<4.0.0,>=3.4.0->docling) (0.5.3)\n",
      "Requirement already satisfied: torchvision<1,>=0 in /home/fstomakhin/Documents/CHESS/sec-certs/venv/lib/python3.10/site-packages (from docling-ibm-models<4.0.0,>=3.4.0->docling) (0.21.0)\n",
      "Requirement already satisfied: scikit-image in /home/fstomakhin/Documents/CHESS/sec-certs/venv/lib/python3.10/site-packages (from easyocr<2.0,>=1.7->docling) (0.25.2)\n",
      "Requirement already satisfied: python-bidi in /home/fstomakhin/Documents/CHESS/sec-certs/venv/lib/python3.10/site-packages (from easyocr<2.0,>=1.7->docling) (0.6.6)\n",
      "Requirement already satisfied: Shapely in /home/fstomakhin/Documents/CHESS/sec-certs/venv/lib/python3.10/site-packages (from easyocr<2.0,>=1.7->docling) (2.0.7)\n",
      "Requirement already satisfied: pyclipper in /home/fstomakhin/Documents/CHESS/sec-certs/venv/lib/python3.10/site-packages (from easyocr<2.0,>=1.7->docling) (1.3.0.post6)\n",
      "Requirement already satisfied: ninja in /home/fstomakhin/Documents/CHESS/sec-certs/venv/lib/python3.10/site-packages (from easyocr<2.0,>=1.7->docling) (1.11.1.3)\n",
      "Requirement already satisfied: cachetools<6.0,>=2.0.0 in /home/fstomakhin/Documents/CHESS/sec-certs/venv/lib/python3.10/site-packages (from google-auth<3.0.0dev,>=2.14.1->google-genai) (5.5.2)\n",
      "Requirement already satisfied: pyasn1-modules>=0.2.1 in /home/fstomakhin/Documents/CHESS/sec-certs/venv/lib/python3.10/site-packages (from google-auth<3.0.0dev,>=2.14.1->google-genai) (0.4.1)\n",
      "Requirement already satisfied: rsa<5,>=3.1.4 in /home/fstomakhin/Documents/CHESS/sec-certs/venv/lib/python3.10/site-packages (from google-auth<3.0.0dev,>=2.14.1->google-genai) (4.9)\n",
      "Requirement already satisfied: anyio in /home/fstomakhin/Documents/CHESS/sec-certs/venv/lib/python3.10/site-packages (from httpx<1.0.0dev,>=0.28.1->google-genai) (4.8.0)\n",
      "Requirement already satisfied: httpcore==1.* in /home/fstomakhin/Documents/CHESS/sec-certs/venv/lib/python3.10/site-packages (from httpx<1.0.0dev,>=0.28.1->google-genai) (1.0.7)\n",
      "Requirement already satisfied: idna in /home/fstomakhin/Documents/CHESS/sec-certs/venv/lib/python3.10/site-packages (from httpx<1.0.0dev,>=0.28.1->google-genai) (3.10)\n",
      "Requirement already satisfied: h11<0.15,>=0.13 in /home/fstomakhin/Documents/CHESS/sec-certs/venv/lib/python3.10/site-packages (from httpcore==1.*->httpx<1.0.0dev,>=0.28.1->google-genai) (0.14.0)\n",
      "Requirement already satisfied: jsonpatch<2.0,>=1.33 in /home/fstomakhin/Documents/CHESS/sec-certs/venv/lib/python3.10/site-packages (from langchain-core<1.0.0,>=0.3.35->langchain) (1.33)\n",
      "Requirement already satisfied: orjson<4.0.0,>=3.9.14 in /home/fstomakhin/Documents/CHESS/sec-certs/venv/lib/python3.10/site-packages (from langsmith<0.4,>=0.1.17->langchain) (3.10.15)\n",
      "Requirement already satisfied: requests-toolbelt<2.0.0,>=1.0.0 in /home/fstomakhin/Documents/CHESS/sec-certs/venv/lib/python3.10/site-packages (from langsmith<0.4,>=0.1.17->langchain) (1.0.0)\n",
      "Requirement already satisfied: zstandard<0.24.0,>=0.23.0 in /home/fstomakhin/Documents/CHESS/sec-certs/venv/lib/python3.10/site-packages (from langsmith<0.4,>=0.1.17->langchain) (0.23.0)\n",
      "Requirement already satisfied: coloredlogs in /home/fstomakhin/Documents/CHESS/sec-certs/venv/lib/python3.10/site-packages (from onnxruntime>=1.13.1->wtpsplit) (15.0.1)\n",
      "Requirement already satisfied: flatbuffers in /home/fstomakhin/Documents/CHESS/sec-certs/venv/lib/python3.10/site-packages (from onnxruntime>=1.13.1->wtpsplit) (25.2.10)\n",
      "Requirement already satisfied: et-xmlfile in /home/fstomakhin/Documents/CHESS/sec-certs/venv/lib/python3.10/site-packages (from openpyxl<4.0.0,>=3.1.5->docling) (2.0.0)\n",
      "Requirement already satisfied: python-dateutil>=2.8.2 in /home/fstomakhin/Documents/CHESS/sec-certs/venv/lib/python3.10/site-packages (from pandas>=1->wtpsplit) (2.9.0.post0)\n",
      "Requirement already satisfied: pytz>=2020.1 in /home/fstomakhin/Documents/CHESS/sec-certs/venv/lib/python3.10/site-packages (from pandas>=1->wtpsplit) (2025.1)\n",
      "Requirement already satisfied: tzdata>=2022.7 in /home/fstomakhin/Documents/CHESS/sec-certs/venv/lib/python3.10/site-packages (from pandas>=1->wtpsplit) (2025.1)\n",
      "Requirement already satisfied: annotated-types>=0.6.0 in /home/fstomakhin/Documents/CHESS/sec-certs/venv/lib/python3.10/site-packages (from pydantic<3.0.0,>=2.7.4->langchain) (0.7.0)\n",
      "Requirement already satisfied: pydantic-core==2.27.2 in /home/fstomakhin/Documents/CHESS/sec-certs/venv/lib/python3.10/site-packages (from pydantic<3.0.0,>=2.7.4->langchain) (2.27.2)\n",
      "Requirement already satisfied: python-dotenv>=0.21.0 in /home/fstomakhin/Documents/CHESS/sec-certs/venv/lib/python3.10/site-packages (from pydantic-settings<3.0.0,>=2.4.0->langchain-community) (1.0.1)\n",
      "Requirement already satisfied: XlsxWriter>=0.5.7 in /home/fstomakhin/Documents/CHESS/sec-certs/venv/lib/python3.10/site-packages (from python-pptx<2.0.0,>=1.0.2->docling) (3.2.2)\n",
      "Requirement already satisfied: charset-normalizer<4,>=2 in /home/fstomakhin/Documents/CHESS/sec-certs/venv/lib/python3.10/site-packages (from requests<3,>=2->langchain) (3.4.1)\n",
      "Requirement already satisfied: urllib3<3,>=1.21.1 in /home/fstomakhin/Documents/CHESS/sec-certs/venv/lib/python3.10/site-packages (from requests<3,>=2->langchain) (2.3.0)\n",
      "Requirement already satisfied: joblib>=1.2.0 in /home/fstomakhin/Documents/CHESS/sec-certs/venv/lib/python3.10/site-packages (from scikit-learn>=1->wtpsplit) (1.4.2)\n",
      "Requirement already satisfied: threadpoolctl>=3.1.0 in /home/fstomakhin/Documents/CHESS/sec-certs/venv/lib/python3.10/site-packages (from scikit-learn>=1->wtpsplit) (3.5.0)\n",
      "Requirement already satisfied: greenlet!=0.4.17 in /home/fstomakhin/Documents/CHESS/sec-certs/venv/lib/python3.10/site-packages (from SQLAlchemy<3,>=1.4->langchain) (3.1.1)\n",
      "Requirement already satisfied: regex!=2019.12.17 in /home/fstomakhin/Documents/CHESS/sec-certs/venv/lib/python3.10/site-packages (from transformers>=4.22.2->wtpsplit) (2024.11.6)\n",
      "Requirement already satisfied: tokenizers<0.22,>=0.21 in /home/fstomakhin/Documents/CHESS/sec-certs/venv/lib/python3.10/site-packages (from transformers>=4.22.2->wtpsplit) (0.21.0)\n",
      "Requirement already satisfied: click>=8.0.0 in /home/fstomakhin/Documents/CHESS/sec-certs/venv/lib/python3.10/site-packages (from typer<0.13.0,>=0.12.5->docling) (8.1.8)\n",
      "Requirement already satisfied: shellingham>=1.3.0 in /home/fstomakhin/Documents/CHESS/sec-certs/venv/lib/python3.10/site-packages (from typer<0.13.0,>=0.12.5->docling) (1.5.4)\n",
      "Requirement already satisfied: rich>=10.11.0 in /home/fstomakhin/Documents/CHESS/sec-certs/venv/lib/python3.10/site-packages (from typer<0.13.0,>=0.12.5->docling) (13.9.4)\n",
      "Requirement already satisfied: MarkupSafe>=2.0 in /home/fstomakhin/Documents/CHESS/sec-certs/venv/lib/python3.10/site-packages (from jinja2->torch) (3.0.2)\n",
      "Requirement already satisfied: docopt in /home/fstomakhin/Documents/CHESS/sec-certs/venv/lib/python3.10/site-packages (from mosestokenizer->wtpsplit) (0.6.2)\n",
      "Requirement already satisfied: openfile in /home/fstomakhin/Documents/CHESS/sec-certs/venv/lib/python3.10/site-packages (from mosestokenizer->wtpsplit) (0.0.7)\n",
      "Requirement already satisfied: uctools in /home/fstomakhin/Documents/CHESS/sec-certs/venv/lib/python3.10/site-packages (from mosestokenizer->wtpsplit) (1.3.0)\n",
      "Requirement already satisfied: toolwrapper in /home/fstomakhin/Documents/CHESS/sec-certs/venv/lib/python3.10/site-packages (from mosestokenizer->wtpsplit) (2.1.0)\n",
      "Requirement already satisfied: jsonpointer>=1.9 in /home/fstomakhin/Documents/CHESS/sec-certs/venv/lib/python3.10/site-packages (from jsonpatch<2.0,>=1.33->langchain-core<1.0.0,>=0.3.35->langchain) (3.0.0)\n",
      "Requirement already satisfied: jsonschema-specifications>=2023.03.6 in /home/fstomakhin/Documents/CHESS/sec-certs/venv/lib/python3.10/site-packages (from jsonschema<5.0.0,>=4.16.0->docling-core<3.0.0,>=2.19.0->docling-core[chunking]<3.0.0,>=2.19.0->docling) (2024.10.1)\n",
      "Requirement already satisfied: referencing>=0.28.4 in /home/fstomakhin/Documents/CHESS/sec-certs/venv/lib/python3.10/site-packages (from jsonschema<5.0.0,>=4.16.0->docling-core<3.0.0,>=2.19.0->docling-core[chunking]<3.0.0,>=2.19.0->docling) (0.36.2)\n",
      "Requirement already satisfied: rpds-py>=0.7.1 in /home/fstomakhin/Documents/CHESS/sec-certs/venv/lib/python3.10/site-packages (from jsonschema<5.0.0,>=4.16.0->docling-core<3.0.0,>=2.19.0->docling-core[chunking]<3.0.0,>=2.19.0->docling) (0.23.1)\n",
      "Requirement already satisfied: pyasn1<0.7.0,>=0.4.6 in /home/fstomakhin/Documents/CHESS/sec-certs/venv/lib/python3.10/site-packages (from pyasn1-modules>=0.2.1->google-auth<3.0.0dev,>=2.14.1->google-genai) (0.6.1)\n",
      "Requirement already satisfied: six>=1.5 in /home/fstomakhin/Documents/CHESS/sec-certs/venv/lib/python3.10/site-packages (from python-dateutil>=2.8.2->pandas>=1->wtpsplit) (1.17.0)\n",
      "Requirement already satisfied: markdown-it-py>=2.2.0 in /home/fstomakhin/Documents/CHESS/sec-certs/venv/lib/python3.10/site-packages (from rich>=10.11.0->typer<0.13.0,>=0.12.5->docling) (3.0.0)\n",
      "Requirement already satisfied: pygments<3.0.0,>=2.13.0 in /home/fstomakhin/Documents/CHESS/sec-certs/venv/lib/python3.10/site-packages (from rich>=10.11.0->typer<0.13.0,>=0.12.5->docling) (2.19.1)\n",
      "Requirement already satisfied: mpire[dill] in /home/fstomakhin/Documents/CHESS/sec-certs/venv/lib/python3.10/site-packages (from semchunk<3.0.0,>=2.2.0->docling-core[chunking]<3.0.0,>=2.19.0->docling) (2.10.2)\n",
      "Requirement already satisfied: mypy-extensions>=0.3.0 in /home/fstomakhin/Documents/CHESS/sec-certs/venv/lib/python3.10/site-packages (from typing-inspect<1,>=0.4.0->dataclasses-json<0.7,>=0.5.7->langchain-community) (1.0.0)\n",
      "Requirement already satisfied: exceptiongroup>=1.0.2 in /home/fstomakhin/Documents/CHESS/sec-certs/venv/lib/python3.10/site-packages (from anyio->httpx<1.0.0dev,>=0.28.1->google-genai) (1.2.2)\n",
      "Requirement already satisfied: sniffio>=1.1 in /home/fstomakhin/Documents/CHESS/sec-certs/venv/lib/python3.10/site-packages (from anyio->httpx<1.0.0dev,>=0.28.1->google-genai) (1.3.1)\n",
      "Requirement already satisfied: humanfriendly>=9.1 in /home/fstomakhin/Documents/CHESS/sec-certs/venv/lib/python3.10/site-packages (from coloredlogs->onnxruntime>=1.13.1->wtpsplit) (10.0)\n",
      "Requirement already satisfied: imageio!=2.35.0,>=2.33 in /home/fstomakhin/Documents/CHESS/sec-certs/venv/lib/python3.10/site-packages (from scikit-image->easyocr<2.0,>=1.7->docling) (2.37.0)\n",
      "Requirement already satisfied: tifffile>=2022.8.12 in /home/fstomakhin/Documents/CHESS/sec-certs/venv/lib/python3.10/site-packages (from scikit-image->easyocr<2.0,>=1.7->docling) (2025.2.18)\n",
      "Requirement already satisfied: lazy-loader>=0.4 in /home/fstomakhin/Documents/CHESS/sec-certs/venv/lib/python3.10/site-packages (from scikit-image->easyocr<2.0,>=1.7->docling) (0.4)\n",
      "Requirement already satisfied: mdurl~=0.1 in /home/fstomakhin/Documents/CHESS/sec-certs/venv/lib/python3.10/site-packages (from markdown-it-py>=2.2.0->rich>=10.11.0->typer<0.13.0,>=0.12.5->docling) (0.1.2)\n",
      "Requirement already satisfied: multiprocess in /home/fstomakhin/Documents/CHESS/sec-certs/venv/lib/python3.10/site-packages (from mpire[dill]->semchunk<3.0.0,>=2.2.0->docling-core[chunking]<3.0.0,>=2.19.0->docling) (0.70.16)\n",
      "Requirement already satisfied: dill>=0.3.8 in /home/fstomakhin/Documents/CHESS/sec-certs/venv/lib/python3.10/site-packages (from multiprocess->mpire[dill]->semchunk<3.0.0,>=2.2.0->docling-core[chunking]<3.0.0,>=2.19.0->docling) (0.3.8)\n"
     ]
    }
   ],
   "source": [
    "!pip install langchain langchain-community wtpsplit torch sentence-transformers sentencepiece protobuf==3.20.0 google-genai docling"
   ]
  },
  {
   "cell_type": "code",
   "execution_count": 2,
   "id": "09474b77-96c1-45ad-b73b-96d617c4c5be",
   "metadata": {},
   "outputs": [],
   "source": [
    "from langchain.document_loaders import PyPDFLoader\n",
    "from wtpsplit import SaT\n",
    "import os\n",
    "import torch\n",
    "\n",
    "device = \"cuda\" if torch.cuda.is_available() else \"cpu\"\n",
    "sat = SaT(\"sat-12l-sm\")\n",
    "sat.half().to(device)\n",
    "#Sample PDF PATH\n",
    "example_pdf_path = os.path.expanduser('../../cc_data/certs/reports/pdf/61da6b1582e593c8.pdf')"
   ]
  },
  {
   "cell_type": "code",
   "execution_count": 3,
   "id": "1c9d692a",
   "metadata": {},
   "outputs": [
    {
     "name": "stderr",
     "output_type": "stream",
     "text": [
      "/home/fstomakhin/Documents/CHESS/sec-certs/venv/lib/python3.10/site-packages/docling_core/types/doc/document.py:3339: DeprecationWarning: deprecated\n",
      "  if not d.validate_tree(d.body) or not d.validate_tree(d.furniture):\n"
     ]
    }
   ],
   "source": [
    "from docling.document_converter import DocumentConverter \n",
    "# for doing with gpu, set up some proper PipelineOptions and AcceleratorDevice: https://ds4sd.github.io/docling/examples/minimal_vlm_pipeline/\n",
    "def to_text_docling(pdf_path: str) -> str:\n",
    "    converter = DocumentConverter()\n",
    "    result = converter.convert(pdf_path)\n",
    "    return result.document.export_to_markdown()"
   ]
  },
  {
   "cell_type": "code",
   "execution_count": 4,
   "id": "93ef1798",
   "metadata": {},
   "outputs": [
    {
     "name": "stderr",
     "output_type": "stream",
     "text": [
      "/home/fstomakhin/Documents/CHESS/sec-certs/venv/lib/python3.10/site-packages/docling/pipeline/standard_pdf_pipeline.py:76: DeprecationWarning: Field `generate_table_images` is deprecated. To obtain table images, set `PdfPipelineOptions.generate_page_images = True` before conversion and then use the `TableItem.get_image` function.\n",
      "  or self.pipeline_options.generate_table_images\n",
      "/home/fstomakhin/Documents/CHESS/sec-certs/venv/lib/python3.10/site-packages/docling_core/types/doc/document.py:3339: DeprecationWarning: deprecated\n",
      "  if not d.validate_tree(d.body) or not d.validate_tree(d.furniture):\n",
      "/home/fstomakhin/Documents/CHESS/sec-certs/venv/lib/python3.10/site-packages/docling/pipeline/standard_pdf_pipeline.py:268: DeprecationWarning: Field `generate_table_images` is deprecated. To obtain table images, set `PdfPipelineOptions.generate_page_images = True` before conversion and then use the `TableItem.get_image` function.\n",
      "  or self.pipeline_options.generate_table_images\n"
     ]
    },
    {
     "data": {
      "text/plain": [
       "\"## TÜV Rheinland Nederland B.V.\\n\\n## Certification Report\\n\\n## FortiOS 6.4.9\\n\\nSponsor and developer:\\n\\nFortinet, Inc. 899 Kifer Road Sunnyvale, CA 94086 USA\\n\\nEvaluation facility:\\n\\nSGS Brightsight B.V. Brassersplein 2 2612 CT Delft The Netherlands\\n\\nReport number:\\n\\nNSCIB-CC-0587886-CR\\n\\nReport version:\\n\\n1\\n\\nProject number:\\n\\n0587886\\n\\nAuthor(s):\\n\\nAndy Brown\\n\\nDate:\\n\\n14 August 2023\\n\\nNumber of pages:\\n\\n12\\n\\nNumber of appendices:\\n\\n0\\n\\nReproduction of this report is authorised only if the report is reproduced in its entirety.\\n\\nTel. +31 (0)88 888 7 888 Fax +31 (0)88 888 7 879\\n\\n<!-- image -->\\n\\n<!-- image -->\\n\\n## CONTENTS\\n\\n| Foreword                       | Foreword                                    | 3   |\\n|--------------------------------|---------------------------------------------|-----|\\n| Recognition of the Certificate | Recognition of the Certificate              | 4   |\\n| International recognition      | International recognition                   | 4   |\\n| European recognition           | European recognition                        | 4   |\\n| 1 Executive Summary            | 1 Executive Summary                         | 5   |\\n| 2 Certification Results        | 2 Certification Results                     | 6   |\\n| 2.1                            | Identification of Target of Evaluation      | 6   |\\n| 2.2                            | Security Policy                             | 6   |\\n| 2.3                            | Assumptions and Clarification of Scope      | 7   |\\n| 2.3.1                          | Assumptions                                 | 7   |\\n| 2.3.2                          | Clarification of scope                      | 7   |\\n| 2.4                            | Architectural Information                   | 7   |\\n| 2.5                            | Documentation                               | 8   |\\n| 2.6                            | IT Product Testing                          | 8   |\\n| 2.6.1                          | Testing approach and depth                  | 8   |\\n| 2.6.3                          |                                             | 9   |\\n|                                | Test configuration                          |     |\\n| 2.6.4                          | Test results                                | 9   |\\n| 2.7                            | Reused Evaluation Results                   | 9   |\\n| 2.8                            | Evaluated Configuration  Evaluation Results | 9   |\\n| 2.9                            |                                             | 9   |\\n| 2.10                           | Comments/Recommendations                    | 9   |\\n| 3 Security Target              | 3 Security Target                           | 11  |\\n| 4 Definitions                  | 4 Definitions                               | 11  |\\n| 5 Bibliography                 | 5 Bibliography                              | 12  |\\n\\n<!-- image -->\\n\\n## Foreword\\n\\nThe Netherlands Scheme for Certification in the Area of IT Security (NSCIB) provides a third-party evaluation and certification service for determining the trustworthiness of Information Technology (IT) security products. Under this NSCIB, TÜV Rheinland Nederland B.V. has the task of issuing certificates for IT security products, as well as for protection profiles and sites.\\n\\nPart of the procedure is the technical examination (evaluation) of the product, protection profile or site according to the Common Criteria assessment guidelines published by the NSCIB. Evaluations are performed by an IT Security Evaluation Facility (ITSEF) under the oversight of the NSCIB Certification Body, which is operated by TÜV Rheinland Nederland B.V. in cooperation with the Ministry of the Interior and Kingdom Relations.\\n\\nAn ITSEF in the Netherlands is a commercial facility that has been licensed by TÜV Rheinland Nederland B.V. to perform Common Criteria evaluations; a significant requirement for such a licence is accreditation to the requirements of ISO Standard 17025 'General requirements for the accreditation of calibration and testing laboratories'.\\n\\nBy awarding a Common Criteria certificate, TÜV Rheinland Nederland B.V. asserts that the product or site complies with the security requirements specified in the associated (site) security target, or that the protection profile (PP) complies with the requirements for PP evaluation specified in the Common Criteria for Information Security Evaluation. A (site) security target is a requirements specification document that defines the scope of the evaluation activities.\\n\\nThe consumer should review the (site) security target or protection profile, in addition to this certification report, to gain an understanding of any assumptions made during the evaluation, the IT product's intended environment, its security requirements, and the level of confidence (i.e., the evaluation assurance level) that the product or site satisfies the security requirements stated in the (site) security target.\\n\\nReproduction of this report is authorised only if the report is reproduced in its entirety.\\n\\n<!-- image -->\\n\\n## Recognition of the Certificate\\n\\nThe presence of the Common Criteria Recognition Arrangement (CCRA) and the SOG-IS logos on the certificate indicates that this certificate is issued in accordance with the provisions of the CCRA and the SOG-IS Mutual Recognition Agreement (SOG-IS MRA) and will be recognised by the participating nations.\\n\\n## International recognition\\n\\nThe CCRA was signed by the Netherlands in May 2000 and provides mutual recognition of certificates based on the Common Criteria (CC). Since September 2014 the CCRA has been updated to provide mutual recognition of certificates based on cPPs (exact use) or STs with evaluation assurance components up to and including EAL2+ALC\\\\_FLR.\\n\\nFor details of the current list of signatory nations and approved certification schemes, see http://www.commoncriteriaportal.org.\\n\\n## European recognition\\n\\nThe SOG-IS MRA Version 3, effective since April 2010, provides mutual recognition in Europe of Common Criteria and ITSEC certificates at a basic evaluation level for all products. A higher recognition level for evaluation levels beyond EAL4 (respectively E3-basic) is provided for products related to specific technical domains. This agreement was signed initially by Finland, France, Germany, The Netherlands, Norway, Spain, Sweden and the United Kingdom. Italy joined the SOG-IS MRA in December 2010.\\n\\nFor details of the current list of signatory nations, approved certification schemes and the list of technical domains for which the higher recognition applies, see https://www.sogis.eu.\\n\\n<!-- image -->\\n\\n## 1 Executive Summary\\n\\nThis Certification Report states the outcome of the Common Criteria security evaluation of the FortiOS 6.4.9. The developer of the FortiOS 6.4.9 is Fortinet, Inc. located in Sunnyvale, USA and they also act as the sponsor of the evaluation and certification. A Certification Report is intended to assist prospective consumers when judging the suitability of the IT security properties of the product for their particular requirements.\\n\\nThe TOE provides firewall, Virtual Private Network (VPN), Virtual Local Area Network (VLAN), antivirus protection, antispam protection and content filtering to provide network protection for Internet Protocol version 4 (IPv4) and Internet Protocol version 6 (IPv6) networks.\\n\\nFortiOS can be deployed on a dedicated FortiGate appliance or as a virtual machine running on VMware ESXi. Administration of the system may be performed locally using an administrator console, or remotely via a network management workstation. FortiOS firewalls can operate either standalone or as part of a cluster in order to provide high availability of services.\\n\\nThe TOE has been evaluated by SGS Brightsight B.V. located in Delft. The evaluation was completed on 14-08-2023 with the approval of the ETR. The certification procedure has been conducted in accordance with the provisions of the Netherlands Scheme for Certification in the Area of IT Security [NSCIB] .\\n\\nThe scope of the evaluation is defined by the security target [ST] , which identifies assumptions made during the evaluation, the intended environment for the FortiOS 6.4.9, the security requirements, and the level of confidence (evaluation assurance level) at which the product is intended to satisfy the security requirements. Consumers of the FortiOS 6.4.9 are advised to verify that their own environment is consistent with the security target, and to give due consideration to the comments, observations and recommendations in this certification report.\\n\\nThe results documented in the evaluation technical report [ETR] 1  for this product provide sufficient evidence that the TOE meets the EAL4 augmented (EAL4+) assurance requirements for the evaluated security functionality. This assurance level is augmented with ALC\\\\_FLR.3 Systematic Flaw Remediation\\n\\nThe evaluation was conducted using the Common Methodology for Information Technology Security Evaluation, Version 3.1 Revision 5 [CEM] for conformance to the Common Criteria for Information Technology Security Evaluation, Version 3.1 Revision 5 [CC] (Parts I, II and III).\\n\\nTÜV Rheinland Nederland B.V., as the NSCIB Certification Body, declares that the evaluation meets all the conditions for international recognition of Common Criteria Certificates and that the product will be listed on the NSCIB Certified Products list. Note that the certification results apply only to the specific version of the product as evaluated.\\n\\n## 2 Certification Results\\n\\n## 2.1 Identification of Target of Evaluation\\n\\nThe Target of Evaluation (TOE) for this evaluation is the FortiOS 6.4.9 from Fortinet, Inc. located in Sunnyvale, USA.\\n\\nThe TOE is comprised of the following main components:\\n\\n| Delivery  item type   | Identifier    | Version                      |\\n|-----------------------|---------------|------------------------------|\\n| Software              | FortiOS 6.4.9 | FortiOS v6.4.9, FIPS-CC-64-7 |\\n\\nTo ensure secure usage a set of guidance documents is provided, together with the FortiOS 6.4.9. For details, see section 2.5 'Documentation' of this report.\\n\\n## 2.2 Security Policy\\n\\nThe TOE has the following features:\\n\\n- \\uf0b7 Security Audit:\\n- o The TOE creates audit records for administrative events, potential policy violations and information flow decisions. The TOE records the identity of the administrator or user who caused the event for which the audit record is created. The TOE applies timestamps to auditable events as they occur.\\n- \\uf0b7 Cryptographic support:\\n- o Cryptographic functionality is provided to protect communications for remote administration, VPN, and peer-to-peer connections within a cluster.\\n- \\uf0b7 User Data Protection:\\n- o The TOE provides interfaces to a defined set of networks and mediates information flow among these networks. The TOE supports firewall and web filtering policies. The security functional policies are implemented as firewall rules. The rules that implement the Firewall SFP have restrictive default values and by default no information is allowed to flow. The Web Filtering SFP has permissive default values, and does not block URLs until specifically identified. Modification of the rules is restricted to an authorized administrator, and an authorized administrator may also specify alternative initial values to override the default values.\\n- \\uf0b7 Identification and authentication:\\n- o In order to protect the TOE data and services, the TOE requires identification and authentication for all administrative access and network user access to specific services. The TOE maintains identity, role/authorization and authentication data to support this functionality. Identification and authentication are always enforced on the serial interface (local console). On the network interfaces identification and authentication is enforced for all administrator access, specific services, and VPN users.\\n- \\uf0b7 Security Management\\n- o Appropriately authorized administrators may manage security function behaviour, users, IPS policies and information flow policies. The TOE immediately enforces the revocation of a user from an administrative access profile. The TOE provides a webbased GUI and a local Console CLI for administrators to manage all of the security functions. An administrator account consists of an administrator's identification and authentication information, and access profile. The access profile is a set of permissions that determine which functions the administrator is allowed to access.\\n- \\uf0b7 Protection of the TSF:\\n- o The HA feature provides failover protection capability which includes configuration synchronization. The FortiGate units that make up the HA cluster exchange configuration information using a proprietary protocol (FortiGate Clustering Protocol\\n\\n<!-- image -->\\n\\n<!-- image -->\\n\\n(FGCP). Before any information is exchanged, members of a HA cluster authenticate using information built into the FortiGate unit at the time of manufacture.\\n\\n## \\uf0b7 Trusted Path / Channels:\\n\\n- o The TOE provides trusted paths and trusted channels, protected by encryption to guard against disclosure and protected by cryptographic signature to detect modifications. The trusted paths and trusted channels are logically distinct from other communication paths and provide assured identification of their end points. The trusted paths are used to protect remote administrator authentication and all remote administrator actions.\\n\\n## \\uf0b7 Intrusion Prevention\\n\\n- o The TOE provides an Intrusion Prevention System that examines  network traffic arriving on its interfaces for evidence of intrusion attempts. Ingress packets received on a FortiGate interface are passed to the Denial of Service sensors, which determine if it is a valid information request or not. Detection of any potential attack is recorded in the IPS or packet logs. If the packet can pass based on the information flow policy (based on the Fortinet Protection Profile), it is examined against IPS signatures known to indicate potential attacks.\\n\\n## \\uf0b7 Anti-Virus\\n\\n- o The TOE detects and prevents virus attacks contained within information flows which arrive at any of its network interfaces. An authorized administrator may configure the TOE to block and or quarantine a virus which is detected in an information flow.\\n\\n## 2.3 Assumptions and Clarification of Scope\\n\\n## 2.3.1 Assumptions\\n\\nThe assumptions defined in the Security Target are not covered by the TOE itself. These aspects lead to specific Security Objectives to be fulfilled by the TOE-Environment. For detailed information on the security objectives that must be fulfilled by the TOE environment, see section 4.2 of the [ST] .\\n\\n## 2.3.2 Clarification of scope\\n\\nThe evaluation did not reveal any threats to the TOE that are not countered by the evaluated security functions of the product\\n\\n## 2.4 Architectural Information\\n\\nThe logical architecture of the TOE is depicted below:\\n\\n<!-- image -->\\n\\n<!-- image -->\\n\\nFortiOS (TOE) provides firewall, Virtual Private Network (VPN), Virtual Local Area Network (VLAN), antivirus protection, antispam protection and content filtering to provide network protection for Internet Protocol version 4 (IPv4) and Internet Protocol version 6 (IPv6) networks.\\n\\nFortiOS can be deployed on a dedicated FortiGate appliance or as a virtual machine running on VMware ESXi. Administration of the system may be performed locally using an administrator console, or remotely via a network management workstation. FortiOS firewalls can operate either standalone or as part of a cluster in order to provide high availability of services.\\n\\n## 2.5 Documentation\\n\\nThe following documentation is provided with the product by the developer to the customer:\\n\\n| Identifier                                        | Version                    |\\n|---------------------------------------------------|----------------------------|\\n| FortiOS-6.4.9-Administration\\\\_Guide                | 01-649-607590-20220822     |\\n| FortiOS-6.4.9-CLI\\\\_Reference                       | 01-649-684766-20220426     |\\n| FortiOS\\\\_6.4.9\\\\_Log\\\\_Reference                       | 01-649-619093-20220520     |\\n| FortiOS - Release Notes                           | 01-649-764531-20220627     |\\n| FortiOS 6.4 and 7.0 EAL4 Common Criteria Technote | 01-649/707-817723-20230718 |\\n\\n## 2.6 IT Product Testing\\n\\nTesting (depth, coverage, functional tests, independent testing): The evaluators examined the developer's testing activities documentation and verified that the developer has met their testing responsibilities.\\n\\n## 2.6.1 Testing approach and depth\\n\\nAn extensive test execution phase has been performed by the developer. The test information provided described the procedure of executing the tests, test scenarios, non-TOE environment, test coverage and depth correspondence. Test cases covered all TSFI's and all subsystems and module interactions. All [SFR] were tested meaning the complete TSF was also tested.\\n\\nThe evaluator created additional test cases to confirm verification of the version of the TOE / to supplement coverage of SFRs and/or TSFI to further exercise the behaviour of critical functionality.\\n\\n<!-- image -->\\n\\n## 2.6.2 Independent penetration testing\\n\\nTo identify potential vulnerabilities the evaluator performed the following activities:\\n\\n- \\uf0b7 SFR design analysis: Based on the information obtained in the evaluation evidence, the SFR implementation details were examined. The aspects described in CEM annex B were considered. During this examination several potential vulnerabilities were identified.\\n- \\uf0b7 Additional security analysis: When the implementation of the SFR was understood, a coverage check were performed on the relevant aspects of all SFRs. This expanded the list of potential vulnerabilities.\\n- \\uf0b7 Scanning the TOE using the applicable vulnerability scanning tools (e.g., NMAP, NESSUS) to collect information about the TOE and identify potential vulnerabilities.\\n- \\uf0b7 Public vulnerability search: The evaluator performed public domain vulnerability search based on the TOE name, TOE type, and identified 3rd party security relevant libraries and/or services. Several additional potential vulnerabilities were identified during a search in the public domain.\\n\\nThe potential vulnerabilities identified were analysed, and some of the potential vulnerabilities were concluded not exploitable or covered by guidance. For remaining potential vulnerabilities, penetration tests were devised.\\n\\nThe total test effort expended by the evaluators was two weeks. During that test campaign, 100% of the total time was spent on logical tests.\\n\\n## 2.6.3 Test configuration\\n\\nThe configuration of the sample used for independent evaluator testing and penetration testing was the same as described in the [ST] .\\n\\n## 2.6.4 Test results\\n\\nThe testing activities, including configurations, procedures, test cases, expected results and observed results are summarised in the [ETR] , with references to the documents containing the full details.\\n\\nThe developer's tests and the independent functional tests produced the expected results, giving assurance that the TOE behaves as specified in its [ST] and functional specification.\\n\\nNo exploitable vulnerabilities were found with the independent penetration tests.\\n\\n## 2.7 Reused Evaluation Results\\n\\nThere is no reuse of evaluation results in this certification.\\n\\n## 2.8 Evaluated Configuration\\n\\nThe TOE is defined uniquely by its name and version number FortiOS 6.4.9.\\n\\n## 2.9 Evaluation Results\\n\\nThe evaluation lab documented their evaluation results in the [ETR] , which references an ASE Intermediate Report and other evaluator documents.\\n\\nThe verdict of each claimed assurance requirement is ' Pass '.\\n\\nBased on the above evaluation results the evaluation lab concluded the FortiOS 6.4.9, to be CC Part 2 extended, CC Part 3 conformant and to meet the requirements of EAL 4 augmented ALC\\\\_FLR.3 .. This implies that the product satisfies the security requirements specified in Security Target [ST] .\\n\\n## 2.10  Comments/Recommendations\\n\\nThe user guidance as outlined in section 2.5 'Documentation' contains necessary information about the usage of the TOE. Certain aspects of the TOE's security functionality, in particular the countermeasures against attacks, depend on accurate conformance to the user guidance of both the\\n\\n<!-- image -->\\n\\nsoftware and the hardware part of the TOE. There are no particular obligations or recommendations for the user apart from following the user guidance. Please note that the documents contain relevant details concerning the resistance against certain attacks.\\n\\nIn addition, all aspects of assumptions, threats and policies as outlined in the Security Target not covered by the TOE itself must be fulfilled by the operational environment of the TOE.\\n\\nThe customer or user of the product shall consider the results of the certification within his system risk management process. For the evolution of attack methods and techniques to be covered, the customer should define the period of time until a re-assessment for the TOE is required and thus requested from the sponsor of the certificate.\\n\\nThe strength of the cryptographic algorithms and protocols was not rated in the course of this evaluation. This specifically applies to the following proprietary or non-standard algorithms, protocols and implementations: none.\\n\\n<!-- image -->\\n\\n## 3 Security Target\\n\\nThe FortiOS® 6.4 Security Target, 01-649-850164-20230718, Version 2.0, 18 July 2023 [ST] is included here by reference.\\n\\n## 4 Definitions\\n\\nThis list of acronyms and definitions contains elements that are not already defined by the CC or CEM:\\n\\nIT\\n\\nInformation Technology\\n\\nITSEF\\n\\nIT Security Evaluation Facility\\n\\nJIL\\n\\nJoint Interpretation Library\\n\\nLAN\\n\\nLocal Area Network\\n\\nNSCIB\\n\\nNetherlands Scheme for Certification in the area of IT Security\\n\\nPP\\n\\nProtection Profile\\n\\nTOE\\n\\nTarget of Evaluation\\n\\nVLAN\\n\\nVirtual LAN\\n\\n<!-- image -->\\n\\n## 5 Bibliography\\n\\nThis section lists all referenced documentation used as source material in the compilation of this report.\\n\\n[CC]\\n\\nCommon Criteria for Information Technology Security Evaluation, Parts I, II and III, Version 3.1 Revision 5, April 2017\\n\\n[CEM]\\n\\nCommon Methodology for Information Technology Security Evaluation,\\n\\nVersion 3.1 Revision 5, April 2017\\n\\n[ETR]\\n\\nEvaluation Technical Report 'Fortinet FortiOS 6.4.x' - EAL4+, 22-RPT-550, 25 July 2023, Version 3.0\\n\\n[NSCIB]\\n\\nNetherlands Scheme for Certification in the Area of IT Security, Version 2.5, 28 March 2019\\n\\n[ST]\\n\\nFortiOS® 6.4 Security Target, 01-649-850164-20230718, Version 2.0, 18 July 2023\\n\\n(This is the end of this report.)\""
      ]
     },
     "execution_count": 4,
     "metadata": {},
     "output_type": "execute_result"
    }
   ],
   "source": [
    "to_text_docling(example_pdf_path)"
   ]
  },
  {
   "cell_type": "code",
   "execution_count": null,
   "id": "fba9e07f",
   "metadata": {},
   "outputs": [],
   "source": [
    "def to_text_yakup(pdf_path: str) -> str:\n",
    "    def preprocess_sent_segment(fulltext):\n",
    "        no_new_line = fulltext.replace(\"\\n\", \"\")\n",
    "        new_splitted = sat.split(no_new_line)\n",
    "        return new_splitted\n",
    "\n",
    "    loader = PyPDFLoader(os.path.join(pdf_path))\n",
    "    documents = loader.load()\n",
    "    texts = preprocess_sent_segment(\"\".join([page.page_content for page in documents]))\n",
    "    return '\\n'.join(texts)"
   ]
  },
  {
   "cell_type": "code",
   "execution_count": 40,
   "id": "e014e775",
   "metadata": {},
   "outputs": [],
   "source": [
    "from google import genai\n",
    "from google.genai import types\n",
    "import pathlib\n",
    "import httpx\n",
    "try:\n",
    "    api_key = open(\"../../gemini_api_key\").read().strip()\n",
    "    if not api_key:\n",
    "        raise ValueError(\"API key file exists but is empty\")\n",
    "except FileNotFoundError:\n",
    "    raise FileNotFoundError(\"Gemini API key file not found at ../../gemini_api_key\")\n",
    "client = genai.Client(api_key=api_key)\n",
    "def to_text_gemini(pdf_path: str) -> str:\n",
    "    filepath = pathlib.Path(pdf_path)\n",
    "    if not filepath.exists():\n",
    "        raise FileNotFoundError(f\"PDF file not found: {pdf_path}\")\n",
    "    prompt = \"Fully transcribe this certificate document. Provide outputs in text. Do not prepend them with affirmations like 'Sure!', just start transcribing immediately. When you see a table, always transcribe it into a markdown table. Do not translate anything, just transcribe the text. For pagebreaks, use the '<page_break>' tag. If there is a drawing or a diagram, transcribe the text inside the diagram into image tags such that the content is inside, for example: <image>transcribed image content goes here</image>.\"\n",
    "    try:\n",
    "        response = client.models.generate_content(\n",
    "            model=\"gemini-2.0-flash\",\n",
    "            contents=[\n",
    "                types.Part.from_bytes(\n",
    "                    data=filepath.read_bytes(),\n",
    "                    mime_type='application/pdf',\n",
    "                ),\n",
    "                prompt\n",
    "            ]\n",
    "        )\n",
    "        return response.text\n",
    "    except Exception as e:\n",
    "        raise RuntimeError(f\"Gemini API error: {str(e)}\")"
   ]
  },
  {
   "cell_type": "code",
   "execution_count": null,
   "id": "fb53bd63",
   "metadata": {},
   "outputs": [],
   "source": [
    "from sec_certs.utils.pdf import convert_pdf_pdftotext\n",
    "def to_text_seccerts(pdf_path: str) -> str:\n",
    "    filepath = pathlib.Path(pdf_path)\n",
    "    if not filepath.exists():\n",
    "        raise FileNotFoundError(f\"PDF file not found: {pdf_path}\")\n",
    "    ocr, ok = convert_pdf_pdftotext(filepath, pathlib.Path(\"_temp_text.txt\"))\n",
    "    if ok:\n",
    "        return open(\"_temp_text.txt\").read()\n",
    "    return \"\""
   ]
  },
  {
   "cell_type": "code",
   "execution_count": null,
   "id": "b5c41cb8",
   "metadata": {},
   "outputs": [],
   "source": [
    "gemini_result = to_text_gemini(example_pdf_path)"
   ]
  },
  {
   "cell_type": "code",
   "execution_count": 5,
   "id": "991e6094",
   "metadata": {},
   "outputs": [],
   "source": [
    "yakup_result = to_text_yakup(example_pdf_path)"
   ]
  },
  {
   "cell_type": "code",
   "execution_count": 52,
   "id": "0ce935c5",
   "metadata": {},
   "outputs": [],
   "source": [
    "seccerts_result = to_text_seccerts(example_pdf_path)"
   ]
  },
  {
   "cell_type": "code",
   "execution_count": null,
   "id": "39cf1d55",
   "metadata": {},
   "outputs": [],
   "source": [
    "print(gemini_result)"
   ]
  },
  {
   "cell_type": "code",
   "execution_count": 6,
   "id": "da19de22",
   "metadata": {},
   "outputs": [
    {
     "name": "stdout",
     "output_type": "stream",
     "text": [
      "TÜV Rheinland Nederland B.V.    Head Office: Westervoortsedijk 73 NL-6827 AV Arnhem P.O. Box 2220 NL-6802 CE Arnhem The Netherlands  Location Leek: Eiberkamp 10 NL-9351 VT Leek P.O. Box 37 NL-9350 AA Leek The Netherlands  info@nl.tuv.com www.tuv.com/nl Tel. +31 (0)88 888 7 888 Fax +31 (0)88 888 7 879  \n",
      "TÜV Rheinland Nederland B.V. is a registered company at the Netherlands Chamber of Commerce (KVK), under number 27288788. \n",
      "VAT number: NL815820380B01 IBAN: NL61DEUT0265155096  Version 2022-02 ® TÜV, TUEV and TUV are registered trademarks. Any use or application requires prior approval.     \n",
      "Certification Report   \n",
      "FortiOS 6.4.9  Sponsor and developer: Fortinet, Inc. 899 Kifer Road  Sunnyvale, CA 94086  USA  Evaluation facility: SGS Brightsight B.V.  Brassersplein 2  2612 CT Delft  The Netherlands   \n",
      "Report number: NSCIB-CC-0587886-CR   Report version: 1  Project number: 0587886  Author(s): Andy Brown  Date: 14 August 2023  Number of pages: 12  Number of appendices: 0        \n",
      "Reproduction of this report is authorised only if the report is reproduced in its entirety.\n",
      "Page: 2/12 of report number: NSCIB-CC-0587886-CR, dated 14 August 2023       ® TÜV, TUEV and TUV are registered trademarks. \n",
      "Any use or application requires prior approval.   \n",
      "CONTENTS \n",
      "Foreword \n",
      "3  Recognition of the Certificate 4  International recognition 4  European recognition 4  \n",
      "1 Executive Summary 5  2 Certification Results 6  2.1 Identification of Target of Evaluation 6  2.2 Security Policy 6  2.3 Assumptions and Clarification of Scope 7  2.3.1 Assumptions 7  2.3.2 Clarification of scope 7  2.4 Architectural Information 7  2.5 Documentation 8  2.6 IT Product Testing 8  2.6.1 Testing approach and depth 8  2.6.2 Independent penetration testing 9  \n",
      "2.6.3 Test configuration 9  2.6.4 Test results 9  2.7 Reused Evaluation Results 9  \n",
      "2.8 Evaluated Configuration 9  2.9 Evaluation Results 9  2.10 Comments/Recommendations 9  \n",
      "3 Security Target 11  \n",
      "4 Definitions 11  5 Bibliography 12Page: 3/12 of report number: NSCIB-CC-0587886-CR, dated 14 August 2023       ® TÜV, TUEV and TUV are registered trademarks. \n",
      "Any use or application requires prior approval.   \n",
      "Foreword \n",
      "The Netherlands Scheme for Certification in the Area of IT Security (NSCIB) provides a third-party evaluation and certification service for determining the trustworthiness of Information Technology (IT) security products. \n",
      "Under this NSCIB, TÜV Rheinland Nederland B.V. has the task of issuing certificates for IT security products, as well as for protection profiles and sites. \n",
      "Part of the procedure is the technical examination (evaluation) of the product, protection profile or site according to the Common Criteria assessment guidelines published by the NSCIB. \n",
      "Evaluations are performed by an IT Security Evaluation Facility (ITSEF) under the oversight of the NSCIB Certification Body, which is operated by TÜV Rheinland Nederland B.V. in cooperation with the Ministry of the Interior and Kingdom Relations. \n",
      "An ITSEF in the Netherlands is a commercial facility that has been licensed by TÜV Rheinland Nederland B.V. to perform Common Criteria evaluations; a significant requirement for such a licence is accreditation to the requirements of ISO Standard 17025 “General requirements for the accreditation of calibration and testing laboratories”. \n",
      "By awarding a Common Criteria certificate, TÜV Rheinland Nederland B.V. asserts that the product or site complies with the security requirements specified in the associated (site) security target, or that the protection profile (PP) complies with the requirements for PP evaluation specified in the Common Criteria for Information Security Evaluation. \n",
      "A (site) security target is a requirements specification document that defines the scope of the evaluation activities. \n",
      "The consumer should review the (site) security target or protection profile, in addition to this certification report, to gain an understanding of any assumptions made during the evaluation, the IT product's intended environment, its security requirements, and the level of confidence (i.e., the evaluation assurance level) that the product or site satisfies the security requirements stated in the (site) security target. \n",
      "Reproduction of this report is authorised only if the report is reproduced in its entirety.\n",
      "Page: 4/12 of report number: NSCIB-CC-0587886-CR, dated 14 August 2023       \n",
      "® \n",
      "TÜV, TUEV and TUV are registered trademarks. \n",
      "Any use or application requires prior approval.   \n",
      "Recognition of the Certificate \n",
      "The presence of the Common Criteria Recognition Arrangement (CCRA) and the SOG-IS logos on the certificate indicates that this certificate is issued in accordance with the provisions of the CCRA and the SOG-IS Mutual Recognition Agreement (SOG-IS MRA) and will be recognised by the participating nations. \n",
      "International recognition \n",
      "The CCRA was signed by the Netherlands in May 2000 and provides mutual recognition of certificates based on the Common Criteria (CC). \n",
      "Since September 2014 the CCRA has been updated to provide mutual recognition of certificates based on cPPs (exact use) or STs with evaluation assurance components up to and including EAL2+ALC_FLR. \n",
      "For details of the current list of signatory nations and approved certification schemes, see http://www.commoncriteriaportal.org. \n",
      "European recognition \n",
      "The SOG-IS MRA Version 3, effective since April 2010, provides mutual recognition in Europe of Common Criteria and ITSEC certificates at a basic evaluation level for all products. \n",
      "A higher recognition level for evaluation levels beyond EAL4 (respectively E3-basic) is provided for products related to specific technical domains. \n",
      "This agreement was signed initially by Finland, France, Germany, The Netherlands, Norway, Spain, Sweden and the United Kingdom. \n",
      "Italy joined the SOG-IS MRA in December 2010. \n",
      "For details of the current list of signatory nations, approved certification schemes and the list of technical domains for which the higher recognition applies, see https://www.sogis.eu.\n",
      "Page: 5/12 of report number: NSCIB-CC-0587886-CR, dated 14 August 2023       \n",
      "® TÜV, TUEV and TUV are registered trademarks. \n",
      "Any use or application requires prior approval.   \n",
      "1 Executive Summary \n",
      "This Certification Report states the outcome of the Common Criteria security evaluation of the FortiOS 6.4.9. \n",
      "The developer of the FortiOS 6.4.9 is Fortinet, Inc. located in Sunnyvale, USA and they also act as the sponsor of the evaluation and certification. \n",
      "A Certification Report is intended to assist prospective consumers when judging the suitability of the IT security properties of the product for their particular requirements. \n",
      "The TOE provides firewall, Virtual Private Network (VPN), Virtual Local Area Network (VLAN), antivirus protection, antispam protection and content filtering to provide network protection for Internet Protocol version 4 (IPv4) and Internet Protocol version 6 (IPv6) networks. \n",
      "FortiOS can be deployed on a dedicated FortiGate appliance or as a virtual machine running on VMware ESXi. \n",
      "Administration of the system may be performed locally using an administrator console, or remotely via a network management workstation. \n",
      "FortiOS firewalls can operate either standalone or as part of a cluster in order to provide high availability of services. \n",
      "The TOE has been evaluated by SGS Brightsight B.V. located in Delft. \n",
      "The evaluation was completed on 14-08-2023 with the approval of the ETR. \n",
      "The certification procedure has been conducted in accordance with the provisions of the Netherlands Scheme for Certification in the Area of IT Security [NSCIB]. \n",
      "The scope of the evaluation is defined by the security target [ST], which identifies assumptions made during the evaluation, the intended environment for the FortiOS 6.4.9, the security requirements, and the level of confidence (evaluation assurance level) at which the product is intended to satisfy the security requirements. \n",
      "Consumers of the FortiOS 6.4.9 are advised to verify that their own environment is consistent with the security target, and to give due consideration to the comments, observations and recommendations in this certification report. \n",
      "The results documented in the evaluation technical report [ETR] 1 for this product provide sufficient evidence that the TOE meets the EAL4 augmented (EAL4+) assurance requirements for the evaluated security functionality. \n",
      "This assurance level is augmented with ALC_FLR.3 Systematic Flaw Remediation \n",
      "The evaluation was conducted using the Common Methodology for Information Technology Security Evaluation, Version 3.1 Revision 5 [CEM] for conformance to the Common Criteria for Information Technology Security Evaluation, Version 3.1 Revision 5 [CC] (Parts I, II and III). \n",
      "TÜV Rheinland Nederland B.V., as the NSCIB Certification Body, declares that the evaluation meets all the conditions for international recognition of Common Criteria Certificates and that the product will be listed on the NSCIB Certified Products list. \n",
      "Note that the certification results apply only to the specific version of the product as evaluated.                                                       \n",
      "1 The Evaluation Technical Report contains information proprietary to the developer and/or the evaluator, and is not available for public review.\n",
      "Page: 6/12 of report number: NSCIB-CC-0587886-CR, dated 14 August 2023       \n",
      "® TÜV, TUEV and TUV are registered trademarks. \n",
      "Any use or application requires prior approval.   \n",
      "2 Certification Results \n",
      "2.1 Identification of Target of Evaluation \n",
      "The Target of Evaluation (TOE) for this evaluation is the FortiOS 6.4.9 from Fortinet, Inc. located in Sunnyvale, USA. \n",
      "The TOE is comprised of the following main components: \n",
      "Delivery item type \n",
      "Identifier Version Software \n",
      "FortiOS 6.4.9 \n",
      "FortiOS v6.4.9, FIPS-CC-64-7   \n",
      "To ensure secure usage a set of guidance documents is provided, together with the FortiOS 6.4.9. \n",
      "For details, see section 2.5 “Documentation” of this report. \n",
      "2.2 Security Policy \n",
      "The TOE has the following features:  \n",
      " Security Audit:  o \n",
      "The TOE creates audit records for administrative events, potential policy violations  and information flow decisions. \n",
      "The TOE records the identity of the administrator or user who caused the event for which the audit record is created. \n",
      "The TOE applies timestamps to auditable events as they occur.  \n",
      " Cryptographic support: o \n",
      "Cryptographic functionality is provided to protect communications for remote administration, VPN, and peer-to-peer connections within a cluster. \n",
      " User Data Protection: o \n",
      "The TOE provides interfaces to a defined set of networks and mediates information flow among these networks. \n",
      "The TOE supports firewall and web filtering policies. \n",
      "The security functional policies are implemented as firewall rules. \n",
      "The rules that implement the Firewall SFP have restrictive default values and by default no information is allowed to flow. \n",
      "The Web Filtering SFP has permissive default values, and does not block URLs until specifically identified. \n",
      "Modification of the rules is restricted to an authorized administrator, and an authorized administrator may also specify alternative initial values to override the default values. \n",
      " Identification and authentication: o \n",
      "In order to protect the TOE data and services, the TOE requires identification and authentication for all administrative access and network user access to specific services. \n",
      "The TOE maintains identity, role/authorization and authentication data to support this functionality. \n",
      "Identification and authentication are always enforced on the serial interface (local console). \n",
      "On the network interfaces identification and authentication is enforced for all administrator access, specific services, and VPN users. \n",
      " Security Management o \n",
      "Appropriately authorized administrators may manage security function behaviour, users, IPS policies and information flow policies. \n",
      "The TOE immediately enforces the revocation of a user from an administrative access profile. \n",
      "The TOE provides a web- based GUI and a local Console CLI for administrators to manage all of the security functions. \n",
      "An administrator account consists of an administrator’s identification and authentication information, and access profile. \n",
      "The access profile is a set of permissions that determine which functions the administrator is allowed to access.  \n",
      " Protection of the TSF: o \n",
      "The HA feature provides failover protection capability which includes configuration synchronization. \n",
      "The FortiGate units that make up the HA cluster exchange configuration information using a proprietary protocol (FortiGate Clustering ProtocolPage: 7/12 of report number: NSCIB-CC-0587886-CR, dated 14 August 2023       ® TÜV, TUEV and TUV are registered trademarks. \n",
      "Any use or application requires prior approval.   \n",
      "(FGCP). \n",
      "Before any information is exchanged, members of a HA cluster authenticate using information built into the FortiGate unit at the time of manufacture.  \n",
      " Trusted Path / Channels: o \n",
      "The TOE provides trusted paths and trusted channels, protected by encryption to guard against disclosure and protected by cryptographic signature to detect modifications. \n",
      "The trusted paths and trusted channels are logically distinct from other communication paths and provide assured identification of their end points. \n",
      "The trusted paths are used to protect remote administrator authentication and all remote administrator actions.  \n",
      " Intrusion Prevention o \n",
      "The TOE provides an Intrusion Prevention System that examines  network traffic arriving on its interfaces for evidence of intrusion attempts. \n",
      "Ingress packets received on a FortiGate interface are passed to the Denial of Service sensors, which determine if it is a valid information request or not. \n",
      "Detection of any potential attack is recorded in the IPS or packet logs. \n",
      "If the packet can pass based on the information flow policy (based on the Fortinet Protection Profile), it is examined against IPS signatures known to indicate potential attacks.  \n",
      " Anti-Virus o \n",
      "The TOE detects and prevents virus attacks contained within information flows which arrive at any of its network interfaces. \n",
      "An authorized administrator may configure the TOE to block and or quarantine a virus which is detected in an information flow.    \n",
      "2.3 Assumptions and Clarification of Scope \n",
      "2.3.1 Assumptions \n",
      "The assumptions defined in the Security Target are not covered by the TOE itself. \n",
      "These aspects lead to specific Security Objectives to be fulfilled by the TOE-Environment. \n",
      "For detailed information on the security objectives that must be fulfilled by the TOE environment, see section 4.2 of the [ST]. \n",
      "2.3.2 Clarification of scope \n",
      "The evaluation did not reveal any threats to the TOE that are not countered by the evaluated security functions of the product \n",
      "2.4 Architectural Information \n",
      "The logical architecture of the TOE is depicted below:Page: 8/12 of report number: NSCIB-CC-0587886-CR, dated 14 August 2023       \n",
      "® \n",
      "TÜV, TUEV and TUV are registered trademarks. \n",
      "Any use or application requires prior approval.    \n",
      "FortiOS (TOE) provides firewall, Virtual Private Network (VPN), Virtual Local Area Network (VLAN), antivirus protection, antispam protection and content filtering to provide network protection for Internet Protocol version 4 (IPv4) and Internet Protocol version 6 (IPv6) networks.  \n",
      "FortiOS can be deployed on a dedicated FortiGate appliance or as a virtual machine running on VMware ESXi. \n",
      "Administration of the system may be performed locally using an administrator console, or remotely via a network management workstation. \n",
      "FortiOS firewalls can operate either standalone or as part of a cluster in order to provide high availability of services.  \n",
      "2.5 Documentation \n",
      "The following documentation is provided with the product by the developer to the customer: \n",
      "Identifier Version \n",
      "FortiOS-6.4.9-Administration_Guide 01-649-607590-20220822 \n",
      "FortiOS-6.4.9-CLI_Reference 01-649-684766-20220426   \n",
      "FortiOS_6.4.9_Log_Reference 01-649-619093-20220520 \n",
      "FortiOS – Release Notes 01-649-764531-20220627 \n",
      "FortiOS 6.4 and 7.0 EAL4 Common Criteria Technote 01-649/707-817723-20230718 \n",
      "2.6 IT Product Testing \n",
      "Testing (depth, coverage, functional tests, independent testing): \n",
      "The evaluators examined the developer’s testing activities documentation and verified that the developer has met their testing responsibilities. \n",
      "2.6.1 Testing approach and depth \n",
      "An extensive test execution phase has been performed by the developer. \n",
      "The test information provided described the procedure of executing the tests, test scenarios, non-TOE environment, test coverage and depth correspondence. \n",
      "Test cases covered all TSFI’s and all subsystems and module interactions. \n",
      "All [SFR] were tested meaning the complete TSF was also tested. \n",
      "The evaluator created additional test cases to confirm verification of the version of the TOE / to supplement coverage of SFRs and/or TSFI to further exercise the behaviour of critical functionality.Page: 9/12 of report number: NSCIB-CC-0587886-CR, dated 14 August 2023       \n",
      "® TÜV, TUEV and TUV are registered trademarks. \n",
      "Any use or application requires prior approval.   \n",
      "2.6.2 Independent penetration testing \n",
      "To identify potential vulnerabilities the evaluator performed the following activities: \n",
      " SFR design analysis: Based on the information obtained in the evaluation evidence, the SFR implementation details were examined. \n",
      "The aspects described in CEM annex B were considered. \n",
      "During this examination several potential vulnerabilities were identified. \n",
      " Additional security analysis: When the implementation of the SFR was understood, a coverage check were performed on the relevant aspects of all SFRs. \n",
      "This expanded the list of potential vulnerabilities. \n",
      " Scanning the TOE using the applicable vulnerability scanning tools (e.g., NMAP, NESSUS) to collect information about the TOE and identify potential vulnerabilities. \n",
      " Public vulnerability search: The evaluator performed public domain vulnerability search based on the TOE name, TOE type, and identified 3rd party security relevant libraries and/or services. \n",
      "Several additional potential vulnerabilities were identified during a search in the public domain. \n",
      "The potential vulnerabilities identified were analysed, and some of the potential vulnerabilities were concluded not exploitable or covered by guidance. \n",
      "For remaining potential vulnerabilities, penetration tests were devised. \n",
      "The total test effort expended by the evaluators was two weeks. \n",
      "During that test campaign, 100% of the total time was spent on logical tests. \n",
      "2.6.3 Test configuration \n",
      "The configuration of the sample used for independent evaluator testing and penetration testing was the same as described in the [ST]. \n",
      "2.6.4 Test results \n",
      "The testing activities, including configurations, procedures, test cases, expected results and observed results are summarised in the [ETR], with references to the documents containing the full details. \n",
      "The developer’s tests and the independent functional tests produced the expected results, giving assurance that the TOE behaves as specified in its [ST] and functional specification. \n",
      "No exploitable vulnerabilities were found with the independent penetration tests. \n",
      "2.7 Reused Evaluation Results \n",
      "There is no reuse of evaluation results in this certification. \n",
      "2.8 Evaluated Configuration \n",
      "The TOE is defined uniquely by its name and version number FortiOS 6.4.9. \n",
      "2.9 Evaluation Results \n",
      "The evaluation lab documented their evaluation results in the [ETR], which references an ASE Intermediate Report and other evaluator documents.  \n",
      "The verdict of each claimed assurance requirement is “Pass”. \n",
      "Based on the above evaluation results the evaluation lab concluded the FortiOS 6.4.9, to be CC Part 2 extended, CC Part 3 conformant and to meet the requirements of EAL 4 augmented ALC_FLR.3 .. \n",
      "This implies that the product satisfies the security requirements specified in Security Target [ST]. \n",
      "2.10 Comments/Recommendations \n",
      "The user guidance as outlined in section 2.5 “Documentation” contains necessary information about the usage of the TOE. \n",
      "Certain aspects of the TOE’s security functionality, in particular the countermeasures against attacks, depend on accurate conformance to the user guidance of both thePage: 10/12 of report number: NSCIB-CC-0587886-CR, dated 14 August 2023       \n",
      "® TÜV, TUEV and TUV are registered trademarks. \n",
      "Any use or application requires prior approval.   \n",
      "software and the hardware part of the TOE. \n",
      "There are no particular obligations or recommendations for the user apart from following the user guidance. \n",
      "Please note that the documents contain relevant details concerning the resistance against certain attacks. \n",
      "In addition, all aspects of assumptions, threats and policies as outlined in the Security Target not covered by the TOE itself must be fulfilled by the operational environment of the TOE. \n",
      "The customer or user of the product shall consider the results of the certification within his system risk management process. \n",
      "For the evolution of attack methods and techniques to be covered, the customer should define the period of time until a re-assessment for the TOE is required and thus requested from the sponsor of the certificate. \n",
      "The strength of the cryptographic algorithms and protocols was not rated in the course of this evaluation. \n",
      "This specifically applies to the following proprietary or non-standard algorithms, protocols and implementations: \n",
      "none.\n",
      "Page: 11/12 of report number: NSCIB-CC-0587886-CR, dated 14 August 2023       \n",
      "® TÜV, TUEV and TUV are registered trademarks. \n",
      "Any use or application requires prior approval.   \n",
      "3 Security Target \n",
      "The FortiOS® 6.4 Security Target, 01-649-850164-20230718, Version 2.0, 18 July 2023 [ST] is included here by reference. \n",
      "4 Definitions \n",
      "This list of acronyms and definitions contains elements that are not already defined by the CC or CEM:  \n",
      "IT Information Technology ITSEF IT Security Evaluation Facility \n",
      "JIL Joint Interpretation Library LAN Local Area Network NSCIB Netherlands Scheme for Certification in the area of IT Security PP Protection Profile TOE Target of Evaluation \n",
      "VLAN Virtual LAN\n",
      "Page: 12/12 of report number: NSCIB-CC-0587886-CR, dated 14 August 2023       \n",
      "® TÜV, TUEV and TUV are registered trademarks. \n",
      "Any use or application requires prior approval.   \n",
      "5 Bibliography \n",
      "This section lists all referenced documentation used as source material in the compilation of this report. \n",
      "[CC] Common Criteria for Information Technology Security Evaluation, Parts I, II and III, Version 3.1 Revision 5, April 2017 [CEM] Common Methodology for Information Technology Security Evaluation,  Version 3.1 Revision 5, April 2017 [ETR] Evaluation Technical Report “Fortinet FortiOS 6.4.x” – EAL4+, 22-RPT-550, 25 July 2023, Version 3.0 [NSCIB] Netherlands Scheme for Certification in the Area of IT Security, Version 2.5, 28 March 2019 [ST] \n",
      "FortiOS® 6.4 Security Target, 01-649-850164-20230718, Version 2.0, 18 July 2023  (This is the end of this report.)\n"
     ]
    }
   ],
   "source": [
    "print(yakup_result)"
   ]
  },
  {
   "cell_type": "code",
   "execution_count": 53,
   "id": "bb115beb",
   "metadata": {},
   "outputs": [
    {
     "name": "stdout",
     "output_type": "stream",
     "text": [
      "TÜV Rheinland Nederland B.V.\n",
      "Head Office:\n",
      "Westervoortsedijk 73\n",
      "NL-6827 AV Arnhem\n",
      "P.O. Box 2220\n",
      "NL-6802 CE Arnhem\n",
      "The Netherlands\n",
      "Location Leek:\n",
      "Eiberkamp 10\n",
      "NL-9351 VT Leek\n",
      "P.O. Box 37\n",
      "NL-9350 AA Leek\n",
      "The Netherlands\n",
      "info@nl.tuv.com\n",
      "www.tuv.com/nl\n",
      "Tel. +31 (0)88 888 7 888\n",
      "Fax +31 (0)88 888 7 879\n",
      "TÜV Rheinland Nederland B.V. is a\n",
      "registered company at the\n",
      "Netherlands Chamber of Commerce\n",
      "(KVK), under number 27288788.\n",
      "VAT number: NL815820380B01\n",
      "IBAN: NL61DEUT0265155096\n",
      "Version\n",
      "2022-02\n",
      "®\n",
      "TÜV,\n",
      "TUEV\n",
      "and\n",
      "TUV\n",
      "are\n",
      "registered\n",
      "trademarks.\n",
      "Any\n",
      "use\n",
      "or\n",
      "application\n",
      "requires\n",
      "prior\n",
      "approval.\n",
      "Certification Report\n",
      "FortiOS 6.4.9\n",
      "Sponsor and developer: Fortinet, Inc.\n",
      "899 Kifer Road\n",
      "Sunnyvale, CA 94086\n",
      "USA\n",
      "Evaluation facility: SGS Brightsight B.V.\n",
      "Brassersplein 2\n",
      "2612 CT Delft\n",
      "The Netherlands\n",
      "Report number: NSCIB-CC-0587886-CR\n",
      "Report version: 1\n",
      "Project number: 0587886\n",
      "Author(s): Andy Brown\n",
      "Date: 14 August 2023\n",
      "Number of pages: 12\n",
      "Number of appendices: 0\n",
      "Reproduction of this report is authorised only if the report is reproduced in its entirety.\n",
      "\fPage: 2/12 of report number: NSCIB-CC-0587886-CR, dated 14 August 2023\n",
      "®\n",
      "TÜV,\n",
      "TUEV\n",
      "and\n",
      "TUV\n",
      "are\n",
      "registered\n",
      "trademarks.\n",
      "Any\n",
      "use\n",
      "or\n",
      "application\n",
      "requires\n",
      "prior\n",
      "approval.\n",
      "CONTENTS\n",
      "Foreword 3\n",
      "Recognition of the Certificate 4\n",
      "International recognition 4\n",
      "European recognition 4\n",
      "1 Executive Summary 5\n",
      "2 Certification Results 6\n",
      "2.1 Identification of Target of Evaluation 6\n",
      "2.2 Security Policy 6\n",
      "2.3 Assumptions and Clarification of Scope 7\n",
      "2.3.1 Assumptions 7\n",
      "2.3.2 Clarification of scope 7\n",
      "2.4 Architectural Information 7\n",
      "2.5 Documentation 8\n",
      "2.6 IT Product Testing 8\n",
      "2.6.1 Testing approach and depth 8\n",
      "2.6.2 Independent penetration testing 9\n",
      "2.6.3 Test configuration 9\n",
      "2.6.4 Test results 9\n",
      "2.7 Reused Evaluation Results 9\n",
      "2.8 Evaluated Configuration 9\n",
      "2.9 Evaluation Results 9\n",
      "2.10 Comments/Recommendations 9\n",
      "3 Security Target 11\n",
      "4 Definitions 11\n",
      "5 Bibliography 12\n",
      "\fPage: 3/12 of report number: NSCIB-CC-0587886-CR, dated 14 August 2023\n",
      "®\n",
      "TÜV,\n",
      "TUEV\n",
      "and\n",
      "TUV\n",
      "are\n",
      "registered\n",
      "trademarks.\n",
      "Any\n",
      "use\n",
      "or\n",
      "application\n",
      "requires\n",
      "prior\n",
      "approval.\n",
      "Foreword\n",
      "The Netherlands Scheme for Certification in the Area of IT Security (NSCIB) provides a third-party\n",
      "evaluation and certification service for determining the trustworthiness of Information Technology (IT)\n",
      "security products. Under this NSCIB, TÜV Rheinland Nederland B.V. has the task of issuing\n",
      "certificates for IT security products, as well as for protection profiles and sites.\n",
      "Part of the procedure is the technical examination (evaluation) of the product, protection profile or site\n",
      "according to the Common Criteria assessment guidelines published by the NSCIB. Evaluations are\n",
      "performed by an IT Security Evaluation Facility (ITSEF) under the oversight of the NSCIB Certification\n",
      "Body, which is operated by TÜV Rheinland Nederland B.V. in cooperation with the Ministry of the\n",
      "Interior and Kingdom Relations.\n",
      "An ITSEF in the Netherlands is a commercial facility that has been licensed by TÜV Rheinland\n",
      "Nederland B.V. to perform Common Criteria evaluations; a significant requirement for such a licence is\n",
      "accreditation to the requirements of ISO Standard 17025 “General requirements for the accreditation\n",
      "of calibration and testing laboratories”.\n",
      "By awarding a Common Criteria certificate, TÜV Rheinland Nederland B.V. asserts that the product or\n",
      "site complies with the security requirements specified in the associated (site) security target, or that\n",
      "the protection profile (PP) complies with the requirements for PP evaluation specified in the Common\n",
      "Criteria for Information Security Evaluation. A (site) security target is a requirements specification\n",
      "document that defines the scope of the evaluation activities.\n",
      "The consumer should review the (site) security target or protection profile, in addition to this\n",
      "certification report, to gain an understanding of any assumptions made during the evaluation, the IT\n",
      "product's intended environment, its security requirements, and the level of confidence (i.e., the\n",
      "evaluation assurance level) that the product or site satisfies the security requirements stated in the\n",
      "(site) security target.\n",
      "Reproduction of this report is authorised only if the report is reproduced in its entirety.\n",
      "\fPage: 4/12 of report number: NSCIB-CC-0587886-CR, dated 14 August 2023\n",
      "®\n",
      "TÜV,\n",
      "TUEV\n",
      "and\n",
      "TUV\n",
      "are\n",
      "registered\n",
      "trademarks.\n",
      "Any\n",
      "use\n",
      "or\n",
      "application\n",
      "requires\n",
      "prior\n",
      "approval.\n",
      "Recognition of the Certificate\n",
      "The presence of the Common Criteria Recognition Arrangement (CCRA) and the SOG-IS logos on the\n",
      "certificate indicates that this certificate is issued in accordance with the provisions of the CCRA and\n",
      "the SOG-IS Mutual Recognition Agreement (SOG-IS MRA) and will be recognised by the participating\n",
      "nations.\n",
      "International recognition\n",
      "The CCRA was signed by the Netherlands in May 2000 and provides mutual recognition of certificates\n",
      "based on the Common Criteria (CC). Since September 2014 the CCRA has been updated to provide\n",
      "mutual recognition of certificates based on cPPs (exact use) or STs with evaluation assurance\n",
      "components up to and including EAL2+ALC_FLR.\n",
      "For details of the current list of signatory nations and approved certification schemes, see\n",
      "http://www.commoncriteriaportal.org.\n",
      "European recognition\n",
      "The SOG-IS MRA Version 3, effective since April 2010, provides mutual recognition in Europe of\n",
      "Common Criteria and ITSEC certificates at a basic evaluation level for all products. A higher\n",
      "recognition level for evaluation levels beyond EAL4 (respectively E3-basic) is provided for products\n",
      "related to specific technical domains. This agreement was signed initially by Finland, France,\n",
      "Germany, The Netherlands, Norway, Spain, Sweden and the United Kingdom. Italy joined the SOG-IS\n",
      "MRA in December 2010.\n",
      "For details of the current list of signatory nations, approved certification schemes and the list of\n",
      "technical domains for which the higher recognition applies, see https://www.sogis.eu.\n",
      "\fPage: 5/12 of report number: NSCIB-CC-0587886-CR, dated 14 August 2023\n",
      "®\n",
      "TÜV,\n",
      "TUEV\n",
      "and\n",
      "TUV\n",
      "are\n",
      "registered\n",
      "trademarks.\n",
      "Any\n",
      "use\n",
      "or\n",
      "application\n",
      "requires\n",
      "prior\n",
      "approval.\n",
      "1 Executive Summary\n",
      "This Certification Report states the outcome of the Common Criteria security evaluation of the FortiOS\n",
      "6.4.9. The developer of the FortiOS 6.4.9 is Fortinet, Inc. located in Sunnyvale, USA and they also act\n",
      "as the sponsor of the evaluation and certification. A Certification Report is intended to assist\n",
      "prospective consumers when judging the suitability of the IT security properties of the product for their\n",
      "particular requirements.\n",
      "The TOE provides firewall, Virtual Private Network (VPN), Virtual Local Area Network (VLAN),\n",
      "antivirus protection, antispam protection and content filtering to provide network protection for Internet\n",
      "Protocol version 4 (IPv4) and Internet Protocol version 6 (IPv6) networks.\n",
      "FortiOS can be deployed on a dedicated FortiGate appliance or as a virtual machine running on\n",
      "VMware ESXi. Administration of the system may be performed locally using an administrator console,\n",
      "or remotely via a network management workstation. FortiOS firewalls can operate either standalone or\n",
      "as part of a cluster in order to provide high availability of services.\n",
      "The TOE has been evaluated by SGS Brightsight B.V. located in Delft. The evaluation was completed\n",
      "on 14-08-2023 with the approval of the ETR. The certification procedure has been conducted in\n",
      "accordance with the provisions of the Netherlands Scheme for Certification in the Area of IT Security\n",
      "[NSCIB].\n",
      "The scope of the evaluation is defined by the security target [ST], which identifies assumptions made\n",
      "during the evaluation, the intended environment for the FortiOS 6.4.9, the security requirements, and\n",
      "the level of confidence (evaluation assurance level) at which the product is intended to satisfy the\n",
      "security requirements. Consumers of the FortiOS 6.4.9 are advised to verify that their own\n",
      "environment is consistent with the security target, and to give due consideration to the comments,\n",
      "observations and recommendations in this certification report.\n",
      "The results documented in the evaluation technical report [ETR] 1 for this product provide sufficient\n",
      "evidence that the TOE meets the EAL4 augmented (EAL4+) assurance requirements for the evaluated\n",
      "security functionality. This assurance level is augmented with ALC_FLR.3 Systematic Flaw\n",
      "Remediation\n",
      "The evaluation was conducted using the Common Methodology for Information Technology Security\n",
      "Evaluation, Version 3.1 Revision 5 [CEM] for conformance to the Common Criteria for Information\n",
      "Technology Security Evaluation, Version 3.1 Revision 5 [CC] (Parts I, II and III).\n",
      "TÜV Rheinland Nederland B.V., as the NSCIB Certification Body, declares that the evaluation meets\n",
      "all the conditions for international recognition of Common Criteria Certificates and that the product will\n",
      "be listed on the NSCIB Certified Products list. Note that the certification results apply only to the\n",
      "specific version of the product as evaluated.\n",
      "1 The Evaluation Technical Report contains information proprietary to the developer and/or the\n",
      "evaluator, and is not available for public review.\n",
      "\fPage: 6/12 of report number: NSCIB-CC-0587886-CR, dated 14 August 2023\n",
      "®\n",
      "TÜV,\n",
      "TUEV\n",
      "and\n",
      "TUV\n",
      "are\n",
      "registered\n",
      "trademarks.\n",
      "Any\n",
      "use\n",
      "or\n",
      "application\n",
      "requires\n",
      "prior\n",
      "approval.\n",
      "2 Certification Results\n",
      "2.1 Identification of Target of Evaluation\n",
      "The Target of Evaluation (TOE) for this evaluation is the FortiOS 6.4.9 from Fortinet, Inc. located in\n",
      "Sunnyvale, USA.\n",
      "The TOE is comprised of the following main components:\n",
      "Delivery\n",
      "item type\n",
      "Identifier Version\n",
      "Software FortiOS 6.4.9 FortiOS v6.4.9, FIPS-CC-64-7\n",
      "To ensure secure usage a set of guidance documents is provided, together with the FortiOS 6.4.9. For\n",
      "details, see section 2.5 “Documentation” of this report.\n",
      "2.2 Security Policy\n",
      "The TOE has the following features:\n",
      " Security Audit:\n",
      "o The TOE creates audit records for administrative events, potential policy violations\n",
      "and information flow decisions. The TOE records the identity of the administrator or\n",
      "user who caused the event for which the audit record is created. The TOE applies\n",
      "timestamps to auditable events as they occur.\n",
      " Cryptographic support:\n",
      "o Cryptographic functionality is provided to protect communications for remote\n",
      "administration, VPN, and peer-to-peer connections within a cluster.\n",
      " User Data Protection:\n",
      "o The TOE provides interfaces to a defined set of networks and mediates information\n",
      "flow among these networks. The TOE supports firewall and web filtering policies. The\n",
      "security functional policies are implemented as firewall rules. The rules that implement\n",
      "the Firewall SFP have restrictive default values and by default no information is\n",
      "allowed to flow. The Web Filtering SFP has permissive default values, and does not\n",
      "block URLs until specifically identified. Modification of the rules is restricted to an\n",
      "authorized administrator, and an authorized administrator may also specify alternative\n",
      "initial values to override the default values.\n",
      " Identification and authentication:\n",
      "o In order to protect the TOE data and services, the TOE requires identification and\n",
      "authentication for all administrative access and network user access to specific\n",
      "services. The TOE maintains identity, role/authorization and authentication data to\n",
      "support this functionality. Identification and authentication are always enforced on the\n",
      "serial interface (local console). On the network interfaces identification and\n",
      "authentication is enforced for all administrator access, specific services, and VPN\n",
      "users.\n",
      " Security Management\n",
      "o Appropriately authorized administrators may manage security function behaviour,\n",
      "users, IPS policies and information flow policies. The TOE immediately enforces the\n",
      "revocation of a user from an administrative access profile. The TOE provides a web-\n",
      "based GUI and a local Console CLI for administrators to manage all of the security\n",
      "functions. An administrator account consists of an administrator’s identification and\n",
      "authentication information, and access profile. The access profile is a set of\n",
      "permissions that determine which functions the administrator is allowed to access.\n",
      " Protection of the TSF:\n",
      "o The HA feature provides failover protection capability which includes configuration\n",
      "synchronization. The FortiGate units that make up the HA cluster exchange\n",
      "configuration information using a proprietary protocol (FortiGate Clustering Protocol\n",
      "\fPage: 7/12 of report number: NSCIB-CC-0587886-CR, dated 14 August 2023\n",
      "®\n",
      "TÜV,\n",
      "TUEV\n",
      "and\n",
      "TUV\n",
      "are\n",
      "registered\n",
      "trademarks.\n",
      "Any\n",
      "use\n",
      "or\n",
      "application\n",
      "requires\n",
      "prior\n",
      "approval.\n",
      "(FGCP). Before any information is exchanged, members of a HA cluster authenticate\n",
      "using information built into the FortiGate unit at the time of manufacture.\n",
      " Trusted Path / Channels:\n",
      "o The TOE provides trusted paths and trusted channels, protected by encryption to\n",
      "guard against disclosure and protected by cryptographic signature to detect\n",
      "modifications. The trusted paths and trusted channels are logically distinct from other\n",
      "communication paths and provide assured identification of their end points. The\n",
      "trusted paths are used to protect remote administrator authentication and all remote\n",
      "administrator actions.\n",
      " Intrusion Prevention\n",
      "o The TOE provides an Intrusion Prevention System that examines network traffic\n",
      "arriving on its interfaces for evidence of intrusion attempts. Ingress packets received\n",
      "on a FortiGate interface are passed to the Denial of Service sensors, which determine\n",
      "if it is a valid information request or not. Detection of any potential attack is recorded\n",
      "in the IPS or packet logs. If the packet can pass based on the information flow policy\n",
      "(based on the Fortinet Protection Profile), it is examined against IPS signatures known\n",
      "to indicate potential attacks.\n",
      " Anti-Virus\n",
      "o The TOE detects and prevents virus attacks contained within information flows which\n",
      "arrive at any of its network interfaces. An authorized administrator may configure the\n",
      "TOE to block and or quarantine a virus which is detected in an information flow.\n",
      "2.3 Assumptions and Clarification of Scope\n",
      "2.3.1 Assumptions\n",
      "The assumptions defined in the Security Target are not covered by the TOE itself. These aspects lead\n",
      "to specific Security Objectives to be fulfilled by the TOE-Environment. For detailed information on the\n",
      "security objectives that must be fulfilled by the TOE environment, see section 4.2 of the [ST].\n",
      "2.3.2 Clarification of scope\n",
      "The evaluation did not reveal any threats to the TOE that are not countered by the evaluated security\n",
      "functions of the product\n",
      "2.4 Architectural Information\n",
      "The logical architecture of the TOE is depicted below:\n",
      "\fPage: 8/12 of report number: NSCIB-CC-0587886-CR, dated 14 August 2023\n",
      "®\n",
      "TÜV,\n",
      "TUEV\n",
      "and\n",
      "TUV\n",
      "are\n",
      "registered\n",
      "trademarks.\n",
      "Any\n",
      "use\n",
      "or\n",
      "application\n",
      "requires\n",
      "prior\n",
      "approval.\n",
      "FortiOS (TOE) provides firewall, Virtual Private Network (VPN), Virtual Local Area Network (VLAN),\n",
      "antivirus protection, antispam protection and content filtering to provide network protection for Internet\n",
      "Protocol version 4 (IPv4) and Internet Protocol version 6 (IPv6) networks.\n",
      "FortiOS can be deployed on a dedicated FortiGate appliance or as a virtual machine running on\n",
      "VMware ESXi. Administration of the system may be performed locally using an administrator console,\n",
      "or remotely via a network management workstation. FortiOS firewalls can operate either standalone or\n",
      "as part of a cluster in order to provide high availability of services.\n",
      "2.5 Documentation\n",
      "The following documentation is provided with the product by the developer to the customer:\n",
      "Identifier Version\n",
      "FortiOS-6.4.9-Administration_Guide 01-649-607590-20220822\n",
      "FortiOS-6.4.9-CLI_Reference 01-649-684766-20220426\n",
      "FortiOS_6.4.9_Log_Reference 01-649-619093-20220520\n",
      "FortiOS – Release Notes 01-649-764531-20220627\n",
      "FortiOS 6.4 and 7.0 EAL4 Common Criteria Technote 01-649/707-817723-20230718\n",
      "2.6 IT Product Testing\n",
      "Testing (depth, coverage, functional tests, independent testing): The evaluators examined the\n",
      "developer’s testing activities documentation and verified that the developer has met their testing\n",
      "responsibilities.\n",
      "2.6.1 Testing approach and depth\n",
      "An extensive test execution phase has been performed by the developer. The test information\n",
      "provided described the procedure of executing the tests, test scenarios, non-TOE environment, test\n",
      "coverage and depth correspondence. Test cases covered all TSFI’s and all subsystems and module\n",
      "interactions. All [SFR] were tested meaning the complete TSF was also tested.\n",
      "The evaluator created additional test cases to confirm verification of the version of the TOE / to\n",
      "supplement coverage of SFRs and/or TSFI to further exercise the behaviour of critical functionality.\n",
      "\fPage: 9/12 of report number: NSCIB-CC-0587886-CR, dated 14 August 2023\n",
      "®\n",
      "TÜV,\n",
      "TUEV\n",
      "and\n",
      "TUV\n",
      "are\n",
      "registered\n",
      "trademarks.\n",
      "Any\n",
      "use\n",
      "or\n",
      "application\n",
      "requires\n",
      "prior\n",
      "approval.\n",
      "2.6.2 Independent penetration testing\n",
      "To identify potential vulnerabilities the evaluator performed the following activities:\n",
      " SFR design analysis: Based on the information obtained in the evaluation evidence, the SFR\n",
      "implementation details were examined. The aspects described in CEM annex B were\n",
      "considered. During this examination several potential vulnerabilities were identified.\n",
      " Additional security analysis: When the implementation of the SFR was understood, a\n",
      "coverage check were performed on the relevant aspects of all SFRs. This expanded the list of\n",
      "potential vulnerabilities.\n",
      " Scanning the TOE using the applicable vulnerability scanning tools (e.g., NMAP, NESSUS) to\n",
      "collect information about the TOE and identify potential vulnerabilities.\n",
      " Public vulnerability search: The evaluator performed public domain vulnerability search based\n",
      "on the TOE name, TOE type, and identified 3rd party security relevant libraries and/or\n",
      "services. Several additional potential vulnerabilities were identified during a search in the\n",
      "public domain.\n",
      "The potential vulnerabilities identified were analysed, and some of the potential vulnerabilities were\n",
      "concluded not exploitable or covered by guidance. For remaining potential vulnerabilities, penetration\n",
      "tests were devised.\n",
      "The total test effort expended by the evaluators was two weeks. During that test campaign, 100% of\n",
      "the total time was spent on logical tests.\n",
      "2.6.3 Test configuration\n",
      "The configuration of the sample used for independent evaluator testing and penetration testing was\n",
      "the same as described in the [ST].\n",
      "2.6.4 Test results\n",
      "The testing activities, including configurations, procedures, test cases, expected results and observed\n",
      "results are summarised in the [ETR], with references to the documents containing the full details.\n",
      "The developer’s tests and the independent functional tests produced the expected results, giving\n",
      "assurance that the TOE behaves as specified in its [ST] and functional specification.\n",
      "No exploitable vulnerabilities were found with the independent penetration tests.\n",
      "2.7 Reused Evaluation Results\n",
      "There is no reuse of evaluation results in this certification.\n",
      "2.8 Evaluated Configuration\n",
      "The TOE is defined uniquely by its name and version number FortiOS 6.4.9.\n",
      "2.9 Evaluation Results\n",
      "The evaluation lab documented their evaluation results in the [ETR], which references an ASE\n",
      "Intermediate Report and other evaluator documents.\n",
      "The verdict of each claimed assurance requirement is “Pass”.\n",
      "Based on the above evaluation results the evaluation lab concluded the FortiOS 6.4.9, to be CC Part\n",
      "2 extended, CC Part 3 conformant and to meet the requirements of EAL 4 augmented ALC_FLR.3\n",
      ".. This implies that the product satisfies the security requirements specified in Security Target [ST].\n",
      "2.10 Comments/Recommendations\n",
      "The user guidance as outlined in section 2.5 “Documentation” contains necessary information about\n",
      "the usage of the TOE. Certain aspects of the TOE’s security functionality, in particular the\n",
      "countermeasures against attacks, depend on accurate conformance to the user guidance of both the\n",
      "\fPage: 10/12 of report number: NSCIB-CC-0587886-CR, dated 14 August 2023\n",
      "®\n",
      "TÜV,\n",
      "TUEV\n",
      "and\n",
      "TUV\n",
      "are\n",
      "registered\n",
      "trademarks.\n",
      "Any\n",
      "use\n",
      "or\n",
      "application\n",
      "requires\n",
      "prior\n",
      "approval.\n",
      "software and the hardware part of the TOE. There are no particular obligations or recommendations\n",
      "for the user apart from following the user guidance. Please note that the documents contain relevant\n",
      "details concerning the resistance against certain attacks.\n",
      "In addition, all aspects of assumptions, threats and policies as outlined in the Security Target not\n",
      "covered by the TOE itself must be fulfilled by the operational environment of the TOE.\n",
      "The customer or user of the product shall consider the results of the certification within his system risk\n",
      "management process. For the evolution of attack methods and techniques to be covered, the\n",
      "customer should define the period of time until a re-assessment for the TOE is required and thus\n",
      "requested from the sponsor of the certificate.\n",
      "The strength of the cryptographic algorithms and protocols was not rated in the course of this\n",
      "evaluation. This specifically applies to the following proprietary or non-standard algorithms, protocols\n",
      "and implementations: none.\n",
      "\fPage: 11/12 of report number: NSCIB-CC-0587886-CR, dated 14 August 2023\n",
      "®\n",
      "TÜV,\n",
      "TUEV\n",
      "and\n",
      "TUV\n",
      "are\n",
      "registered\n",
      "trademarks.\n",
      "Any\n",
      "use\n",
      "or\n",
      "application\n",
      "requires\n",
      "prior\n",
      "approval.\n",
      "3 Security Target\n",
      "The FortiOS® 6.4 Security Target, 01-649-850164-20230718, Version 2.0, 18 July 2023 [ST] is\n",
      "included here by reference.\n",
      "4 Definitions\n",
      "This list of acronyms and definitions contains elements that are not already defined by the CC or CEM:\n",
      "IT Information Technology\n",
      "ITSEF IT Security Evaluation Facility\n",
      "JIL Joint Interpretation Library\n",
      "LAN Local Area Network\n",
      "NSCIB Netherlands Scheme for Certification in the area of IT Security\n",
      "PP Protection Profile\n",
      "TOE Target of Evaluation\n",
      "VLAN Virtual LAN\n",
      "\fPage: 12/12 of report number: NSCIB-CC-0587886-CR, dated 14 August 2023\n",
      "®\n",
      "TÜV,\n",
      "TUEV\n",
      "and\n",
      "TUV\n",
      "are\n",
      "registered\n",
      "trademarks.\n",
      "Any\n",
      "use\n",
      "or\n",
      "application\n",
      "requires\n",
      "prior\n",
      "approval.\n",
      "5 Bibliography\n",
      "This section lists all referenced documentation used as source material in the compilation of this\n",
      "report.\n",
      "[CC] Common Criteria for Information Technology Security Evaluation, Parts I, II and\n",
      "III, Version 3.1 Revision 5, April 2017\n",
      "[CEM] Common Methodology for Information Technology Security Evaluation,\n",
      "Version 3.1 Revision 5, April 2017\n",
      "[ETR] Evaluation Technical Report “Fortinet FortiOS 6.4.x” – EAL4+, 22-RPT-550, 25\n",
      "July 2023, Version 3.0\n",
      "[NSCIB] Netherlands Scheme for Certification in the Area of IT Security, Version 2.5,\n",
      "28 March 2019\n",
      "[ST] FortiOS® 6.4 Security Target, 01-649-850164-20230718, Version 2.0, 18 July\n",
      "2023\n",
      "(This is the end of this report.)\n",
      "\f\n"
     ]
    }
   ],
   "source": [
    "print(seccerts_result)"
   ]
  },
  {
   "cell_type": "code",
   "execution_count": 3,
   "id": "5207f5bf",
   "metadata": {},
   "outputs": [
    {
     "name": "stderr",
     "output_type": "stream",
     "text": [
      "/home/fstomakhin/Documents/CHESS/sec-certs/venv/lib/python3.10/site-packages/docling_core/types/doc/document.py:3339: DeprecationWarning: deprecated\n",
      "  if not d.validate_tree(d.body) or not d.validate_tree(d.furniture):\n"
     ]
    }
   ],
   "source": [
    "from sec_certs.dataset import CCDataset\n",
    "from sec_certs.sample import CCCertificate\n",
    "import pandas as pd"
   ]
  },
  {
   "cell_type": "code",
   "execution_count": 4,
   "id": "037c9910",
   "metadata": {},
   "outputs": [],
   "source": [
    "import json"
   ]
  },
  {
   "cell_type": "code",
   "execution_count": 5,
   "id": "ac2a75f1",
   "metadata": {},
   "outputs": [
    {
     "name": "stdout",
     "output_type": "stream",
     "text": [
      "../../cc_data_pdftotext already exists, skipping...\n",
      "../../cc_data_sat already exists, skipping...\n",
      "../../cc_data_gemini already exists, skipping...\n",
      "../../cc_data_docling already exists, skipping...\n"
     ]
    }
   ],
   "source": [
    "import shutil\n",
    "import json\n",
    "import os\n",
    "from pathlib import Path\n",
    "from typing import List\n",
    "\n",
    "src_folder = Path(\"../../cc_data\")\n",
    "\n",
    "target_digests = [\n",
    "    \"236b01ad914b9af4\",\n",
    "    \"afff54c61c7bd4a0\",\n",
    "    \"67b38ce4914a3c21\",\n",
    "    \"36f5ed4050c8ae40\",\n",
    "    \"66d6641328623e62\",\n",
    "    \"91b3ea5f789bca05\",\n",
    "    \"e295951359077a30\",\n",
    "    \"33b2d4e7af811f9d\",\n",
    "    \"e79b0851426ecf19\",\n",
    "    \"5aff27b2a405d882\"\n",
    "]\n",
    "\n",
    "dst_suffixes = [\"pdftotext\", \"sat\", \"gemini\", \"docling\"]\n",
    "\n",
    "pdf_dirs = [\n",
    "    \"certs/certificates/pdf\",\n",
    "    \"certs/reports/pdf\",\n",
    "    \"certs/targets/pdf\",\n",
    "]\n",
    "\n",
    "txt_dirs = [\n",
    "    \"certs/certificates/txt\",\n",
    "    \"certs/certificates/txt_processed\",\n",
    "    \"certs/reports/txt\",\n",
    "    \"certs/reports/txt_processed\",\n",
    "    \"certs/targets/txt\",\n",
    "    \"certs/targets/txt_processed\",\n",
    "]\n",
    "\n",
    "def preproc_dataset(dset_dict, topn=100, keep_certs: List[str] = None):\n",
    "    if keep_certs is not None:\n",
    "        dset_dict[\"certs\"] = [c for c in dset_dict[\"certs\"] if c[\"dgst\"] in keep_certs]\n",
    "    dset_dict[\"certs\"] = dset_dict[\"certs\"][:topn]\n",
    "    dset_dict[\"n_certs\"] = len(dset_dict[\"certs\"])\n",
    "    dset_dict[\"state\"][\"pdfs_converted\"] = False\n",
    "    for i in range(len(dset_dict[\"certs\"])):\n",
    "        for t in [\"st\", \"report\", \"cert\"]:\n",
    "            dset_dict[\"certs\"][i][\"state\"][t][\"convert_ok\"] = False\n",
    "\n",
    "    return dset_dict\n",
    "\n",
    "json_path = Path(src_folder) / \"dataset.json\"\n",
    "with open(json_path) as json_file:\n",
    "    json_data = json.load(json_file)\n",
    "json_data = preproc_dataset(json_data, keep_certs=target_digests)\n",
    "\n",
    "for suffix in dst_suffixes:\n",
    "    dst_folder = Path(f\"../../cc_data_{suffix}\")\n",
    "    if os.path.exists(dst_folder):\n",
    "        print(f\"{dst_folder} already exists, skipping...\")\n",
    "        continue\n",
    "    dst_folder.mkdir(parents=True, exist_ok=True)\n",
    "\n",
    "    dst_json_path = dst_folder / \"dataset.json\"\n",
    "    with open(dst_json_path, \"w\") as json_file:\n",
    "        json.dump(json_data, json_file, indent=4)\n",
    "\n",
    "    # collect valid digests\n",
    "    valid_digests = {cert[\"dgst\"] for cert in json_data.get(\"certs\", [])}\n",
    "    \n",
    "    for pdf_dir in pdf_dirs:\n",
    "        src_pdf_path = src_folder / pdf_dir\n",
    "        dst_pdf_path = dst_folder / pdf_dir\n",
    "        dst_pdf_path.mkdir(parents=True, exist_ok=True)\n",
    "        \n",
    "        if src_pdf_path.exists():\n",
    "            for pdf_file in src_pdf_path.glob(\"*.pdf\"):\n",
    "                if pdf_file.stem in valid_digests:\n",
    "                    shutil.copy2(pdf_file, dst_pdf_path)\n"
   ]
  },
  {
   "cell_type": "code",
   "execution_count": 6,
   "id": "337d01d3",
   "metadata": {},
   "outputs": [],
   "source": [
    "from pypdf import PdfReader\n",
    "from pathlib import Path\n",
    "\n",
    "def count_pdf_pages(pdf_path):\n",
    "    reader = PdfReader(str(pdf_path))\n",
    "    return len(reader.pages)\n",
    "\n",
    "def count_total_pages(pdf_dirs, base_path):\n",
    "    total_pages = 0\n",
    "    for pdf_dir in pdf_dirs:\n",
    "        pdf_path = Path(base_path) / pdf_dir\n",
    "        if pdf_path.exists():\n",
    "            for pdf_file in pdf_path.glob(\"*.pdf\"):\n",
    "                total_pages += count_pdf_pages(pdf_file)\n",
    "    return total_pages"
   ]
  },
  {
   "cell_type": "code",
   "execution_count": 7,
   "id": "9cce36f3",
   "metadata": {},
   "outputs": [
    {
     "name": "stdout",
     "output_type": "stream",
     "text": [
      "Total pages in ../../cc_data_pdftotext: 847\n",
      "Total pages in ../../cc_data_sat: 847\n",
      "Total pages in ../../cc_data_gemini: 847\n",
      "Total pages in ../../cc_data_docling: 847\n"
     ]
    }
   ],
   "source": [
    "# example usage\n",
    "for suffix in [\"pdftotext\", \"sat\", \"gemini\", \"docling\"]:\n",
    "    path = f\"../../cc_data_{suffix}\"\n",
    "    pages = count_total_pages(pdf_dirs, path)\n",
    "    print(f\"Total pages in {path}: {pages}\")"
   ]
  },
  {
   "cell_type": "code",
   "execution_count": 8,
   "id": "8f45a369",
   "metadata": {},
   "outputs": [
    {
     "data": {
      "text/plain": [
       "{'docling', 'gemini', 'pdftotext'}"
      ]
     },
     "execution_count": 8,
     "metadata": {},
     "output_type": "execute_result"
    }
   ],
   "source": [
    "set(dst_suffixes) - {\"sat\"}"
   ]
  },
  {
   "cell_type": "code",
   "execution_count": 9,
   "id": "4d815756",
   "metadata": {},
   "outputs": [
    {
     "name": "stderr",
     "output_type": "stream",
     "text": [
      "Method auxiliary_datasets_dir can only be called on backed dataset.\n",
      "Method auxiliary_datasets_dir can only be called on backed dataset.\n",
      "Method auxiliary_datasets_dir can only be called on backed dataset.\n",
      "Method auxiliary_datasets_dir can only be called on backed dataset.\n",
      "Method auxiliary_datasets_dir can only be called on backed dataset.\n",
      "Method auxiliary_datasets_dir can only be called on backed dataset.\n"
     ]
    },
    {
     "name": "stdout",
     "output_type": "stream",
     "text": [
      "processing docling\n"
     ]
    },
    {
     "data": {
      "application/vnd.jupyter.widget-view+json": {
       "model_id": "d0d9a4773a39470ea43decca08b22f12",
       "version_major": 2,
       "version_minor": 0
      },
      "text/plain": [
       "Converting PDFs of security targets to txt:   0%|          | 0/1 [00:00<?, ?it/s]"
      ]
     },
     "metadata": {},
     "output_type": "display_data"
    },
    {
     "name": "stderr",
     "output_type": "stream",
     "text": [
      "/home/fstomakhin/Documents/CHESS/sec-certs/venv/lib/python3.10/site-packages/docling/pipeline/standard_pdf_pipeline.py:76: DeprecationWarning: Field `generate_table_images` is deprecated. To obtain table images, set `PdfPipelineOptions.generate_page_images = True` before conversion and then use the `TableItem.get_image` function.\n",
      "  or self.pipeline_options.generate_table_images\n"
     ]
    },
    {
     "ename": "KeyboardInterrupt",
     "evalue": "",
     "output_type": "error",
     "traceback": [
      "\u001b[0;31m---------------------------------------------------------------------------\u001b[0m",
      "\u001b[0;31mKeyboardInterrupt\u001b[0m                         Traceback (most recent call last)",
      "Cell \u001b[0;32mIn[9], line 14\u001b[0m\n\u001b[1;32m     12\u001b[0m     \u001b[38;5;28mprint\u001b[39m(\u001b[38;5;124mf\u001b[39m\u001b[38;5;124m\"\u001b[39m\u001b[38;5;124mprocessing \u001b[39m\u001b[38;5;132;01m{\u001b[39;00msuffix\u001b[38;5;132;01m}\u001b[39;00m\u001b[38;5;124m\"\u001b[39m)\n\u001b[1;32m     13\u001b[0m     dset \u001b[38;5;241m=\u001b[39m CCDataset\u001b[38;5;241m.\u001b[39mfrom_json(curr_folder \u001b[38;5;241m/\u001b[39m \u001b[38;5;124m\"\u001b[39m\u001b[38;5;124mdataset.json\u001b[39m\u001b[38;5;124m\"\u001b[39m)\n\u001b[0;32m---> 14\u001b[0m     \u001b[43mdset\u001b[49m\u001b[38;5;241;43m.\u001b[39;49m\u001b[43mconvert_all_pdfs\u001b[49m\u001b[43m(\u001b[49m\u001b[43mfresh\u001b[49m\u001b[38;5;241;43m=\u001b[39;49m\u001b[38;5;28;43;01mFalse\u001b[39;49;00m\u001b[43m,\u001b[49m\u001b[43m \u001b[49m\u001b[43mconversion_method\u001b[49m\u001b[38;5;241;43m=\u001b[39;49m\u001b[43msuffix_to_method\u001b[49m\u001b[43m[\u001b[49m\u001b[43msuffix\u001b[49m\u001b[43m]\u001b[49m\u001b[43m)\u001b[49m\n\u001b[1;32m     15\u001b[0m \u001b[38;5;66;03m# print(dset)\u001b[39;00m\n",
      "File \u001b[0;32m~/Documents/CHESS/sec-certs/src/sec_certs/serialization/json.py:140\u001b[0m, in \u001b[0;36mserialize.<locals>._serialize\u001b[0;34m(*args, **kwargs)\u001b[0m\n\u001b[1;32m    135\u001b[0m     \u001b[38;5;28;01mraise\u001b[39;00m SerializationError(\n\u001b[1;32m    136\u001b[0m         \u001b[38;5;124m\"\u001b[39m\u001b[38;5;124mThe invoked method requires dataset serialization. Cannot serialize without root_dir set. You can set it with obj.root_dir = ...\u001b[39m\u001b[38;5;124m\"\u001b[39m\n\u001b[1;32m    137\u001b[0m     )\n\u001b[1;32m    139\u001b[0m update_json \u001b[38;5;241m=\u001b[39m kwargs\u001b[38;5;241m.\u001b[39mpop(\u001b[38;5;124m\"\u001b[39m\u001b[38;5;124mupdate_json\u001b[39m\u001b[38;5;124m\"\u001b[39m, \u001b[38;5;28;01mTrue\u001b[39;00m)\n\u001b[0;32m--> 140\u001b[0m result \u001b[38;5;241m=\u001b[39m \u001b[43mfunc\u001b[49m\u001b[43m(\u001b[49m\u001b[38;5;241;43m*\u001b[39;49m\u001b[43margs\u001b[49m\u001b[43m,\u001b[49m\u001b[43m \u001b[49m\u001b[38;5;241;43m*\u001b[39;49m\u001b[38;5;241;43m*\u001b[39;49m\u001b[43mkwargs\u001b[49m\u001b[43m)\u001b[49m\n\u001b[1;32m    141\u001b[0m \u001b[38;5;28;01mif\u001b[39;00m update_json:\n\u001b[1;32m    142\u001b[0m     args[\u001b[38;5;241m0\u001b[39m]\u001b[38;5;241m.\u001b[39mto_json()\n",
      "File \u001b[0;32m~/Documents/CHESS/sec-certs/src/sec_certs/serialization/json.py:167\u001b[0m, in \u001b[0;36monly_backed.<locals>.deco.<locals>._only_backed\u001b[0;34m(*args, **kwargs)\u001b[0m\n\u001b[1;32m    165\u001b[0m         \u001b[38;5;28;01mreturn\u001b[39;00m \u001b[38;5;28;01mNone\u001b[39;00m\n\u001b[1;32m    166\u001b[0m \u001b[38;5;28;01melse\u001b[39;00m:\n\u001b[0;32m--> 167\u001b[0m     \u001b[38;5;28;01mreturn\u001b[39;00m \u001b[43mfunc\u001b[49m\u001b[43m(\u001b[49m\u001b[38;5;241;43m*\u001b[39;49m\u001b[43margs\u001b[49m\u001b[43m,\u001b[49m\u001b[43m \u001b[49m\u001b[38;5;241;43m*\u001b[39;49m\u001b[38;5;241;43m*\u001b[39;49m\u001b[43mkwargs\u001b[49m\u001b[43m)\u001b[49m\n",
      "File \u001b[0;32m~/Documents/CHESS/sec-certs/src/sec_certs/dataset/dataset.py:374\u001b[0m, in \u001b[0;36mDataset.convert_all_pdfs\u001b[0;34m(self, fresh, conversion_method)\u001b[0m\n\u001b[1;32m    371\u001b[0m     \u001b[38;5;28;01mreturn\u001b[39;00m\n\u001b[1;32m    373\u001b[0m logger\u001b[38;5;241m.\u001b[39minfo(\u001b[38;5;124m\"\u001b[39m\u001b[38;5;124mConverting all PDFs to txt\u001b[39m\u001b[38;5;124m\"\u001b[39m)\n\u001b[0;32m--> 374\u001b[0m \u001b[38;5;28;43mself\u001b[39;49m\u001b[38;5;241;43m.\u001b[39;49m\u001b[43m_convert_all_pdfs_body\u001b[49m\u001b[43m(\u001b[49m\u001b[43mfresh\u001b[49m\u001b[43m,\u001b[49m\u001b[43m \u001b[49m\u001b[43mconversion_method\u001b[49m\u001b[43m)\u001b[49m\n\u001b[1;32m    376\u001b[0m \u001b[38;5;28mself\u001b[39m\u001b[38;5;241m.\u001b[39mstate\u001b[38;5;241m.\u001b[39mpdfs_converted \u001b[38;5;241m=\u001b[39m \u001b[38;5;28;01mTrue\u001b[39;00m\n",
      "File \u001b[0;32m~/Documents/CHESS/sec-certs/src/sec_certs/dataset/cc.py:700\u001b[0m, in \u001b[0;36mCCDataset._convert_all_pdfs_body\u001b[0;34m(self, fresh, conversion_method)\u001b[0m\n\u001b[1;32m    698\u001b[0m \u001b[38;5;28;01mdef\u001b[39;00m\u001b[38;5;250m \u001b[39m\u001b[38;5;21m_convert_all_pdfs_body\u001b[39m(\u001b[38;5;28mself\u001b[39m, fresh: \u001b[38;5;28mbool\u001b[39m \u001b[38;5;241m=\u001b[39m \u001b[38;5;28;01mTrue\u001b[39;00m, conversion_method: PDFConversionMethod \u001b[38;5;241m=\u001b[39m PDFConversionMethod\u001b[38;5;241m.\u001b[39mPDFTOTEXT) \u001b[38;5;241m-\u001b[39m\u001b[38;5;241m>\u001b[39m \u001b[38;5;28;01mNone\u001b[39;00m:\n\u001b[1;32m    699\u001b[0m     \u001b[38;5;28mself\u001b[39m\u001b[38;5;241m.\u001b[39m_convert_reports_to_txt(fresh, conversion_method)\n\u001b[0;32m--> 700\u001b[0m     \u001b[38;5;28;43mself\u001b[39;49m\u001b[38;5;241;43m.\u001b[39;49m\u001b[43m_convert_targets_to_txt\u001b[49m\u001b[43m(\u001b[49m\u001b[43mfresh\u001b[49m\u001b[43m,\u001b[49m\u001b[43m \u001b[49m\u001b[43mconversion_method\u001b[49m\u001b[43m)\u001b[49m\n\u001b[1;32m    701\u001b[0m     \u001b[38;5;28mself\u001b[39m\u001b[38;5;241m.\u001b[39m_convert_certs_to_txt(fresh, conversion_method)\n",
      "File \u001b[0;32m~/Documents/CHESS/sec-certs/src/sec_certs/utils/profiling.py:41\u001b[0m, in \u001b[0;36mstaged.<locals>.deco.<locals>.wrapper\u001b[0;34m(*args, **kwargs)\u001b[0m\n\u001b[1;32m     38\u001b[0m \u001b[38;5;129m@wraps\u001b[39m(func)\n\u001b[1;32m     39\u001b[0m \u001b[38;5;28;01mdef\u001b[39;00m\u001b[38;5;250m \u001b[39m\u001b[38;5;21mwrapper\u001b[39m(\u001b[38;5;241m*\u001b[39margs, \u001b[38;5;241m*\u001b[39m\u001b[38;5;241m*\u001b[39mkwargs):\n\u001b[1;32m     40\u001b[0m     \u001b[38;5;28;01mwith\u001b[39;00m log_stage(logger, log_message, collect_garbage):\n\u001b[0;32m---> 41\u001b[0m         \u001b[38;5;28;01mreturn\u001b[39;00m \u001b[43mfunc\u001b[49m\u001b[43m(\u001b[49m\u001b[38;5;241;43m*\u001b[39;49m\u001b[43margs\u001b[49m\u001b[43m,\u001b[49m\u001b[43m \u001b[49m\u001b[38;5;241;43m*\u001b[39;49m\u001b[38;5;241;43m*\u001b[39;49m\u001b[43mkwargs\u001b[49m\u001b[43m)\u001b[49m\n",
      "File \u001b[0;32m~/Documents/CHESS/sec-certs/src/sec_certs/dataset/cc.py:674\u001b[0m, in \u001b[0;36mCCDataset._convert_targets_to_txt\u001b[0;34m(self, fresh, conversion_method)\u001b[0m\n\u001b[1;32m    669\u001b[0m \u001b[38;5;28;01mif\u001b[39;00m \u001b[38;5;129;01mnot\u001b[39;00m fresh \u001b[38;5;129;01mand\u001b[39;00m certs_to_process:\n\u001b[1;32m    670\u001b[0m     logger\u001b[38;5;241m.\u001b[39minfo(\n\u001b[1;32m    671\u001b[0m         \u001b[38;5;124mf\u001b[39m\u001b[38;5;124m\"\u001b[39m\u001b[38;5;124mConverting \u001b[39m\u001b[38;5;132;01m{\u001b[39;00m\u001b[38;5;28mlen\u001b[39m(certs_to_process)\u001b[38;5;132;01m}\u001b[39;00m\u001b[38;5;124m PDFs of security targets to txt for which previous conversion failed.\u001b[39m\u001b[38;5;124m\"\u001b[39m\n\u001b[1;32m    672\u001b[0m     )\n\u001b[0;32m--> 674\u001b[0m \u001b[43mcert_processing\u001b[49m\u001b[38;5;241;43m.\u001b[39;49m\u001b[43mprocess_parallel\u001b[49m\u001b[43m(\u001b[49m\n\u001b[1;32m    675\u001b[0m \u001b[43m    \u001b[49m\u001b[38;5;28;43;01mlambda\u001b[39;49;00m\u001b[43m \u001b[49m\u001b[43mcert\u001b[49m\u001b[43m:\u001b[49m\u001b[43m \u001b[49m\u001b[43mCCCertificate\u001b[49m\u001b[38;5;241;43m.\u001b[39;49m\u001b[43mconvert_st_pdf\u001b[49m\u001b[43m(\u001b[49m\u001b[43mcert\u001b[49m\u001b[43m,\u001b[49m\u001b[43m \u001b[49m\u001b[43mconversion_method\u001b[49m\u001b[43m)\u001b[49m\u001b[43m,\u001b[49m\n\u001b[1;32m    676\u001b[0m \u001b[43m    \u001b[49m\u001b[43mcerts_to_process\u001b[49m\u001b[43m,\u001b[49m\n\u001b[1;32m    677\u001b[0m \u001b[43m    \u001b[49m\u001b[43mprogress_bar_desc\u001b[49m\u001b[38;5;241;43m=\u001b[39;49m\u001b[38;5;124;43m\"\u001b[39;49m\u001b[38;5;124;43mConverting PDFs of security targets to txt\u001b[39;49m\u001b[38;5;124;43m\"\u001b[39;49m\u001b[43m,\u001b[49m\n\u001b[1;32m    678\u001b[0m \u001b[43m\u001b[49m\u001b[43m)\u001b[49m\n",
      "File \u001b[0;32m~/Documents/CHESS/sec-certs/src/sec_certs/utils/parallel_processing.py:38\u001b[0m, in \u001b[0;36mprocess_parallel\u001b[0;34m(func, items, max_workers, callback, use_threading, progress_bar, unpack, progress_bar_desc)\u001b[0m\n\u001b[1;32m     36\u001b[0m     done_count \u001b[38;5;241m=\u001b[39m \u001b[38;5;28mlen\u001b[39m(\u001b[38;5;28mlist\u001b[39m(\u001b[38;5;28mfilter\u001b[39m(\u001b[38;5;28;01mlambda\u001b[39;00m x: x, all_done)))\n\u001b[1;32m     37\u001b[0m     bar\u001b[38;5;241m.\u001b[39mupdate(done_count \u001b[38;5;241m-\u001b[39m bar\u001b[38;5;241m.\u001b[39mn)\n\u001b[0;32m---> 38\u001b[0m     \u001b[43mtime\u001b[49m\u001b[38;5;241;43m.\u001b[39;49m\u001b[43msleep\u001b[49m\u001b[43m(\u001b[49m\u001b[38;5;241;43m1\u001b[39;49m\u001b[43m)\u001b[49m\n\u001b[1;32m     39\u001b[0m bar\u001b[38;5;241m.\u001b[39mupdate(\u001b[38;5;28mlen\u001b[39m(results) \u001b[38;5;241m-\u001b[39m bar\u001b[38;5;241m.\u001b[39mn)\n\u001b[1;32m     40\u001b[0m bar\u001b[38;5;241m.\u001b[39mclose()\n",
      "\u001b[0;31mKeyboardInterrupt\u001b[0m: "
     ]
    },
    {
     "name": "stderr",
     "output_type": "stream",
     "text": [
      "/home/fstomakhin/Documents/CHESS/sec-certs/venv/lib/python3.10/site-packages/docling_core/types/doc/document.py:3339: DeprecationWarning: deprecated\n",
      "  if not d.validate_tree(d.body) or not d.validate_tree(d.furniture):\n",
      "Error when converting pdf->txt: Merged element must be of same type as element.\n",
      "Cert dgst: 67b38ce4914a3c21 failed to convert st pdf->txt\n"
     ]
    }
   ],
   "source": [
    "from sec_certs.utils.pdf import PDFConversionMethod\n",
    "suffix_to_method = {\n",
    "    \"pdftotext\": PDFConversionMethod.PDFTOTEXT,\n",
    "    \"sat\": PDFConversionMethod.SEGMENTATION_TRANSFORMER,\n",
    "    \"gemini\": PDFConversionMethod.VLM,\n",
    "    \"docling\": PDFConversionMethod.DOCLING\n",
    "}\n",
    "dset = None\n",
    "# no request throttling implemented, so had to run it with gemini several times to get past the free tier limits.\n",
    "for suffix in set(dst_suffixes) - {\"sat\"}: # sat is too taxing to run with no GPU\n",
    "    curr_folder = Path(f\"../../cc_data_{suffix}\")\n",
    "    print(f\"processing {suffix}\")\n",
    "    dset = CCDataset.from_json(curr_folder / \"dataset.json\")\n",
    "    dset.convert_all_pdfs(fresh=False, conversion_method=suffix_to_method[suffix])\n",
    "# print(dset)"
   ]
  },
  {
   "cell_type": "code",
   "execution_count": 10,
   "id": "e7009eb3",
   "metadata": {},
   "outputs": [],
   "source": [
    "import sec_certs.configuration as config_module\n",
    "config_module.config.load_from_yaml(\"processing_config.yaml\")"
   ]
  },
  {
   "cell_type": "code",
   "execution_count": null,
   "id": "95126e61",
   "metadata": {},
   "outputs": [],
   "source": [
    "dsets = {}"
   ]
  },
  {
   "cell_type": "code",
   "execution_count": null,
   "id": "8a8c8df6",
   "metadata": {},
   "outputs": [
    {
     "name": "stderr",
     "output_type": "stream",
     "text": [
      "Method auxiliary_datasets_dir can only be called on backed dataset.\n",
      "Method auxiliary_datasets_dir can only be called on backed dataset.\n",
      "Method auxiliary_datasets_dir can only be called on backed dataset.\n",
      "Method auxiliary_datasets_dir can only be called on backed dataset.\n",
      "Method auxiliary_datasets_dir can only be called on backed dataset.\n",
      "Method auxiliary_datasets_dir can only be called on backed dataset.\n"
     ]
    },
    {
     "name": "stdout",
     "output_type": "stream",
     "text": [
      "processing docling\n"
     ]
    },
    {
     "data": {
      "application/vnd.jupyter.widget-view+json": {
       "model_id": "224ce281e51c4c939f964ab6fb7deb70",
       "version_major": 2,
       "version_minor": 0
      },
      "text/plain": [
       "Extracting report metadata:   0%|          | 0/10 [00:00<?, ?it/s]"
      ]
     },
     "metadata": {},
     "output_type": "display_data"
    },
    {
     "data": {
      "application/vnd.jupyter.widget-view+json": {
       "model_id": "ba56ea11187147a1afb04419ef49751d",
       "version_major": 2,
       "version_minor": 0
      },
      "text/plain": [
       "Extracting target metadata:   0%|          | 0/9 [00:00<?, ?it/s]"
      ]
     },
     "metadata": {},
     "output_type": "display_data"
    },
    {
     "data": {
      "application/vnd.jupyter.widget-view+json": {
       "model_id": "49b750ee11ce444a94a4ed903c2cbfbb",
       "version_major": 2,
       "version_minor": 0
      },
      "text/plain": [
       "Extracting cert metadata:   0%|          | 0/4 [00:00<?, ?it/s]"
      ]
     },
     "metadata": {},
     "output_type": "display_data"
    },
    {
     "data": {
      "application/vnd.jupyter.widget-view+json": {
       "model_id": "418ce92e15be44a7905ea6180ae25c9b",
       "version_major": 2,
       "version_minor": 0
      },
      "text/plain": [
       "Extracting report frontpages:   0%|          | 0/10 [00:00<?, ?it/s]"
      ]
     },
     "metadata": {},
     "output_type": "display_data"
    },
    {
     "name": "stderr",
     "output_type": "stream",
     "text": [
      "WARNING: multiple rules are matching same certification document: /home/fstomakhin/Documents/CHESS/sec-certs/notebooks/cc/../../cc_data_docling/certs/reports/txt/afff54c61c7bd4a0.txt\n",
      "WARNING: multiple rules are matching same certification document: /home/fstomakhin/Documents/CHESS/sec-certs/notebooks/cc/../../cc_data_docling/certs/reports/txt/afff54c61c7bd4a0.txt\n"
     ]
    },
    {
     "data": {
      "application/vnd.jupyter.widget-view+json": {
       "model_id": "cfc15ffb28d7486b968bcf39ca72deff",
       "version_major": 2,
       "version_minor": 0
      },
      "text/plain": [
       "Extracting report keywords:   0%|          | 0/10 [00:00<?, ?it/s]"
      ]
     },
     "metadata": {},
     "output_type": "display_data"
    },
    {
     "data": {
      "application/vnd.jupyter.widget-view+json": {
       "model_id": "bee6431831634e1b849e899dd728b8d2",
       "version_major": 2,
       "version_minor": 0
      },
      "text/plain": [
       "Extracting target keywords:   0%|          | 0/9 [00:00<?, ?it/s]"
      ]
     },
     "metadata": {},
     "output_type": "display_data"
    },
    {
     "data": {
      "application/vnd.jupyter.widget-view+json": {
       "model_id": "d35a3756c79342d291c0f778a6601713",
       "version_major": 2,
       "version_minor": 0
      },
      "text/plain": [
       "Extracting cert keywords:   0%|          | 0/4 [00:00<?, ?it/s]"
      ]
     },
     "metadata": {},
     "output_type": "display_data"
    },
    {
     "data": {
      "application/vnd.jupyter.widget-view+json": {
       "model_id": "e1cc3211fa314e3eaa83a81ff65185c1",
       "version_major": 2,
       "version_minor": 0
      },
      "text/plain": [
       "Fitting the CPE classifier:   0%|          | 0/1197837 [00:00<?, ?it/s]"
      ]
     },
     "metadata": {},
     "output_type": "display_data"
    },
    {
     "name": "stderr",
     "output_type": "stream",
     "text": [
      "Predicting CPE matches with the classifier: 100%|██████████| 10/10 [00:00<00:00, 26.68it/s]\n"
     ]
    },
    {
     "data": {
      "application/vnd.jupyter.widget-view+json": {
       "model_id": "9920b0e6c3ba4ed48aa909621fe2c65f",
       "version_major": 2,
       "version_minor": 0
      },
      "text/plain": [
       "Expanding and filtering criteria configurations:   0%|          | 0/37948 [00:00<?, ?it/s]"
      ]
     },
     "metadata": {},
     "output_type": "display_data"
    },
    {
     "data": {
      "application/vnd.jupyter.widget-view+json": {
       "model_id": "ecbaf3c90de04b08b219a1cd13a8919f",
       "version_major": 2,
       "version_minor": 0
      },
      "text/plain": [
       "Building-up lookup dictionaries for fast CVE matching:   0%|          | 0/243101 [00:00<?, ?it/s]"
      ]
     },
     "metadata": {},
     "output_type": "display_data"
    },
    {
     "name": "stderr",
     "output_type": "stream",
     "text": [
      "Computing related CVES: 0it [00:00, ?it/s]\n",
      "Method auxiliary_datasets_dir can only be called on backed dataset.\n",
      "Method auxiliary_datasets_dir can only be called on backed dataset.\n",
      "Method auxiliary_datasets_dir can only be called on backed dataset.\n",
      "Method auxiliary_datasets_dir can only be called on backed dataset.\n",
      "Method auxiliary_datasets_dir can only be called on backed dataset.\n",
      "Method auxiliary_datasets_dir can only be called on backed dataset.\n"
     ]
    },
    {
     "name": "stdout",
     "output_type": "stream",
     "text": [
      "processing pdftotext\n"
     ]
    },
    {
     "data": {
      "application/vnd.jupyter.widget-view+json": {
       "model_id": "3b159022f6b04270829d1ac8dc9d699a",
       "version_major": 2,
       "version_minor": 0
      },
      "text/plain": [
       "Extracting report metadata:   0%|          | 0/10 [00:00<?, ?it/s]"
      ]
     },
     "metadata": {},
     "output_type": "display_data"
    },
    {
     "data": {
      "application/vnd.jupyter.widget-view+json": {
       "model_id": "6764b2b60bc046f0b14d78251289d902",
       "version_major": 2,
       "version_minor": 0
      },
      "text/plain": [
       "Extracting target metadata:   0%|          | 0/10 [00:00<?, ?it/s]"
      ]
     },
     "metadata": {},
     "output_type": "display_data"
    },
    {
     "data": {
      "application/vnd.jupyter.widget-view+json": {
       "model_id": "a8084054942b4d5fadaaae7641fbccae",
       "version_major": 2,
       "version_minor": 0
      },
      "text/plain": [
       "Extracting cert metadata:   0%|          | 0/4 [00:00<?, ?it/s]"
      ]
     },
     "metadata": {},
     "output_type": "display_data"
    },
    {
     "data": {
      "application/vnd.jupyter.widget-view+json": {
       "model_id": "60cbfb9adafc4744a788004e9adfd9c7",
       "version_major": 2,
       "version_minor": 0
      },
      "text/plain": [
       "Extracting report frontpages:   0%|          | 0/10 [00:00<?, ?it/s]"
      ]
     },
     "metadata": {},
     "output_type": "display_data"
    },
    {
     "data": {
      "application/vnd.jupyter.widget-view+json": {
       "model_id": "bf5b2df04fd548a9b432a8d69652b330",
       "version_major": 2,
       "version_minor": 0
      },
      "text/plain": [
       "Extracting report keywords:   0%|          | 0/10 [00:00<?, ?it/s]"
      ]
     },
     "metadata": {},
     "output_type": "display_data"
    },
    {
     "data": {
      "application/vnd.jupyter.widget-view+json": {
       "model_id": "b93f010765684423aa19cbef4175b1fa",
       "version_major": 2,
       "version_minor": 0
      },
      "text/plain": [
       "Extracting target keywords:   0%|          | 0/10 [00:00<?, ?it/s]"
      ]
     },
     "metadata": {},
     "output_type": "display_data"
    },
    {
     "data": {
      "application/vnd.jupyter.widget-view+json": {
       "model_id": "4ab8684d66ed40199b2829a24960b1a1",
       "version_major": 2,
       "version_minor": 0
      },
      "text/plain": [
       "Extracting cert keywords:   0%|          | 0/4 [00:00<?, ?it/s]"
      ]
     },
     "metadata": {},
     "output_type": "display_data"
    },
    {
     "data": {
      "application/vnd.jupyter.widget-view+json": {
       "model_id": "ef89f9d0a85f4338b51a004ba1a925b1",
       "version_major": 2,
       "version_minor": 0
      },
      "text/plain": [
       "Fitting the CPE classifier:   0%|          | 0/1197837 [00:00<?, ?it/s]"
      ]
     },
     "metadata": {},
     "output_type": "display_data"
    },
    {
     "name": "stderr",
     "output_type": "stream",
     "text": [
      "Predicting CPE matches with the classifier: 100%|██████████| 10/10 [00:00<00:00, 56.04it/s]\n"
     ]
    },
    {
     "data": {
      "application/vnd.jupyter.widget-view+json": {
       "model_id": "8ca6d8f8720743bdbe1f15e26501cb7e",
       "version_major": 2,
       "version_minor": 0
      },
      "text/plain": [
       "Expanding and filtering criteria configurations:   0%|          | 0/37948 [00:00<?, ?it/s]"
      ]
     },
     "metadata": {},
     "output_type": "display_data"
    },
    {
     "data": {
      "application/vnd.jupyter.widget-view+json": {
       "model_id": "d3aec027721444e0970679447ef0bc8b",
       "version_major": 2,
       "version_minor": 0
      },
      "text/plain": [
       "Building-up lookup dictionaries for fast CVE matching:   0%|          | 0/243101 [00:00<?, ?it/s]"
      ]
     },
     "metadata": {},
     "output_type": "display_data"
    },
    {
     "name": "stderr",
     "output_type": "stream",
     "text": [
      "Computing related CVES: 0it [00:00, ?it/s]\n",
      "Method auxiliary_datasets_dir can only be called on backed dataset.\n",
      "Method auxiliary_datasets_dir can only be called on backed dataset.\n",
      "Method auxiliary_datasets_dir can only be called on backed dataset.\n",
      "Method auxiliary_datasets_dir can only be called on backed dataset.\n",
      "Method auxiliary_datasets_dir can only be called on backed dataset.\n",
      "Method auxiliary_datasets_dir can only be called on backed dataset.\n"
     ]
    },
    {
     "name": "stdout",
     "output_type": "stream",
     "text": [
      "processing gemini\n"
     ]
    },
    {
     "data": {
      "application/vnd.jupyter.widget-view+json": {
       "model_id": "514612cd064d49cb88d3e5d07172979d",
       "version_major": 2,
       "version_minor": 0
      },
      "text/plain": [
       "Extracting report metadata:   0%|          | 0/10 [00:00<?, ?it/s]"
      ]
     },
     "metadata": {},
     "output_type": "display_data"
    },
    {
     "data": {
      "application/vnd.jupyter.widget-view+json": {
       "model_id": "fcd1940c13044af0a87e4fdf0c518554",
       "version_major": 2,
       "version_minor": 0
      },
      "text/plain": [
       "Extracting target metadata:   0%|          | 0/10 [00:00<?, ?it/s]"
      ]
     },
     "metadata": {},
     "output_type": "display_data"
    },
    {
     "data": {
      "application/vnd.jupyter.widget-view+json": {
       "model_id": "f4b47478752a46a0936f6eb9e1e822ed",
       "version_major": 2,
       "version_minor": 0
      },
      "text/plain": [
       "Extracting cert metadata:   0%|          | 0/4 [00:00<?, ?it/s]"
      ]
     },
     "metadata": {},
     "output_type": "display_data"
    },
    {
     "data": {
      "application/vnd.jupyter.widget-view+json": {
       "model_id": "ca93cfb5619f4c5eba4bcb2c614ad3d7",
       "version_major": 2,
       "version_minor": 0
      },
      "text/plain": [
       "Extracting report frontpages:   0%|          | 0/10 [00:00<?, ?it/s]"
      ]
     },
     "metadata": {},
     "output_type": "display_data"
    },
    {
     "data": {
      "application/vnd.jupyter.widget-view+json": {
       "model_id": "630849e15f47423ba2c5ecb343cf89ab",
       "version_major": 2,
       "version_minor": 0
      },
      "text/plain": [
       "Extracting report keywords:   0%|          | 0/10 [00:00<?, ?it/s]"
      ]
     },
     "metadata": {},
     "output_type": "display_data"
    },
    {
     "data": {
      "application/vnd.jupyter.widget-view+json": {
       "model_id": "851d3ab1284e460dbf0a28e87cb48840",
       "version_major": 2,
       "version_minor": 0
      },
      "text/plain": [
       "Extracting target keywords:   0%|          | 0/10 [00:00<?, ?it/s]"
      ]
     },
     "metadata": {},
     "output_type": "display_data"
    },
    {
     "data": {
      "application/vnd.jupyter.widget-view+json": {
       "model_id": "e201a4578b354e189eb320a9f0df9f6c",
       "version_major": 2,
       "version_minor": 0
      },
      "text/plain": [
       "Extracting cert keywords:   0%|          | 0/4 [00:00<?, ?it/s]"
      ]
     },
     "metadata": {},
     "output_type": "display_data"
    },
    {
     "data": {
      "application/vnd.jupyter.widget-view+json": {
       "model_id": "de8bc9a8a9b6404dba8691746d6d80b2",
       "version_major": 2,
       "version_minor": 0
      },
      "text/plain": [
       "Fitting the CPE classifier:   0%|          | 0/1197837 [00:00<?, ?it/s]"
      ]
     },
     "metadata": {},
     "output_type": "display_data"
    },
    {
     "name": "stderr",
     "output_type": "stream",
     "text": [
      "Predicting CPE matches with the classifier: 100%|██████████| 10/10 [00:00<00:00, 39.64it/s]\n"
     ]
    },
    {
     "data": {
      "application/vnd.jupyter.widget-view+json": {
       "model_id": "6c62598eb366471c958e8746f0790cb9",
       "version_major": 2,
       "version_minor": 0
      },
      "text/plain": [
       "Expanding and filtering criteria configurations:   0%|          | 0/37948 [00:00<?, ?it/s]"
      ]
     },
     "metadata": {},
     "output_type": "display_data"
    },
    {
     "data": {
      "application/vnd.jupyter.widget-view+json": {
       "model_id": "eee996b9b3164147a61b8d0ed8d0f773",
       "version_major": 2,
       "version_minor": 0
      },
      "text/plain": [
       "Building-up lookup dictionaries for fast CVE matching:   0%|          | 0/243101 [00:00<?, ?it/s]"
      ]
     },
     "metadata": {},
     "output_type": "display_data"
    },
    {
     "name": "stderr",
     "output_type": "stream",
     "text": [
      "Computing related CVES: 0it [00:00, ?it/s]\n"
     ]
    }
   ],
   "source": [
    "for suffix in set(dst_suffixes) - {\"sat\"}:\n",
    "    curr_folder = Path(f\"../../cc_data_{suffix}\")\n",
    "    shutil.copytree(\"../../cc_data/auxiliary_datasets\", curr_folder / \"auxiliary_datasets\", dirs_exist_ok=True)\n",
    "    print(f\"processing {suffix}\")\n",
    "    dset = CCDataset.from_json(curr_folder / \"dataset.json\")\n",
    "    dset.analyze_certificates()\n",
    "    dsets[suffix] = dset\n",
    "    shutil.rmtree(curr_folder / \"auxiliary_datasets\")"
   ]
  },
  {
   "cell_type": "code",
   "execution_count": 15,
   "id": "1ca335e7",
   "metadata": {},
   "outputs": [],
   "source": [
    "from sec_certs.utils.pdf import PDFConversionMethod"
   ]
  },
  {
   "cell_type": "code",
   "execution_count": null,
   "id": "93de688c",
   "metadata": {},
   "outputs": [],
   "source": []
  },
  {
   "cell_type": "code",
   "execution_count": null,
   "id": "b62eaade",
   "metadata": {},
   "outputs": [
    {
     "data": {
      "application/vnd.jupyter.widget-view+json": {
       "model_id": "d67c8a2cd98a40b8901b3fdedd3a3c74",
       "version_major": 2,
       "version_minor": 0
      },
      "text/plain": [
       "Converting PDFs of certification reports to txt:   0%|          | 0/6172 [00:00<?, ?it/s]"
      ]
     },
     "metadata": {},
     "output_type": "display_data"
    },
    {
     "name": "stderr",
     "output_type": "stream",
     "text": [
      "Detected garbage during conversion of /home/fstomakhin/Documents/CHESS/sec-certs/notebooks/cc/../../cc_data/certs/reports/pdf/52cef68b9ccac840.pdf\n",
      "Detected garbage during conversion of /home/fstomakhin/Documents/CHESS/sec-certs/notebooks/cc/../../cc_data/certs/reports/pdf/65fb86b0b7259ffb.pdf\n",
      "Detected garbage during conversion of /home/fstomakhin/Documents/CHESS/sec-certs/notebooks/cc/../../cc_data/certs/reports/pdf/a80051397468fac6.pdf\n",
      "Detected garbage during conversion of /home/fstomakhin/Documents/CHESS/sec-certs/notebooks/cc/../../cc_data/certs/reports/pdf/8421233fb00f1cd5.pdf\n",
      "Detected garbage during conversion of /home/fstomakhin/Documents/CHESS/sec-certs/notebooks/cc/../../cc_data/certs/reports/pdf/f7c1b24c776136a8.pdf\n",
      "Detected garbage during conversion of /home/fstomakhin/Documents/CHESS/sec-certs/notebooks/cc/../../cc_data/certs/reports/pdf/70c176a3a9ae4afe.pdf\n",
      "Detected garbage during conversion of /home/fstomakhin/Documents/CHESS/sec-certs/notebooks/cc/../../cc_data/certs/reports/pdf/65943e638dcafd79.pdf\n",
      "Detected garbage during conversion of /home/fstomakhin/Documents/CHESS/sec-certs/notebooks/cc/../../cc_data/certs/reports/pdf/217b91b3b8ce1ef5.pdf\n",
      "Detected garbage during conversion of /home/fstomakhin/Documents/CHESS/sec-certs/notebooks/cc/../../cc_data/certs/reports/pdf/d82b33e546e446fd.pdf\n",
      "Detected garbage during conversion of /home/fstomakhin/Documents/CHESS/sec-certs/notebooks/cc/../../cc_data/certs/reports/pdf/378c06ad75c36910.pdf\n",
      "Detected garbage during conversion of /home/fstomakhin/Documents/CHESS/sec-certs/notebooks/cc/../../cc_data/certs/reports/pdf/24bcd3a0cc7d9602.pdf\n",
      "Detected garbage during conversion of /home/fstomakhin/Documents/CHESS/sec-certs/notebooks/cc/../../cc_data/certs/reports/pdf/54544b064482e96d.pdf\n",
      "Error during OCR of /home/fstomakhin/Documents/CHESS/sec-certs/notebooks/cc/../../cc_data/certs/reports/pdf/d82b33e546e446fd.pdf, using garbage: (-2, 'Tesseract Open Source OCR Engine v4.1.1 with Leptonica Warning: Invalid resolution 0 dpi. Using 70 instead. Estimating resolution as 175')\n",
      "Error during OCR of /home/fstomakhin/Documents/CHESS/sec-certs/notebooks/cc/../../cc_data/certs/reports/pdf/f7c1b24c776136a8.pdf, using garbage: (-2, 'Tesseract Open Source OCR Engine v4.1.1 with Leptonica Warning: Invalid resolution 0 dpi. Using 70 instead. Estimating resolution as 201')\n",
      "Error during OCR of /home/fstomakhin/Documents/CHESS/sec-certs/notebooks/cc/../../cc_data/certs/reports/pdf/378c06ad75c36910.pdf, using garbage: (-2, 'Tesseract Open Source OCR Engine v4.1.1 with Leptonica Warning: Invalid resolution 0 dpi. Using 70 instead. Estimating resolution as 195')\n",
      "Detected garbage during conversion of /home/fstomakhin/Documents/CHESS/sec-certs/notebooks/cc/../../cc_data/certs/reports/pdf/099cc2bba603a95f.pdf\n",
      "Error during OCR of /home/fstomakhin/Documents/CHESS/sec-certs/notebooks/cc/../../cc_data/certs/reports/pdf/24bcd3a0cc7d9602.pdf, using garbage: (-2, 'Tesseract Open Source OCR Engine v4.1.1 with Leptonica Warning: Invalid resolution 0 dpi. Using 70 instead. Estimating resolution as 179')\n",
      "Error during OCR of /home/fstomakhin/Documents/CHESS/sec-certs/notebooks/cc/../../cc_data/certs/reports/pdf/217b91b3b8ce1ef5.pdf, using garbage: (-2, 'Tesseract Open Source OCR Engine v4.1.1 with Leptonica Warning: Invalid resolution 0 dpi. Using 70 instead. Estimating resolution as 198')\n",
      "Error during OCR of /home/fstomakhin/Documents/CHESS/sec-certs/notebooks/cc/../../cc_data/certs/reports/pdf/54544b064482e96d.pdf, using garbage: (-2, 'Tesseract Open Source OCR Engine v4.1.1 with Leptonica Warning: Invalid resolution 0 dpi. Using 70 instead. Estimating resolution as 194')\n",
      "Detected garbage during conversion of /home/fstomakhin/Documents/CHESS/sec-certs/notebooks/cc/../../cc_data/certs/reports/pdf/b820eb72f291db61.pdf\n",
      "Error during OCR of /home/fstomakhin/Documents/CHESS/sec-certs/notebooks/cc/../../cc_data/certs/reports/pdf/65943e638dcafd79.pdf, using garbage: (-2, 'Tesseract Open Source OCR Engine v4.1.1 with Leptonica Warning: Invalid resolution 0 dpi. Using 70 instead. Estimating resolution as 186')\n",
      "Error during OCR of /home/fstomakhin/Documents/CHESS/sec-certs/notebooks/cc/../../cc_data/certs/reports/pdf/65fb86b0b7259ffb.pdf, using garbage: (-2, 'Tesseract Open Source OCR Engine v4.1.1 with Leptonica Warning: Invalid resolution 0 dpi. Using 70 instead. Estimating resolution as 199')\n",
      "Error during OCR of /home/fstomakhin/Documents/CHESS/sec-certs/notebooks/cc/../../cc_data/certs/reports/pdf/a80051397468fac6.pdf, using garbage: (-2, 'Tesseract Open Source OCR Engine v4.1.1 with Leptonica Warning: Invalid resolution 0 dpi. Using 70 instead. Estimating resolution as 200')\n",
      "Detected garbage during conversion of /home/fstomakhin/Documents/CHESS/sec-certs/notebooks/cc/../../cc_data/certs/reports/pdf/a86bd43e11032026.pdf\n",
      "Detected garbage during conversion of /home/fstomakhin/Documents/CHESS/sec-certs/notebooks/cc/../../cc_data/certs/reports/pdf/e994da8c1eb654a6.pdf\n",
      "Error during OCR of /home/fstomakhin/Documents/CHESS/sec-certs/notebooks/cc/../../cc_data/certs/reports/pdf/52cef68b9ccac840.pdf, using garbage: (-2, 'Tesseract Open Source OCR Engine v4.1.1 with Leptonica Warning: Invalid resolution 0 dpi. Using 70 instead. Estimating resolution as 200')\n",
      "Error during OCR of /home/fstomakhin/Documents/CHESS/sec-certs/notebooks/cc/../../cc_data/certs/reports/pdf/8421233fb00f1cd5.pdf, using garbage: (-2, 'Tesseract Open Source OCR Engine v4.1.1 with Leptonica Warning: Invalid resolution 0 dpi. Using 70 instead. Estimating resolution as 201')\n",
      "Detected garbage during conversion of /home/fstomakhin/Documents/CHESS/sec-certs/notebooks/cc/../../cc_data/certs/reports/pdf/48abee1598470006.pdf\n",
      "Error during OCR of /home/fstomakhin/Documents/CHESS/sec-certs/notebooks/cc/../../cc_data/certs/reports/pdf/70c176a3a9ae4afe.pdf, using garbage: (-2, 'Tesseract Open Source OCR Engine v4.1.1 with Leptonica Warning: Invalid resolution 0 dpi. Using 70 instead. Estimating resolution as 191')\n",
      "Detected garbage during conversion of /home/fstomakhin/Documents/CHESS/sec-certs/notebooks/cc/../../cc_data/certs/reports/pdf/69906de02df692c3.pdf\n",
      "Detected garbage during conversion of /home/fstomakhin/Documents/CHESS/sec-certs/notebooks/cc/../../cc_data/certs/reports/pdf/0ea65ddd47e12976.pdf\n",
      "Detected garbage during conversion of /home/fstomakhin/Documents/CHESS/sec-certs/notebooks/cc/../../cc_data/certs/reports/pdf/bf1d4138795e3d52.pdf\n",
      "Detected garbage during conversion of /home/fstomakhin/Documents/CHESS/sec-certs/notebooks/cc/../../cc_data/certs/reports/pdf/8d798205eaf3159d.pdf\n",
      "Detected garbage during conversion of /home/fstomakhin/Documents/CHESS/sec-certs/notebooks/cc/../../cc_data/certs/reports/pdf/fc0d4ba67d237ec7.pdf\n"
     ]
    },
    {
     "ename": "KeyboardInterrupt",
     "evalue": "",
     "output_type": "error",
     "traceback": [
      "\u001b[0;31m---------------------------------------------------------------------------\u001b[0m",
      "\u001b[0;31mKeyboardInterrupt\u001b[0m                         Traceback (most recent call last)",
      "Cell \u001b[0;32mIn[4], line 1\u001b[0m\n\u001b[0;32m----> 1\u001b[0m \u001b[43mdset\u001b[49m\u001b[38;5;241;43m.\u001b[39;49m\u001b[43mconvert_all_pdfs\u001b[49m\u001b[43m(\u001b[49m\u001b[43m)\u001b[49m\n",
      "File \u001b[0;32m~/Documents/CHESS/sec-certs/src/sec_certs/serialization/json.py:140\u001b[0m, in \u001b[0;36mserialize.<locals>._serialize\u001b[0;34m(*args, **kwargs)\u001b[0m\n\u001b[1;32m    135\u001b[0m     \u001b[38;5;28;01mraise\u001b[39;00m SerializationError(\n\u001b[1;32m    136\u001b[0m         \u001b[38;5;124m\"\u001b[39m\u001b[38;5;124mThe invoked method requires dataset serialization. Cannot serialize without root_dir set. You can set it with obj.root_dir = ...\u001b[39m\u001b[38;5;124m\"\u001b[39m\n\u001b[1;32m    137\u001b[0m     )\n\u001b[1;32m    139\u001b[0m update_json \u001b[38;5;241m=\u001b[39m kwargs\u001b[38;5;241m.\u001b[39mpop(\u001b[38;5;124m\"\u001b[39m\u001b[38;5;124mupdate_json\u001b[39m\u001b[38;5;124m\"\u001b[39m, \u001b[38;5;28;01mTrue\u001b[39;00m)\n\u001b[0;32m--> 140\u001b[0m result \u001b[38;5;241m=\u001b[39m \u001b[43mfunc\u001b[49m\u001b[43m(\u001b[49m\u001b[38;5;241;43m*\u001b[39;49m\u001b[43margs\u001b[49m\u001b[43m,\u001b[49m\u001b[43m \u001b[49m\u001b[38;5;241;43m*\u001b[39;49m\u001b[38;5;241;43m*\u001b[39;49m\u001b[43mkwargs\u001b[49m\u001b[43m)\u001b[49m\n\u001b[1;32m    141\u001b[0m \u001b[38;5;28;01mif\u001b[39;00m update_json:\n\u001b[1;32m    142\u001b[0m     args[\u001b[38;5;241m0\u001b[39m]\u001b[38;5;241m.\u001b[39mto_json()\n",
      "File \u001b[0;32m~/Documents/CHESS/sec-certs/src/sec_certs/serialization/json.py:167\u001b[0m, in \u001b[0;36monly_backed.<locals>.deco.<locals>._only_backed\u001b[0;34m(*args, **kwargs)\u001b[0m\n\u001b[1;32m    165\u001b[0m         \u001b[38;5;28;01mreturn\u001b[39;00m \u001b[38;5;28;01mNone\u001b[39;00m\n\u001b[1;32m    166\u001b[0m \u001b[38;5;28;01melse\u001b[39;00m:\n\u001b[0;32m--> 167\u001b[0m     \u001b[38;5;28;01mreturn\u001b[39;00m \u001b[43mfunc\u001b[49m\u001b[43m(\u001b[49m\u001b[38;5;241;43m*\u001b[39;49m\u001b[43margs\u001b[49m\u001b[43m,\u001b[49m\u001b[43m \u001b[49m\u001b[38;5;241;43m*\u001b[39;49m\u001b[38;5;241;43m*\u001b[39;49m\u001b[43mkwargs\u001b[49m\u001b[43m)\u001b[49m\n",
      "File \u001b[0;32m~/Documents/CHESS/sec-certs/src/sec_certs/dataset/dataset.py:373\u001b[0m, in \u001b[0;36mDataset.convert_all_pdfs\u001b[0;34m(self, fresh)\u001b[0m\n\u001b[1;32m    370\u001b[0m     \u001b[38;5;28;01mreturn\u001b[39;00m\n\u001b[1;32m    372\u001b[0m logger\u001b[38;5;241m.\u001b[39minfo(\u001b[38;5;124m\"\u001b[39m\u001b[38;5;124mConverting all PDFs to txt\u001b[39m\u001b[38;5;124m\"\u001b[39m)\n\u001b[0;32m--> 373\u001b[0m \u001b[38;5;28;43mself\u001b[39;49m\u001b[38;5;241;43m.\u001b[39;49m\u001b[43m_convert_all_pdfs_body\u001b[49m\u001b[43m(\u001b[49m\u001b[43mfresh\u001b[49m\u001b[43m)\u001b[49m\n\u001b[1;32m    375\u001b[0m \u001b[38;5;28mself\u001b[39m\u001b[38;5;241m.\u001b[39mstate\u001b[38;5;241m.\u001b[39mpdfs_converted \u001b[38;5;241m=\u001b[39m \u001b[38;5;28;01mTrue\u001b[39;00m\n",
      "File \u001b[0;32m~/Documents/CHESS/sec-certs/src/sec_certs/dataset/cc.py:697\u001b[0m, in \u001b[0;36mCCDataset._convert_all_pdfs_body\u001b[0;34m(self, fresh)\u001b[0m\n\u001b[1;32m    696\u001b[0m \u001b[38;5;28;01mdef\u001b[39;00m\u001b[38;5;250m \u001b[39m\u001b[38;5;21m_convert_all_pdfs_body\u001b[39m(\u001b[38;5;28mself\u001b[39m, fresh: \u001b[38;5;28mbool\u001b[39m \u001b[38;5;241m=\u001b[39m \u001b[38;5;28;01mTrue\u001b[39;00m) \u001b[38;5;241m-\u001b[39m\u001b[38;5;241m>\u001b[39m \u001b[38;5;28;01mNone\u001b[39;00m:\n\u001b[0;32m--> 697\u001b[0m     \u001b[38;5;28;43mself\u001b[39;49m\u001b[38;5;241;43m.\u001b[39;49m\u001b[43m_convert_reports_to_txt\u001b[49m\u001b[43m(\u001b[49m\u001b[43mfresh\u001b[49m\u001b[43m)\u001b[49m\n\u001b[1;32m    698\u001b[0m     \u001b[38;5;28mself\u001b[39m\u001b[38;5;241m.\u001b[39m_convert_targets_to_txt(fresh)\n\u001b[1;32m    699\u001b[0m     \u001b[38;5;28mself\u001b[39m\u001b[38;5;241m.\u001b[39m_convert_certs_to_txt(fresh)\n",
      "File \u001b[0;32m~/Documents/CHESS/sec-certs/src/sec_certs/utils/profiling.py:41\u001b[0m, in \u001b[0;36mstaged.<locals>.deco.<locals>.wrapper\u001b[0;34m(*args, **kwargs)\u001b[0m\n\u001b[1;32m     38\u001b[0m \u001b[38;5;129m@wraps\u001b[39m(func)\n\u001b[1;32m     39\u001b[0m \u001b[38;5;28;01mdef\u001b[39;00m\u001b[38;5;250m \u001b[39m\u001b[38;5;21mwrapper\u001b[39m(\u001b[38;5;241m*\u001b[39margs, \u001b[38;5;241m*\u001b[39m\u001b[38;5;241m*\u001b[39mkwargs):\n\u001b[1;32m     40\u001b[0m     \u001b[38;5;28;01mwith\u001b[39;00m log_stage(logger, log_message, collect_garbage):\n\u001b[0;32m---> 41\u001b[0m         \u001b[38;5;28;01mreturn\u001b[39;00m \u001b[43mfunc\u001b[49m\u001b[43m(\u001b[49m\u001b[38;5;241;43m*\u001b[39;49m\u001b[43margs\u001b[49m\u001b[43m,\u001b[49m\u001b[43m \u001b[49m\u001b[38;5;241;43m*\u001b[39;49m\u001b[38;5;241;43m*\u001b[39;49m\u001b[43mkwargs\u001b[49m\u001b[43m)\u001b[49m\n",
      "File \u001b[0;32m~/Documents/CHESS/sec-certs/src/sec_certs/dataset/cc.py:654\u001b[0m, in \u001b[0;36mCCDataset._convert_reports_to_txt\u001b[0;34m(self, fresh)\u001b[0m\n\u001b[1;32m    649\u001b[0m \u001b[38;5;28;01mif\u001b[39;00m \u001b[38;5;129;01mnot\u001b[39;00m fresh \u001b[38;5;129;01mand\u001b[39;00m certs_to_process:\n\u001b[1;32m    650\u001b[0m     logger\u001b[38;5;241m.\u001b[39minfo(\n\u001b[1;32m    651\u001b[0m         \u001b[38;5;124mf\u001b[39m\u001b[38;5;124m\"\u001b[39m\u001b[38;5;124mConverting \u001b[39m\u001b[38;5;132;01m{\u001b[39;00m\u001b[38;5;28mlen\u001b[39m(certs_to_process)\u001b[38;5;132;01m}\u001b[39;00m\u001b[38;5;124m PDFs of certification reports to txt for which previous conversion failed.\u001b[39m\u001b[38;5;124m\"\u001b[39m\n\u001b[1;32m    652\u001b[0m     )\n\u001b[0;32m--> 654\u001b[0m \u001b[43mcert_processing\u001b[49m\u001b[38;5;241;43m.\u001b[39;49m\u001b[43mprocess_parallel\u001b[49m\u001b[43m(\u001b[49m\n\u001b[1;32m    655\u001b[0m \u001b[43m    \u001b[49m\u001b[43mCCCertificate\u001b[49m\u001b[38;5;241;43m.\u001b[39;49m\u001b[43mconvert_report_pdf\u001b[49m\u001b[43m,\u001b[49m\n\u001b[1;32m    656\u001b[0m \u001b[43m    \u001b[49m\u001b[43mcerts_to_process\u001b[49m\u001b[43m,\u001b[49m\n\u001b[1;32m    657\u001b[0m \u001b[43m    \u001b[49m\u001b[43mprogress_bar_desc\u001b[49m\u001b[38;5;241;43m=\u001b[39;49m\u001b[38;5;124;43m\"\u001b[39;49m\u001b[38;5;124;43mConverting PDFs of certification reports to txt\u001b[39;49m\u001b[38;5;124;43m\"\u001b[39;49m\u001b[43m,\u001b[49m\n\u001b[1;32m    658\u001b[0m \u001b[43m\u001b[49m\u001b[43m)\u001b[49m\n",
      "File \u001b[0;32m~/Documents/CHESS/sec-certs/src/sec_certs/utils/parallel_processing.py:38\u001b[0m, in \u001b[0;36mprocess_parallel\u001b[0;34m(func, items, max_workers, callback, use_threading, progress_bar, unpack, progress_bar_desc)\u001b[0m\n\u001b[1;32m     36\u001b[0m     done_count \u001b[38;5;241m=\u001b[39m \u001b[38;5;28mlen\u001b[39m(\u001b[38;5;28mlist\u001b[39m(\u001b[38;5;28mfilter\u001b[39m(\u001b[38;5;28;01mlambda\u001b[39;00m x: x, all_done)))\n\u001b[1;32m     37\u001b[0m     bar\u001b[38;5;241m.\u001b[39mupdate(done_count \u001b[38;5;241m-\u001b[39m bar\u001b[38;5;241m.\u001b[39mn)\n\u001b[0;32m---> 38\u001b[0m     \u001b[43mtime\u001b[49m\u001b[38;5;241;43m.\u001b[39;49m\u001b[43msleep\u001b[49m\u001b[43m(\u001b[49m\u001b[38;5;241;43m1\u001b[39;49m\u001b[43m)\u001b[49m\n\u001b[1;32m     39\u001b[0m bar\u001b[38;5;241m.\u001b[39mupdate(\u001b[38;5;28mlen\u001b[39m(results) \u001b[38;5;241m-\u001b[39m bar\u001b[38;5;241m.\u001b[39mn)\n\u001b[1;32m     40\u001b[0m bar\u001b[38;5;241m.\u001b[39mclose()\n",
      "\u001b[0;31mKeyboardInterrupt\u001b[0m: "
     ]
    },
    {
     "name": "stderr",
     "output_type": "stream",
     "text": [
      "Detected garbage during conversion of /home/fstomakhin/Documents/CHESS/sec-certs/notebooks/cc/../../cc_data/certs/reports/pdf/f77d90052ead7dcc.pdf\n",
      "Detected garbage during conversion of /home/fstomakhin/Documents/CHESS/sec-certs/notebooks/cc/../../cc_data/certs/reports/pdf/0752dc8f98749dce.pdf\n"
     ]
    }
   ],
   "source": [
    "dset.convert_all_pdfs()"
   ]
  },
  {
   "cell_type": "code",
   "execution_count": null,
   "id": "dcc140c7",
   "metadata": {},
   "outputs": [
    {
     "data": {
      "text/plain": [
       "True"
      ]
     },
     "execution_count": 15,
     "metadata": {},
     "output_type": "execute_result"
    }
   ],
   "source": [
    "cert = next(iter(dset))"
   ]
  },
  {
   "cell_type": "code",
   "execution_count": null,
   "id": "e1bfeac3-c366-413c-95cc-07b9261fce0b",
   "metadata": {},
   "outputs": [],
   "source": [
    "dset = CCDataset()\n",
    "dset.get_certs_from_web()\n",
    "dset.process_auxiliary_datasets()\n",
    "dset.download_all_artifacts()\n",
    "dset.convert_all_pdfs()\n",
    "dset.analyze_certificates()"
   ]
  },
  {
   "cell_type": "code",
   "execution_count": null,
   "id": "941b62d4",
   "metadata": {},
   "outputs": [],
   "source": []
  },
  {
   "cell_type": "code",
   "execution_count": null,
   "id": "9ddf375d",
   "metadata": {},
   "outputs": [],
   "source": []
  }
 ],
 "metadata": {
  "kernelspec": {
   "display_name": "venv",
   "language": "python",
   "name": "python3"
  },
  "language_info": {
   "codemirror_mode": {
    "name": "ipython",
    "version": 3
   },
   "file_extension": ".py",
   "mimetype": "text/x-python",
   "name": "python",
   "nbconvert_exporter": "python",
   "pygments_lexer": "ipython3",
   "version": "3.10.12"
  }
 },
 "nbformat": 4,
 "nbformat_minor": 5
}
